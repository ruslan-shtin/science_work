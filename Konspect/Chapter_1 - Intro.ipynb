{
 "cells": [
  {
   "cell_type": "markdown",
   "metadata": {},
   "source": [
    "# Планирование экспериментов"
   ]
  },
  {
   "cell_type": "markdown",
   "metadata": {
    "toc": true
   },
   "source": [
    "<h1>Содержание<span class=\"tocSkip\"></span></h1>\n",
    "<div class=\"toc\"><ul class=\"toc-item\"><li><span><a href=\"#«Проклятие-размерности»-и-как-его-избежать\" data-toc-modified-id=\"«Проклятие-размерности»-и-как-его-избежать-1\"><span class=\"toc-item-num\">1&nbsp;&nbsp;</span>«Проклятие размерности» и как его избежать</a></span></li><li><span><a href=\"#Физические-и-численные-эксперименты\" data-toc-modified-id=\"Физические-и-численные-эксперименты-2\"><span class=\"toc-item-num\">2&nbsp;&nbsp;</span>Физические и численные эксперименты</a></span></li><li><span><a href=\"#Проектирование-предварительных-экспериментов-(скрининг)\" data-toc-modified-id=\"Проектирование-предварительных-экспериментов-(скрининг)-3\"><span class=\"toc-item-num\">3&nbsp;&nbsp;</span>Проектирование предварительных экспериментов (скрининг)</a></span><ul class=\"toc-item\"><li><span><a href=\"#Оценка-распределения-элементарных-эффектов\" data-toc-modified-id=\"Оценка-распределения-элементарных-эффектов-3.1\"><span class=\"toc-item-num\">3.1&nbsp;&nbsp;</span>Оценка распределения элементарных эффектов</a></span><ul class=\"toc-item\"><li><span><a href=\"#Весовая-функция-крыла-от-10-переменных\" data-toc-modified-id=\"Весовая-функция-крыла-от-10-переменных-3.1.1\"><span class=\"toc-item-num\">3.1.1&nbsp;&nbsp;</span>Весовая функция крыла от 10 переменных</a></span></li></ul></li></ul></li><li><span><a href=\"#Разработка-плана-по-осуществлению-выборки\" data-toc-modified-id=\"Разработка-плана-по-осуществлению-выборки-4\"><span class=\"toc-item-num\">4&nbsp;&nbsp;</span>Разработка плана по осуществлению выборки</a></span><ul class=\"toc-item\"><li><span><a href=\"#Стратификация\" data-toc-modified-id=\"Стратификация-4.1\"><span class=\"toc-item-num\">4.1&nbsp;&nbsp;</span>Стратификация</a></span></li><li><span><a href=\"#Латинские-квадраты-и-случайные-Латинские-гиперкубы\" data-toc-modified-id=\"Латинские-квадраты-и-случайные-Латинские-гиперкубы-4.2\"><span class=\"toc-item-num\">4.2&nbsp;&nbsp;</span>Латинские квадраты и случайные Латинские гиперкубы</a></span></li><li><span><a href=\"#Латинские-гиперкубы,-заполняющие-пространство\" data-toc-modified-id=\"Латинские-гиперкубы,-заполняющие-пространство-4.3\"><span class=\"toc-item-num\">4.3&nbsp;&nbsp;</span>Латинские гиперкубы, <em>заполняющие пространство</em></a></span><ul class=\"toc-item\"><li><span><a href=\"#Оптимизация-$\\Phi_q$\" data-toc-modified-id=\"Оптимизация-$\\Phi_q$-4.3.1\"><span class=\"toc-item-num\">4.3.1&nbsp;&nbsp;</span>Оптимизация $\\Phi_q$</a></span></li><li><span><a href=\"#Эволюционное-планирование\" data-toc-modified-id=\"Эволюционное-планирование-4.3.2\"><span class=\"toc-item-num\">4.3.2&nbsp;&nbsp;</span>Эволюционное планирование</a></span></li><li><span><a href=\"#Подведём-итог-(Putting-it-all-together)\" data-toc-modified-id=\"Подведём-итог-(Putting-it-all-together)-4.3.3\"><span class=\"toc-item-num\">4.3.3&nbsp;&nbsp;</span>Подведём итог (Putting it all together)</a></span></li></ul></li><li><span><a href=\"#Подмножества,-заполняющие-пространство\" data-toc-modified-id=\"Подмножества,-заполняющие-пространство-4.4\"><span class=\"toc-item-num\">4.4&nbsp;&nbsp;</span>Подмножества, заполняющие пространство</a></span><ul class=\"toc-item\"><li><span><a href=\"#Стратегия-№1:-жадный-алгоритм-локального-поиска\" data-toc-modified-id=\"Стратегия-№1:-жадный-алгоритм-локального-поиска-4.4.1\"><span class=\"toc-item-num\">4.4.1&nbsp;&nbsp;</span>Стратегия №1: жадный алгоритм локального поиска</a></span></li><li><span><a href=\"#Стратегия-№2:-Перестановочный-алгоритм-(exchange-algorithm)\" data-toc-modified-id=\"Стратегия-№2:-Перестановочный-алгоритм-(exchange-algorithm)-4.4.2\"><span class=\"toc-item-num\">4.4.2&nbsp;&nbsp;</span>Стратегия №2: Перестановочный алгоритм (exchange algorithm)</a></span></li></ul></li></ul></li><li><span><a href=\"#Замечание-о-гармонических-откликах\" data-toc-modified-id=\"Замечание-о-гармонических-откликах-5\"><span class=\"toc-item-num\">5&nbsp;&nbsp;</span>Замечание о гармонических откликах</a></span></li><li><span><a href=\"#Указания-для-дальнейшего-чтения\" data-toc-modified-id=\"Указания-для-дальнейшего-чтения-6\"><span class=\"toc-item-num\">6&nbsp;&nbsp;</span>Указания для дальнейшего чтения</a></span></li></ul></div>"
   ]
  },
  {
   "cell_type": "code",
   "execution_count": 1,
   "metadata": {},
   "outputs": [],
   "source": [
    "import numpy as np\n",
    "import matplotlib.pyplot as plt"
   ]
  },
  {
   "cell_type": "markdown",
   "metadata": {},
   "source": [
    "Задача инженерного дизайна: построить \"суррогатную\" модель _f_, которая легко оценивается и имитирует сложное поведение неизвестного объекта __f__.\n",
    "\n",
    "Обозначим $D$ (подмножество k-мерного R-пространства, $D \\subseteq R^k$) - так называемую ___область проектирования___, в которой функция f(x) непрерывна. Но мы можем получать только дискретные значения функции f {$x_i$ → $y_i$ = f($x_i$)|i = 1..n}. Это довольно дорогостоящая процедура. Так что наша задача состоит в том, чтобы используя некоторый набор этих дискретных данных (__выборку__), сконструировать приближённую функцию _f_, с помощью которой можно легко (с малыми затратами по времени и памяти) производить предсказания значения функции f для любого __x__ их $D$.\n",
    "\n",
    "$D$ - область проектирования  \n",
    "__x__ - проектные переменные  \n",
    "__f__ - целевая функция  \n",
    "_f_   - суррогатная модель.  \n",
    "\n",
    "\n",
    "Большая часть этой книги - способы конструирования _f_ по заданной выборке. За исключением нескольких случаев, для которых уже найдены точные математические решения...  \n",
    "Некоторым моделям необходимо минимальное число элементов в выборке _n_...\n",
    "\n",
    "Важно сказать, что сконструированные таким образом функции _f_ по заданной выборке не всегда хорошо обобщаются на всю область $D$. Всё зависит от пришедшей на вход выборки.  \n",
    "Получение этой выборки не всегда зависит от нас: её могли получить исследуя другие вопросы. Однако далее будет описано, как в случае возможности создания своей собственной выборки сделать такую выборку, которая позволит создать хорошо обобщающую данные суррогатную модель _f_."
   ]
  },
  {
   "cell_type": "markdown",
   "metadata": {},
   "source": [
    "## &laquo;Проклятие размерности&raquo; и как его избежать"
   ]
  },
  {
   "cell_type": "markdown",
   "metadata": {},
   "source": [
    "Очевидно, чем больше в задаче переменных, тем сложнее будет функция измерения, с помощью которой мы хотим достаточно точно определить местоположение объекта. Заметим, что если некоторый уровень точности определения положения в одномерном пространстве достигается взятием выборки из $n$ позиций, то в $k$-мерном пространстве для достижения такой же точности необходимо взять выборку из $n^k$ точек. Это и есть \"проклятие размерности\". Поэтому важно с самого начала свести количество _проектных переменных_ $k$ к минимуму.  \n",
    "Задача состоит в том, чтобы среди всех переменных выделить существенные. Но сначала нам нужно сделать несколько общих замечаний о физических и вычислительных экспериментах, двух источниках, которые могут быть использованы для получения целевой функции"
   ]
  },
  {
   "cell_type": "markdown",
   "metadata": {},
   "source": [
    "## Физические и численные эксперименты"
   ]
  },
  {
   "cell_type": "markdown",
   "metadata": {},
   "source": [
    "Существуют 3 источника ошибок, из-за которых результаты эксперимента отклоняются от теоретических расчётов:\n",
    "\n",
    "* __человеческая ошибка__ - осуществляется самим экспериментатором;  \n",
    "* __систематическая ошибка__ - появляется из-за недостаточного соответствия между теорией и экспериментом;\n",
    "* __случайная ошибка__ - появляется из-за наличия погрешности измерений.\n",
    "\n",
    "Главным отличием между последними двумя пунктами является повторяемость. Систематическая составляющая вносит в экспериментальную ошибку всегда одно и то же значение, а случайная - каждый раз будет отличаться, и при большом числе экспериментов она будет принимать как положительные, так и отрицательные значения.  \n",
    "Численные эксперименты (эксперименты, смоделированные на ЭВМ) также подвержены экспериментальной ошибке, возникающей в результате:\n",
    "\n",
    "* __человеческая ошибка__ - 'баги' и ошибки в написанном коде, неверное введённые граничные условия при решении ДУЧП (дифференциального уравнения в частных производных) и т.д.;\n",
    "* __систематическая ошибка__ - например, математическая модель невязкого обтекания тела (аппроксимация, иногда используемая для экономии вычислительного времени) будет недооценивать силы сопротивления, действующие на тело (потому что в течении на самом деле присутствует вязкость). Другой пример - ошибка, вызванная конечностью разрешения численного моделирования (например, ошибка, вызванная малым числом узлов расчётной сетки). Хоть этот тип ошибки может как переоценить значение некоторой величины, так и недооценить, но при повторении эксперимента он сделает точно также.  \n",
    "\n",
    "Таким образом, разница между физическими и численными экспериментами заключается в том, что на вторые не влияет случайная ошибка - численные эксперименты ___детерминированы___.  \n",
    "\n",
    "__Небольшое замечание:__  \n",
    "> Физические экспериментаторы часто используют слово *шум*, имея в виду случайную ошибку. Однако в некоторой литературе по численным экспериментам также встречается слово *шум*, которое должно относится к систематическим ошибкам, потому что там нет случайных.  \n",
    "Чтобы не запутаться, в дальнейшем, когда мы будем говорить об ошибках физических экспериментов, будем писать слово *шум* без кавычек,а когда об ошибках численных экспериментов - будем писать \"шум\" - в кавычках\n",
    ">  \n",
    "\n"
   ]
  },
  {
   "cell_type": "markdown",
   "metadata": {},
   "source": [
    "## Проектирование предварительных экспериментов (скрининг)"
   ]
  },
  {
   "cell_type": "markdown",
   "metadata": {},
   "source": [
    "Ранее мы увидели, насколько важно минимизировать число проектных переменных $x_1, x_2, \\ldots, x_k$ перед тем, как мы попытаемся смоделировать целевую функцию $\\mathbf{f}$. Но как нам добиться такого ___скрининга___ (так мы будем называть этот процесс в дальнейшем), чтобы наш анализ всё ещё имел смысл?  \n",
    "Дифференцируемость функции $\\mathbf{f}$ в области проектирования $D$ по каждой переменной:\n",
    "$$ \\frac{\\partial f}{\\partial x_i}|_x $$ является важным критерием для классификации:\n",
    "\n",
    "* если $\\frac{\\partial f}{\\partial x_i}|_x = 0, \\forall x \\in D$, то переменной $x_i$ можно смело пренебречь,\n",
    "* если $\\frac{\\partial f}{\\partial x_i}|_x = const \\neq 0, \\forall x \\in D$, то влияние переменной $x_i$ линейно и аддитивно,\n",
    "* если $\\frac{\\partial f}{\\partial x_i}|_x = g(x_i) \\neq const, \\forall x \\in D$, то $f$ нелинейна по $x_i$,\n",
    "* если $\\frac{\\partial f}{\\partial x_i}|_x = g(x_i),\\forall x \\in D$, где  $g(x_i, x_j, \\ldots) \\neq const$, то $f$ нелинейна по $x_i$ и участвует во взаимодействиях с $x_j, \\ldots$  \n",
    "\n",
    "Приведенная выше классификация является всего лишь терминологической формулировкой, т.к. на практике мы не можем измерить $\\frac{\\partial f}{\\partial x_i}|_x$ во всей области проектирования.\n",
    "Скрининговое исследование - трудная и ресурсоёмкая задача. Однако нет жёсткого правила относительно того, сколько времени должно быть потрачено на скриннинг переменных, т.к. это в значительной степени зависит от задачи.\n",
    "Если мы ожидаем, что многими переменными можно будет пренебречь, то тщательное скрининговое исследование может значительно повысить точность последующей \"суррогатной\" модели. Однако, если есть (инженерные) основания, полагать, что большинство переменных имеют значительное влияние на целевую функцию, то целесообразно сосредоточить усилия на самом моделировании.  \n",
    "О методах скрининга входных переменных написано много статей (Jones et al., 1998). Их принципы работы варьируются в зависимости от допущений, которые они делают относительно целевой функции и переменных. Здесь мы остановимся на алгоритме, который в 1991 году описал Моррис. Почему мы выбрали именно этот алгоритм? Потому что единственное допущение, которое он делает, заключается в том, что целевая функция детерминирована (это общая особенность для большинства вычислительных моделей)."
   ]
  },
  {
   "cell_type": "markdown",
   "metadata": {},
   "source": [
    "### Оценка распределения элементарных эффектов"
   ]
  },
  {
   "cell_type": "markdown",
   "metadata": {},
   "source": [
    "Без ограничения общности предположим, что наша область проектирования $D$ является $k$-мерным единичным кубом, т.е. $D=[0,1]^k$. Это предположение упростит дальнейшие рассуждения.  \n",
    "\n",
    "Прежде чем приступить к описанию алгоритма Морриса, нам необходимо определить важное статистическое понятие.\n",
    "Ограничим нашу область проектирования $D$ $k$-мерной $p$-уровневой факториальной сеткой, т.е. $x_i \\in \\{0, \\frac{1}{p-1}, \\frac{2}{p-1}, ... , 1\\}$ для   $i = 1,...,k$. Для заранее заданного значения  $\\mathbf{x} \\in D$ определим ___элементарное воздействие___ от  $x_i$ $d_i(x)$, равное\n",
    "\n",
    "$$ d_i(x)=\\frac{y(x_1,x_2,...,x_{i-1},x_i+\\Delta, x_{i+1},...,x_k)-y(x)}{\\Delta}, $$\n",
    "\n",
    "где $\\Delta = \\frac{\\xi}{p-1}, \\xi \\in \\mathbb{N^*}$ и $x \\in D$ такой, что его компоненты $x_i \\leq 1-\\Delta$."
   ]
  },
  {
   "cell_type": "markdown",
   "metadata": {},
   "source": [
    "Метод Морриса используется для оценки параметров распределения элементарных воздействий, связанных с каждой переменной.\n",
    "Принцип заключается в том, что большая величина _центральной тенденции_ (мат. ожидания???) указывает на переменную, имеющую сильное влияние на целевую функцию в области проектирования, а большая _мера разброса_ (дисперсии???) указывает на переменную, по которой $\\mathbf{f}$ не линейна и участвует во взаимодействиях с другими переменными.\n",
    "На практике мы оцениваем выборочное среднее (среднее арифметическое??? $\\overline{x} = \\frac{1}{n} \\sum\\limits_{i=1}^n x_i$) и выборочное стандартное отклонение(среднеквадратичное отклонение ??? $\\sigma = \\sqrt{D[x]}$) набора значений $d_i(x)$, рассчитанных в различных частях проектного пространства."
   ]
  },
  {
   "cell_type": "markdown",
   "metadata": {},
   "source": [
    "Ясно, что желательно сгенерировать предварительный план выборки $\\mathbf{X}$ так, чтобы каждая оценка целевой функции $\\mathbf{f}$ участвовала в вычислении двух элементарных воздействий (вместо одного, как если бы мы использовали случайное распределение $\\mathbf{x}$ и затем добавляли $\\Delta$ к одной из его компонент). Также, план выборки должен дать нам вполне конкретное число (например, $r$) элементарных воздействий для каждой переменной."
   ]
  },
  {
   "cell_type": "markdown",
   "metadata": {},
   "source": [
    "Пусть $\\mathbf{B}$ является ___матрицей выборки___, т.е. матрицей размерности $k+1 \\times k$ состоящей из нулей и единиц с тем свойством, что для каждого столбца $i=\\overline{1,k}$ есть две строки $\\mathbf{B}$, которые отличаются только $i$-ым элементом (далее мы напишем функцию реализующую такую матрицу). Затем мы вычисляем $\\mathbf{B}^*$ - ___случайную ориентацию___ матрицы $\\mathbf{B}$:\n",
    "\n",
    "$$ B^* = \\left(\\mathbf{1}_{k+1,1}x^* + \\frac{\\Delta}{2} \\left[(2B - \\mathbf{1}_{k+1,k})D^* + \\mathbf{1}_{k+1,k} \\right] \\right) P^*, $$\n",
    "\n",
    "где $D^*$ - это $k$-мерная диагональная матрица, где каждый элемент равен +1 или -1 с равной вероятностью, $\\mathbf{1}_{k+1,k}$ - это матрица единиц, $x^*$ - это случайно выбранная точка нашей дискретизированной $p$-уровневой области проектирования (ограниченной по краям $\\Delta$, как было сказано ранее) и $P^*$ - это матрица случайной перестановки столбцов размером $k \\times k$, в которой каждый столбец содержит всего одну единицу, а все остальные элементы равны нулю, при этом у любой пары столбцов единицы стоят в разных строках. Далее приведена реализация данного выражения на языке Python."
   ]
  },
  {
   "cell_type": "code",
   "execution_count": 2,
   "metadata": {},
   "outputs": [],
   "source": [
    "def randorient(k,p, xi):\n",
    "    \"\"\"\n",
    "    Генерирует случайную ориентацию скрининговой матрицы.\n",
    "\n",
    "    Вход:\n",
    "        k - число проектных перемненных\n",
    "        p - число дискретных уровней в каждой размерности области проектирования\n",
    "        xi - коэффициент элементарного воздействия(???)\n",
    "\n",
    "    Выход:\n",
    "        Bstar - случайная ориентация матрицы\n",
    "    \"\"\"\n",
    "    \n",
    "    Delta = xi/(p-1)\n",
    "    m = k+1\n",
    "    \n",
    "    # сужение p-уровневой сетки\n",
    "    xs = np.hstack((np.arange(0, 1-Delta, 1/(p-1)),1-Delta))\n",
    "    xsl = len(xs)    \n",
    "    \n",
    "    #Матрица выборки\n",
    "    B = np.zeros((k+1,k))\n",
    "    B[0,:] = np.zeros((1,k))\n",
    "    B[1:,:] = np.tril(np.ones((k,k)))\n",
    "    \n",
    "    #Рандомизация\n",
    "    \n",
    "    #k-мерная диагональная матрица, где каждый элемент \n",
    "    #равен +1 или -1 с равной вероятностью\n",
    "    Dstar = np.diag(np.int64(np.round(np.random.rand(k)))*2-1)\n",
    "    \n",
    "    #Перестановочная матрица\n",
    "    Pstar = np.zeros((k,k))\n",
    "    rp = np.random.permutation(k)\n",
    "    for i in np.arange(k):\n",
    "        Pstar[i][rp[i]] = 1\n",
    "        \n",
    "    \n",
    "    #случайно выбранная точка\n",
    "    xstar = xs[np.int64(np.floor(np.random.rand(k)*xsl))]\n",
    "    xstar = np.reshape(xstar, (1, k))\n",
    "\n",
    "    \n",
    "#   Bstar = np.dot((np.dot(np.ones((m,1)),xstar) + (Delta/2) * (np.dot((2*B - np.ones((m,k))),Dstar) + np.ones(m,k))), Pstar)\n",
    "#   разобъём вычисления на отдельные действия (удобно при отладке)\n",
    "\n",
    "    ones_xstar = np.dot(np.ones((m,1)),xstar)\n",
    "    twoB_minus_ones = 2*B - np.ones((m,k))\n",
    "    B_ones_Dstar = np.dot(twoB_minus_ones, Dstar)    \n",
    "    B_Dstar_plus_ones = B_ones_Dstar + np.ones((m,k))\n",
    "    circle_breakets = ones_xstar + (Delta/2) * B_Dstar_plus_ones\n",
    "\n",
    "    Bstar = np.dot(circle_breakets, Pstar)\n",
    "\n",
    "    return Bstar"
   ]
  },
  {
   "cell_type": "markdown",
   "metadata": {},
   "source": [
    "Чтобы получить $r$ элементарных воздействий для каждой переменной  план скрининга строится из $r$ случайных ориентаций:\n",
    "$$ X = \\left[\\begin{array}{crl} B^*_1\\\\ B^*_2\\\\ ... \\\\ B^*_r \\end{array}\\right]. $$"
   ]
  },
  {
   "cell_type": "code",
   "execution_count": 3,
   "metadata": {},
   "outputs": [],
   "source": [
    "def screeningplan(k, p , xi, r):\n",
    "    \"\"\"\n",
    "    Генерирует Моррисовский скрининговый план с заданным \n",
    "    числом элементарных воздействий для каждой переменной\n",
    "    \n",
    "    Вход:\n",
    "        k - число проектных перемненных\n",
    "        p - число дискретных уровней в каждой размерности области проектирования\n",
    "        xi - коэффициент элементарного воздействия(???)\n",
    "        r - число случайных ориентаций (=число элементарных \n",
    "            воздействий на кажду переменную)\n",
    "    Выход:\n",
    "        X - скрининговый план внутри к-мерного куба [0,1]^k\n",
    "    \"\"\"\n",
    "    \n",
    "    X = randorient(k,p,xi)\n",
    "    for i in np.arange(1, r):\n",
    "        X = np.append(X, randorient(k,p,xi), axis=0)\n",
    "    \n",
    "    return X"
   ]
  },
  {
   "cell_type": "markdown",
   "metadata": {},
   "source": [
    "Затем мы посчитаем значение функции _f_ для каждой строки $X$. В дальнейшем мы будем хранить эти значения целевой функции в векторе-столбце $t_{r(k+1) \\times 1}$. Взяв по одной случайной ориентации за раз, соседние строки из матрицы скринингового плана и соответствующие значения функции f могут быть вставлены в уравнение (2) для получения $k$ элементарных воздействий (по одному для каждой переменной).  \n",
    "После того как собрана выборка из _r_ элементарных воздейтвий, средние значения выборок и стандартные отклонения выборок могут быть вычислены и представлены на одной и той же диаграмме для сравнения."
   ]
  },
  {
   "cell_type": "code",
   "execution_count": 4,
   "metadata": {},
   "outputs": [],
   "source": [
    "def screeningplot(X, Objhandle, Range, xi, p, Labels):\n",
    "    \"\"\"\n",
    "    Генерирует график скрининга переменных элементарных воздействий\n",
    "    Вход:\n",
    "        X - скрининговый план внутри к-мерного куба [0,1]^k\n",
    "        Objhandle - целевая функция\n",
    "        Range - матрица 2 на к (к - число проектных переменных) нижних(первая строка) \n",
    "                и верхних(вторая строка) границ для каждой переменной\n",
    "        p - число дискретных уровней в каждой размерности области проектирования\n",
    "        xi - коэффициент элементарного воздействия(???)\n",
    "        Labels - массив (1 на к) имён переменных\n",
    "    \"\"\"\n",
    "    k = X.shape[1] #число столбцов матрицы X =  число проектных переменных\n",
    "    r = X.shape[0]//k\n",
    "    t = []\n",
    "    \n",
    "    for i in np.arange(X.shape[0]):\n",
    "        X[i,:] = Range[0,:] + X[i,:]*(Range[1,:] - Range[0,:])\n",
    "        t.append(Objhandle(*list(X[i,:])))\n",
    "    \n",
    "\n",
    "    F = np.zeros((k,r))\n",
    "    for i in np.arange(r):\n",
    "        for j in np.arange(i*(k+1), i*(k+1)+k):\n",
    "            F[(np.where(X[j,:] - X[j+1,:] != 0))[0].ravel(),i] = (t[j+1] - t[j])/(xi/(p-1))\n",
    "    \n",
    "        \n",
    "    #вычисляем статистические величины\n",
    "    ssd=[]\n",
    "    sm=[]\n",
    "    for i in np.arange(k):\n",
    "        ssd.append(np.std(F[i,:]))\n",
    "        sm.append(np.mean(F[i,:]))\n",
    "        \n",
    "    size = 10\n",
    "    plt.figure(figsize=(size,size))\n",
    "    plt.xlabel('Sample_means', fontsize=16)\n",
    "    plt.ylabel('Sample_standart_deviations', fontsize=16)\n",
    "    plt.xlim(min(sm), max(sm))\n",
    "    plt.ylim(min(ssd), max(ssd))\n",
    "    \n",
    "    for i in np.arange(k):\n",
    "        plt.text(sm[i],ssd[i],Labels[i], fontsize=25)"
   ]
  },
  {
   "cell_type": "code",
   "execution_count": 5,
   "metadata": {},
   "outputs": [
    {
     "data": {
      "image/png": "[encoded data removed]",
      "text/plain": [
       "<Figure size 720x720 with 1 Axes>"
      ]
     },
     "metadata": {
      "needs_background": "light"
     },
     "output_type": "display_data"
    }
   ],
   "source": [
    "def func(Sw, Wfw, A, L, q, l, tc, Nz, Wdg, Wp):\n",
    "    W = 0.036 * Sw**0.758 * Wfw**0.0035 * (A / np.cos(L*np.pi/180)**2)**0.6 * q**0.006 * l**0.04 * (100*tc/np.cos(L*np.pi/180))**(-0.3) * (Nz*Wdg)**0.49 + Sw*Wp\n",
    "    return W\n",
    "\n",
    "k = 10\n",
    "p = 50\n",
    "xi = 1\n",
    "r = 5\n",
    "X = screeningplan(k,p,xi,r)\n",
    "Range = np.array([[150.0, 220.0, 6.0, -10.0, 16.0, 0.5, 0.08, 2.5, 1700.0, 0.025],\n",
    "                  [200.0, 300.0, 10.0, 10.0, 45.0, 1.0, 0.18, 6.0, 2500.0, 0.08]])\n",
    "Labels = ['Sw', 'Wfw', 'A', 'L', 'q', 'l', 'tc', 'Nz', 'Wdg', 'Wp']\n",
    "\n",
    "screeningplot(X, func, Range, xi, p , Labels)"
   ]
  },
  {
   "cell_type": "markdown",
   "metadata": {},
   "source": [
    "Прежде чем проиллюстрировать процесс примером инженерного проектирования, стоит упомянуть два сценария, где развертывание описанного выше алгоритма требует особой осторожности.  \n",
    "Во-первых, если размерность k пространства относительно мала и мы можем позволить себе большое значение _r_, то следует иметь в виду повышенную вероятность того, что одна и та же конструкция появится дважды в $X$. Если ответы в точках выборки детерминированы, то, конечно, нет смысла повторять оценку. Эта проблема возникает не особенно часто, так как при скрининге пространств с большими размерностями обычно требуется _большое_ количество элементарных воздействий. \n",
    "Во-вторых, программы численного моделирования иногда не возвращают разумный результат из-за ошибок сетки, неспособности решения дифференциального уравнения в частных производных сходиться и т. д. С точки зрения скрининга это важно, поскольку все случайные ориентации $B^*$  будут под угрозой, если вычисление целевой функции не удаётся для одной из точек.  "
   ]
  },
  {
   "cell_type": "markdown",
   "metadata": {},
   "source": [
    "#### Весовая функция крыла от 10 переменных"
   ]
  },
  {
   "cell_type": "markdown",
   "metadata": {},
   "source": [
    "Рассмотрим следующее аналитическое выражение, используемое в качестве концептуального уровня оценки веса крыла легкого самолета:\n",
    "$$W = 0.036S^{0.758}_wW^{0.0035}_{fw}(\\frac{A}{cos^2\\Lambda})^{0.6}q^{0.006}\\lambda^{0.04}(\\frac{100tc}{cos\\Lambda})^{-0.3}(N_zW_{dg})^{0.49}+S_wW_p.$$"
   ]
  },
  {
   "cell_type": "markdown",
   "metadata": {},
   "source": [
    "Таблица 1.1 содержит номенклатуру символов, используемых в уравнении (5), а также набор основных значений, приблизительно представляющих самолет Cessna C172 Skyhawk и несколько произвольно выбранный диапазон для каждой переменной. Эти основные значения и диапазоны были использованы для создания заполненного контурного графика весовой функции (см. рис. 1.1) путем попарного изменения входных данных и сохранения оставшихся переменных на базовом значении."
   ]
  },
  {
   "cell_type": "markdown",
   "metadata": {},
   "source": [
    "__Таблица 1.1.__  Номенклатура примера задачи скрининга с десятью переменными\n",
    "\n",
    "| Символ    | Параметр                                            | Основное значение | Мин.знач | Макс.знач |\n",
    "| ------    | ------------------------                            | ----------------- | -------- | --------- |\n",
    "| $S_w$     | площадь крыла                                       | 174               | 150      | 200       |\n",
    "| $W_{fw}$  | вес топлива в крыле                                 | 252               | 220      | 300       |\n",
    "| $A$       | Соотношение сторон                                  | 7.52              | 6        | 10        |\n",
    "| $\\Lambda$ | Четверть-хордовая развертка (град)                  | 0                 | -10      | 10        |\n",
    "| $q$       | Скоростной напор???                                 | 34                | 16       | 45        |\n",
    "| $\\lambda$ | Коэффициент конусности                              | 0.672             | 0.5      | 1         |\n",
    "| $tc$      | Отношение толщины аэродинамического профиля к хорде | 0.12              | 0.08     | 0.18      |\n",
    "| $N_z$     | Предельный коэффициент нагрузки                     | 3.8               | 2.5      | 6         |\n",
    "| $W_{dg}$  | Полная масса лётной конструкции                     | 2000              | 1700     | 2500      |\n",
    "| $W_p$     | Вес краски                                          | 0.064             | 0.025    | 0.08      |\n"
   ]
  },
  {
   "cell_type": "markdown",
   "metadata": {},
   "source": [
    "[image 1.1]: ///home/ruslan/Изображения/graph"
   ]
  },
  {
   "cell_type": "markdown",
   "metadata": {},
   "source": [
    "![](///home/ruslan/Изображения/graph/150x150)"
   ]
  },
  {
   "cell_type": "markdown",
   "metadata": {},
   "source": [
    "<!-- ![graph](img/graph.jpg \"график\") -->\n",
    "<img src=\"img/graph.jpg\" alt=\"график\" style=\"width:75%;\"/>\n",
    "\n",
    "__Рис. 1.1.__ Легкий самолет с массой крыла $W$. Каждая плитка показывает контур весовой функции (уравнение (5)) по сравнению с двумя из десяти переменных, а остальные восемь переменных удерживаются на базовом значении"
   ]
  },
  {
   "cell_type": "markdown",
   "metadata": {},
   "source": [
    "Итак, что же показывает сюжет с точки зрения активности переменных? Как и ожидалось, например, вес на единицу площади поверхности краски $W_p$ не оказывает большого влияния на форму поверхности, тогда как коэффициент нагрузки $N_z$ (который определяет величину максимальной аэродинамической нагрузки на крыло) явно очень активен и участвует во взаимодействии с другими переменными. Классическим примером является взаимодействие с соотношением сторон $A$:  область в верхнем правом углу веса по сравнению с $A$ и $N_z$ указывает на тяжелое крыло для высоких соотношений сторон и больших g-сил (это причина, по которой высоко маневренные истребители не могут иметь очень эффективные, похожие на планеры крылья).  \n",
    "\n",
    "Однако здесь нас интересует, насколько все это можно было бы предположить просто из незатратного скринингового исследования, без понимания инженерной значимости задействованных переменных (что довольно часто имеет место в инженерном проектировании) и без возможности вычислить такой участок плитки (что почти всегда имеет место в инженерном проектировании – в конце концов, если бы целевая функция _f_ была настолько простой для вычисления, мы бы все равно не думали о суррогатном моделировании)."
   ]
  },
  {
   "cell_type": "markdown",
   "metadata": {},
   "source": [
    "Итак, что же показывает рисунок 1.2, изображающий результаты скринингового исследования при r = 5? Первое наблюдение, которое мы можем сделать, состоит в том, что существует четко определенная группа переменных, сгруппированных вокруг источника – напомним, что небольшая мера центральной тенденции(мат.ожидания???) является особенностью входных данных с небольшим влиянием на целевую функцию. Действительно, здесь мы видим, что вес краски, как и ожидалось, а также динамическое давление(скоростной напор??) имеют малую меру центральной тенденции. То же самое рассуждение применимо (и подтверждается таблицей 1.1) к коэффициенту конусности и развертке четверти хорды.  \n",
    "\n",
    "<!-- ![ssd_sm](img/ssd_sm.png){ width = 50% } -->\n",
    "<img src=\"img/ssd_sm.png\" alt=\"ssd_sm\" style=\"width:75%;\"/>\n",
    "\n",
    "__Рис. 1.2.__ Оценки средних и стандартных отклонений распределений элементарных воздействий каждой из 10 переменных веса крыла в данном примере."
   ]
  },
  {
   "cell_type": "markdown",
   "metadata": {},
   "source": [
    "Хотя среднее значение все еще близко к нулю, переменная с наибольшей центральной тенденцией в этой группе - это вес топлива $W_{fw}$. Его выборка элементарных воздействий имеет очень низкое стандартное отклонение и среднее значение немного больше, чем у остальной группы, что указывает на то, что он более важен, чем предыдущие параметры, но не участвует в межпеременных взаимодействиях. График показывает, что $A$ и $tc$ имеют одинаковую важность, а из-за высоких значений стандартного отклонения они имеют нелинейный/интерактивный эффект на целевую функцию.  \n",
    "\n",
    "Наконец, неудивительно, что большая центральная тенденция и большая мера разброса указывают на то, что $W_{dg}$, $S_w$ и $N_z$ оказывают наиболее значительное влияние на вес крыла. Конечно, авиаконструкторы знают, что общий вес самолета и площадь крыла должны быть сведены к минимуму (последнее обычно диктуется такими ограничениями, как требуемая скорость сваливания, посадочная дистанция, скорость разворота и т. д.) И что требование высокого коэффициента нагрузки $N_z$ приведет к необходимости использования прочных, тяжелых крыльев. На самом деле, именно поэтому мы использовали такую хорошо понятную функцию здесь, чтобы проиллюстрировать работу алгоритма скрининга.  \n",
    "\n",
    "Мы кратко вернемся к вопросу установления уровня важности (или активности) переменных целевой функции в разделе о моделях Кригинга. А теперь давайте рассмотрим следующий этап процесса моделирования. С помощью активных переменных, идентифицированных (либо с помощью инженерного суждения, либо с помощью систематического скринингового исследования), мы можем теперь спроектировать основной план осуществления выборки в проектном пространстве, определяемом этими переменными. Это послужит основой для данных, на которых будет строиться суррогатная модель."
   ]
  },
  {
   "cell_type": "markdown",
   "metadata": {},
   "source": [
    "## Разработка плана по осуществлению выборки"
   ]
  },
  {
   "cell_type": "markdown",
   "metadata": {},
   "source": [
    "### Стратификация\n",
    "\n",
    "\n",
    "    Стратификация – это упорядочение объектов системы по уровням (стратам) с целью создания иерархического описания системы \n",
    "\n",
    "\n",
    "Общей особенностью всех аппроксимирующих моделей, рассмотренных в этой книге, является то, что они более точны вблизи точек, в которых мы оценивали целевую функцию. В последующих главах мы познакомимся с законами, определяющими зависимость правильности модели от расстояния до этих точек. Но на данный момент мы просто сделаем интуитивный вывод: для равномерного уровня точности модели необходимо равномерное распределение точек. Такой план выборки называют _заполняющим пространство_.  \n",
    "Самый простой метод такой выборки - это прямоугольная сетка точек. Это полный факториальный метод, т.е. он подвержен \"проклятию размерности\".  \n",
    "Вот упрощённая версия функции на Python, которая должна сгенерировать полный факториальный план выборки в единичном гиперкубе."
   ]
  },
  {
   "cell_type": "code",
   "execution_count": 6,
   "metadata": {},
   "outputs": [],
   "source": [
    "def fullfactorial(q, Edges=1):\n",
    "    \"\"\"\n",
    "    Генерирует полный факториальный план выборки в единичном кубе\n",
    "    \n",
    "    Вход:\n",
    "        q - к-мерный вектор, содержащий число точек выборки вдоль\n",
    "            каждой оси гиперкуба\n",
    "        Edges - если Edges=1, то точки выборки будут браться на одинаковом\n",
    "                расстоянии от края до края,\n",
    "                иначе точки будут браться в центрах ячеек  n = q1*q2*...*qk,\n",
    "                заполняющих единичный гиперкуб.\n",
    "    Выход:\n",
    "        X - полный факториальный план выборки\n",
    "    \"\"\"\n",
    "    if np.min(q) < 2:\n",
    "        print(\"Error: в кажом измеренеии должно быть хотя бы две точки\")\n",
    "        print(f\"q = {q}\")\n",
    "        return\n",
    "\n",
    "    #Общее число точек в плане выборки\n",
    "    n = np.prod(q)\n",
    "    \n",
    "    #Число измерений гиперкуба\n",
    "    k = len(q)\n",
    "    \n",
    "    #Выделим место для будущего плана выборки\n",
    "    X = np.zeros((n, k))\n",
    "    \n",
    "    #Вспомогательный элемент\n",
    "    q = np.append(q, 1)\n",
    "    \n",
    "    for j in np.arange(k):\n",
    "        if Edges == 1:\n",
    "            one_d_slice = np.hstack((np.arange(0, 1, 1 / (q[j]-1)), 1))\n",
    "        else:\n",
    "            one_d_slice = np.hstack((np.array(1 / (2*q[j]), 1, 1 / q[j]),1))\n",
    "        \n",
    "        column = np.array([])\n",
    "        while len(column) < n:\n",
    "            for l in np.arange(q[j]):\n",
    "                column = np.concatenate([column, one_d_slice[l] * np.ones((np.prod(q[j+1:])))])\n",
    "        \n",
    "        X[:,j] = column\n",
    "    \n",
    "    return X"
   ]
  },
  {
   "cell_type": "markdown",
   "metadata": {},
   "source": [
    "_Пример_ : рассмотрим обычный трёхмерный куб. Пусть (q1,q2,q3) = (3,4,5), тогда имеем следующие сетки по осям:\n",
    "    1. по первой: [0, 0.5, 1]\n",
    "    2. по второй: [0, 1/3, 2/3, 1]\n",
    "    3. по третей: [0, 1/4, 1/2, 3/4, 1]  \n",
    "    \n",
    "В итоге полный факториальный план выборки $X$ имеет вид:  "
   ]
  },
  {
   "cell_type": "code",
   "execution_count": 7,
   "metadata": {},
   "outputs": [
    {
     "data": {
      "text/plain": [
       "array([[0.        , 0.        , 0.        ],\n",
       "       [0.        , 0.        , 0.25      ],\n",
       "       [0.        , 0.        , 0.5       ],\n",
       "       [0.        , 0.        , 0.75      ],\n",
       "       [0.        , 0.        , 1.        ],\n",
       "       [0.        , 0.33333333, 0.        ],\n",
       "       [0.        , 0.33333333, 0.25      ],\n",
       "       [0.        , 0.33333333, 0.5       ],\n",
       "       [0.        , 0.33333333, 0.75      ],\n",
       "       [0.        , 0.33333333, 1.        ],\n",
       "       [0.        , 0.66666667, 0.        ],\n",
       "       [0.        , 0.66666667, 0.25      ],\n",
       "       [0.        , 0.66666667, 0.5       ],\n",
       "       [0.        , 0.66666667, 0.75      ],\n",
       "       [0.        , 0.66666667, 1.        ],\n",
       "       [0.        , 1.        , 0.        ],\n",
       "       [0.        , 1.        , 0.25      ],\n",
       "       [0.        , 1.        , 0.5       ],\n",
       "       [0.        , 1.        , 0.75      ],\n",
       "       [0.        , 1.        , 1.        ],\n",
       "       [0.5       , 0.        , 0.        ],\n",
       "       [0.5       , 0.        , 0.25      ],\n",
       "       [0.5       , 0.        , 0.5       ],\n",
       "       [0.5       , 0.        , 0.75      ],\n",
       "       [0.5       , 0.        , 1.        ],\n",
       "       [0.5       , 0.33333333, 0.        ],\n",
       "       [0.5       , 0.33333333, 0.25      ],\n",
       "       [0.5       , 0.33333333, 0.5       ],\n",
       "       [0.5       , 0.33333333, 0.75      ],\n",
       "       [0.5       , 0.33333333, 1.        ],\n",
       "       [0.5       , 0.66666667, 0.        ],\n",
       "       [0.5       , 0.66666667, 0.25      ],\n",
       "       [0.5       , 0.66666667, 0.5       ],\n",
       "       [0.5       , 0.66666667, 0.75      ],\n",
       "       [0.5       , 0.66666667, 1.        ],\n",
       "       [0.5       , 1.        , 0.        ],\n",
       "       [0.5       , 1.        , 0.25      ],\n",
       "       [0.5       , 1.        , 0.5       ],\n",
       "       [0.5       , 1.        , 0.75      ],\n",
       "       [0.5       , 1.        , 1.        ],\n",
       "       [1.        , 0.        , 0.        ],\n",
       "       [1.        , 0.        , 0.25      ],\n",
       "       [1.        , 0.        , 0.5       ],\n",
       "       [1.        , 0.        , 0.75      ],\n",
       "       [1.        , 0.        , 1.        ],\n",
       "       [1.        , 0.33333333, 0.        ],\n",
       "       [1.        , 0.33333333, 0.25      ],\n",
       "       [1.        , 0.33333333, 0.5       ],\n",
       "       [1.        , 0.33333333, 0.75      ],\n",
       "       [1.        , 0.33333333, 1.        ],\n",
       "       [1.        , 0.66666667, 0.        ],\n",
       "       [1.        , 0.66666667, 0.25      ],\n",
       "       [1.        , 0.66666667, 0.5       ],\n",
       "       [1.        , 0.66666667, 0.75      ],\n",
       "       [1.        , 0.66666667, 1.        ],\n",
       "       [1.        , 1.        , 0.        ],\n",
       "       [1.        , 1.        , 0.25      ],\n",
       "       [1.        , 1.        , 0.5       ],\n",
       "       [1.        , 1.        , 0.75      ],\n",
       "       [1.        , 1.        , 1.        ]])"
      ]
     },
     "execution_count": 7,
     "metadata": {},
     "output_type": "execute_result"
    }
   ],
   "source": [
    "q = np.array([3,4,5])\n",
    "X = fullfactorial(q)\n",
    "X"
   ]
  },
  {
   "cell_type": "markdown",
   "metadata": {},
   "source": [
    "![fullfactorial](img/fullfactorial.bmp)  \n",
    "__Рис. 1.3.__ Пример трёхмерного полнофакториального плана выборки"
   ]
  },
  {
   "cell_type": "markdown",
   "metadata": {},
   "source": [
    "Очевидно, что такая конструкция удовлетворяет критерию однородности. Но она имеет два существенных недостатка.\n",
    "Во-первых, такой план определён только для конструкций определённых размеров, которые могут быть записаны как произведение количеств точек вдоль каждой оси, т.е. $n = q_1 \\times q_2 \\times ... \\times q_k$.  \n",
    "Во-вторых, при проецировании на оси наборы точек будут перекрываться, и можно утверждать, что выборку для любой отдельной переменной можно улучшить, убедившись, что эти проекции являются как можно более однородными.  \n",
    "Это может быть сделано путем разбиения диапазона значений этой переменной на относительно большое число ячеек одинакового размера и генерации случайных подвыборок одинакового размера внутри этих ячеек. Этот подход известен как _стратифицированная случайная выборка_. Естественным развитием этой идеи является создание плана выборки, стратифицированного по всем его измерениям. Обычно используют метод _Латинской гиперкубической выборки_."
   ]
  },
  {
   "cell_type": "markdown",
   "metadata": {},
   "source": [
    "### Латинские квадраты и случайные Латинские гиперкубы"
   ]
  },
  {
   "cell_type": "markdown",
   "metadata": {},
   "source": [
    "Как уже было сказано, стратификация плана выборки направлена на создание точек, проекции которых на оси переменных однородны. Прежде чем мы рассмотрим общие методы построения таких планов, стоит рассмотреть случай дискретнозначных переменных в двух измерениях. Такие однородные проекционные планы могут быть сгенерированы довольно легко: если требуется $n$ ???точек измерения???, то квадрат $n \\times n$ строится путём заполнения каждого столбца и каждой строки некоторой перестановкий $\\{1,2,...,n\\}$, то есть каждое число должно только один раз появляться в каждом столбце и в каждой строке. Например, для $n=4$ _Латинский квадрат_ (так обычно называют такие планы выборки) имеет вид:  \n",
    "\n",
    "\n",
    "![LSQ](img/Latin_Square_n=4.bmp)  \n",
    "\n",
    "Мы выделили единички (__1__), чтобы проиллюстрировать идею равномерной проекции, но, конечно, мы могли бы выбрать 2, 3 или 4 с тем же успехом. Кроме того, это всего лишь один произвольно выбранный четырехточечный латинский квадрат – мы могли бы с равным успехом выбрать любой из других 575 возможных вариантов. Кстати, число различных латинских квадратов довольно резко возрастает с ростом n; например, существует 108 776 032 459 082 956 800 латинских квадратов восьмого порядка! (Доказательство данного факта предоставлено читателю в качестве упражнения.)\n",
    "\n",
    "Построение _Латинского гиперкуба_ (многомерного расширения Латинского квадрата) можно сделать аналагичным образом: разделить Область Проектирования на гиперкубы одинакового размера (ячейки) и поместить точки в эти ячейки (по одно точке в ячейку) таким образом, чтобы выполнялось следующее условие. Через каждую точку проведём линии, параллельные осям гиперкуба. Тогда каждая такая линия должна проходить ровно через одну точку. Выполнение данного условия проиллюстрировано на рис. 1.4. для трёхмерного куба  \n",
    "![LHC3D](img/LatinHiperCube3D.bmp)  \n",
    "__Рис. 1.4.__ Трёхпеременный десятиточечный план выборки с помощью Латинского гиперкуба. Показан в трёх измерениях(сверху слева) вместе с его двумерными проекциями. Все десять точек видны на каждой из проекций, и каждая строка и столбец ячеек содержит ровно одну точку."
   ]
  },
  {
   "cell_type": "markdown",
   "metadata": {},
   "source": [
    "Мы получаем такой план выборки следующим образом. Если $X$ - это матрица $n \\times k$, в которой мы хотим записать этот план (каждая строчка обозначает одну точку) то мы начинаем заполнение $X$ случайными перестановками $\\{1,2,...,n\\}$ в каждом столбце и нормализуем наш план в $k$-мерном кубе $[0,1]^k$. Далее представлена реализация этого алгоритма на Python:"
   ]
  },
  {
   "cell_type": "code",
   "execution_count": 8,
   "metadata": {},
   "outputs": [],
   "source": [
    "def rlh(n, k , Edges=0):\n",
    "    \"\"\"\n",
    "    Генерирует случайный k-переменный n-точечный план выборки \n",
    "    с помощью Латинского гиперкуба\n",
    "    \n",
    "    Вход:\n",
    "        n - желаемое количество точек\n",
    "        k - число проектных переменных (количество измерений)\n",
    "        Edges - если Edges=1, то крайние ячейки будут иметь свой центр \n",
    "                на краю области,\n",
    "                иначе ячейки будут полностью содержаться в области\n",
    "    Выход:\n",
    "        X - k-переменный n-точечный План выборки с помощью \n",
    "        Латинского гиперкуба\n",
    "    \"\"\"\n",
    "    \n",
    "    #Выделим место для будущего плана выборки\n",
    "    X = np.zeros((n, k))\n",
    "    \n",
    "    for i in np.arange(k):\n",
    "        X[:,i] = 1 + np.random.permutation(n)\n",
    "    if Edges==1:\n",
    "        X = (X - 1) / (n-1)\n",
    "    else:\n",
    "        X = (X - 0.5) / n\n",
    "    return X"
   ]
  },
  {
   "cell_type": "code",
   "execution_count": 9,
   "metadata": {},
   "outputs": [
    {
     "data": {
      "text/plain": [
       "<matplotlib.collections.PathCollection at 0x2e2a291f588>"
      ]
     },
     "execution_count": 9,
     "metadata": {},
     "output_type": "execute_result"
    },
    {
     "data": {
      "image/png": "[encoded data removed]",
      "text/plain": [
       "<Figure size 432x288 with 1 Axes>"
      ]
     },
     "metadata": {
      "needs_background": "light"
     },
     "output_type": "display_data"
    }
   ],
   "source": [
    "y = rlh(4,2)\n",
    "plt.scatter(y[0][0], y[0][1])\n",
    "plt.scatter(y[1][0], y[1][1])\n",
    "plt.scatter(y[2][0], y[2][1])\n",
    "plt.scatter(y[3][0], y[3][1])"
   ]
  },
  {
   "cell_type": "markdown",
   "metadata": {},
   "source": [
    "Таким образом, приведенный выше метод даст рандомизированный план выборки, проекции которого на ось равномерно распределены (многомерная стратификация). Однако, это не гаратирует, что план будет _заполняющим пространство_ , потому что размещение всех точек на главной диагонали области проектирования будет отвечать критерию многомерной стратификации, но ,интуитивно, не будет заполнять имеющееся пространство равномерно.  \n",
    "Поэтому нам нужна некоторая мера равномерности, которая позволит нам различить \"хорошие\" и \"плохие\" Латинские гиперкубы."
   ]
  },
  {
   "cell_type": "markdown",
   "metadata": {},
   "source": [
    "### Латинские гиперкубы, _заполняющие пространство_"
   ]
  },
  {
   "cell_type": "markdown",
   "metadata": {},
   "source": [
    "Одной из наиболее распространённых мер равномерности плана выборки является метрика ___максимума и минимума___ (___MaxMin___) (1990г, Джонсон и соавторы). Разъясним суть этой метрики.  \n",
    "Пусть $d_1, \\,d_2, ... d_m$ список уникальных значений расстояний между всеми возможными парами точек в плане выборки $X$, отсортированных в порядке возрастания. Далее, пусть $J_1, \\,J_2, ... J_m$ - это список таких чисел, что $J_j$ равно числу пар точек в $X$, расстояние между которыми равно $d_j$.  "
   ]
  },
  {
   "cell_type": "markdown",
   "metadata": {},
   "source": [
    "__Определение 1.1.__  \n",
    "Если выполнены следующие условия:\n",
    "1. среди всех возможных планов выборки $X$ имеет максимальное значение величины $d_1$\n",
    "2. при этом значение величины $J_1$ минимально,  \n",
    "\n",
    "тогда $X$ называется __максимально минимальным(максиминовым)__ планом выборки среди всех возможных планов."
   ]
  },
  {
   "cell_type": "markdown",
   "metadata": {},
   "source": [
    "Очевидно, что это определение может быть применено к любому набору планов выборки, но мы ограничим нашу область исследования классом латинских гиперкубов из-за их хороших стратификационных свойств. Тем не менее, даже в этой более узкой области _Определение 1.1_ все ещё может дать несколько максиминовых конструкций. Поэтому мы будем использовать более полное __определение__, избавляющее от неоднозначности, __Морриса и Митчела__(1995).  "
   ]
  },
  {
   "cell_type": "markdown",
   "metadata": {},
   "source": [
    "__Определение 1.2.__  \n",
    "План выборки $X$ называется __максимально минимальным(максиминовым)__ среди всех возможных планов, если он максимизирует $d_1$, и для всех планов, для которых это выполняется, минимизирует $J_1$, и для всех планов, для которых это выполняется максимизирует $d_2$ и т.д."
   ]
  },
  {
   "cell_type": "markdown",
   "metadata": {},
   "source": [
    "Прежде чем двигаться дальше, нам нужно уточнить, что мы подразумеваем под \"расстоянием\" в приведенных выше определениях.  \n",
    "Наиболее широко используемой метрикой является _р-норма_ пространства:\n",
    "$$d_p(x^{(i_1)},x^{(i_2)}) = (\\sum\\limits_{j=1}^k |X_j^{(i_1)} - x_j^{(i_2)}|^p)^{1/p}$$"
   ]
  },
  {
   "cell_type": "markdown",
   "metadata": {},
   "source": [
    "В случае $p=1$ это _Манхэттоновское расстояние_ (или _прямоугольное_ ), а случае $p=2$ это _Евклидова норма_.  \n",
    "На сегодняшний день нельзя с уверенностью утверждать, что одна норма эффективнее других (без учёта исследуемой модели), хотя точно можно сказать, что прямоугольное расстояние значительно \"дешевле\" вычислять. Однако выбор нормы может быть весьма существенным, особенно если предстоит оценить большие планы выборки.  \n",
    "\n",
    "Перейдём к практическим аспектам Определения 1.2. Для начала, нужно построить вектора $d_1, \\,d_2, ... d_m$ и $J_1, \\,J_2, ... J_m$. Далее приведена реализация этой задачи на Python:"
   ]
  },
  {
   "cell_type": "code",
   "execution_count": 10,
   "metadata": {},
   "outputs": [],
   "source": [
    "def jd(X, p=1):\n",
    "    \"\"\"\n",
    "    Вычисляет расстояния между всеми парами точек в плане выборки X \n",
    "    с помощью p–нормы, сортирует их в порядке возрастания и \n",
    "    удаляет повторные вхождения.\n",
    "    \n",
    "    Вход:\n",
    "        X - исследуемый план выборки\n",
    "        p - используемая норма для вычисления расстояний\n",
    "    Выход:\n",
    "        J - массив количеств пар точек, разделенных каждым \n",
    "            значением расстояния\n",
    "        distinct_d - список различных значений расстояния\n",
    "    \"\"\"\n",
    "    \n",
    "    #Число точек в плане выборки = числу строк в X\n",
    "    n = X.shape[0]\n",
    "    \n",
    "    #Вычисление расстояний между всеми парами точек\n",
    "    d = np.zeros(n*(n-1)//2)\n",
    "    \n",
    "    for i in np.arange(n-1):\n",
    "        for j in np.arange(i+1, n):\n",
    "            d[i*n - i*(i+1)//2 + j-i-1] = np.linalg.norm(X[i,:] - X[j,:], p)\n",
    "            \n",
    "    #Удаление повторящихся значение и сортировка по возрастанию\n",
    "    distinct_d = np.unique(d)\n",
    "    \n",
    "    #Выделим память для J\n",
    "    J = np.zeros(len(distinct_d))\n",
    "    \n",
    "    #Заполняем J\n",
    "    for i in range(len(J)):\n",
    "        #J[i] будет содержать число пар точек с расстоянием \n",
    "        #distinct_d[i] между ними\n",
    "        J[i] = np.sum(np.isin(d,distinct_d[i]))\n",
    "    \n",
    "    return J, distinct_d"
   ]
  },
  {
   "cell_type": "code",
   "execution_count": 11,
   "metadata": {},
   "outputs": [
    {
     "data": {
      "text/plain": [
       "(array([48., 30., 15., 76., 48., 24., 15., 15., 88., 76., 38., 24., 24.,\n",
       "        95., 88., 44., 38., 38., 88., 80., 40., 44., 44., 78., 64., 32.,\n",
       "        40., 40., 60., 40., 20., 32., 32., 48., 16.,  8., 20., 20., 32.,\n",
       "         8.,  4.,  8.,  8., 20.,  4.,  4.,  8.,  4.]),\n",
       " array([0.25      , 0.33333333, 0.33333333, 0.5       , 0.58333333,\n",
       "        0.58333333, 0.66666667, 0.66666667, 0.75      , 0.83333333,\n",
       "        0.83333333, 0.91666667, 0.91666667, 1.        , 1.08333333,\n",
       "        1.08333333, 1.16666667, 1.16666667, 1.25      , 1.33333333,\n",
       "        1.33333333, 1.41666667, 1.41666667, 1.5       , 1.58333333,\n",
       "        1.58333333, 1.66666667, 1.66666667, 1.75      , 1.83333333,\n",
       "        1.83333333, 1.91666667, 1.91666667, 2.        , 2.08333333,\n",
       "        2.08333333, 2.16666667, 2.16666667, 2.25      , 2.33333333,\n",
       "        2.33333333, 2.41666667, 2.41666667, 2.5       , 2.66666667,\n",
       "        2.66666667, 2.75      , 3.        ]))"
      ]
     },
     "execution_count": 11,
     "metadata": {},
     "output_type": "execute_result"
    }
   ],
   "source": [
    "J,d = jd(X)\n",
    "J,d"
   ]
  },
  {
   "cell_type": "markdown",
   "metadata": {},
   "source": [
    "Очень трудоемкой частью этого расчета является создание вектора, содержащего расстояния между всеми возможными парами точек $d$. Это становится особенно важным для больших планов выборки (например, в случае плана из 1000 точек ($n=1000$) требуется почти полмиллиона вычислений). Поэтому предварительное выделение памяти имеет важное значение: данный алгоритм будет исполняться быстрее в отличие от алгоритма, где к $d$ добавляется каждый новый элемент, что потребовало бы использования дорогостоящего динамического выделения памяти.  \n",
    "\n",
    "Теперь нам нужно реализовать само Определение 1.2. Поскольку поиск латинского гиперкуба, наиболее заполняющего пространство, потребует попарных сравнений, то мы будем \"разделять и властвовать\": упростим проблему до задачи выбора лучшего из двух планов выборки. Функция ___mm(X1,X2,p)___ выполит это, вернув индекс (\"1\" или \"2\") более подходящего плана или 0, если они равны (третий аргумент функции p - это норма, используемая для вычисления расстояний):"
   ]
  },
  {
   "cell_type": "code",
   "execution_count": 12,
   "metadata": {},
   "outputs": [],
   "source": [
    "def mm(X1, X2, p=1):\n",
    "    \"\"\"\n",
    "    По двум данным планам выборки выбирает тот, который лучше \n",
    "    заполняет пространство по критерию Морриса-Митчела\n",
    "    \n",
    "    Вход:\n",
    "        X1,X2 - два плана выборки;\n",
    "        p - используемая норма для вычисления расстояний\n",
    "    Выход:\n",
    "        Mmplan - если Mmplan = 0, то планы выборки либо одинаковы, \n",
    "                 либо одинаково заполняют пространство,\n",
    "                 если Mmplan = 1, то X1 лучше заполняет пространство,\n",
    "                 если Mmplan = 2, то X2 лучше заполняет пространство. \n",
    "    \"\"\"\n",
    "    \n",
    "    #проверим матрицы на содержание одинаковых точек (строк)\n",
    "    def eq_rows(m1, m2):\n",
    "        n = m1.shape[0]\n",
    "        for i in np.arange(n):\n",
    "            w = np.where(np.prod([m1[j,:] for j in range(n-i)] == m2[i,:],axis=1))\n",
    "            if len(w[0]) == 0:\n",
    "                return False\n",
    "            row = w[0][0]\n",
    "            m1 = np.delete(m1, row, axis=0)\n",
    "        return True\n",
    "    if eq_rows(X1, X2):\n",
    "        Mmplan = 0\n",
    "        return Mmplan\n",
    "    \n",
    "    #Из данных планов вычисляем расстояния и пары точек\n",
    "    J1, d1 = jd(X1,p); m1 = len(d1)\n",
    "    J2, d2 = jd(X2,p); m2 = len(d2)\n",
    "    \n",
    "    #Смешаем массивы J и d. Заметьте!!!, что согласно Определению 1.2\n",
    "    #мы максимизируем d и минимизируем J\n",
    "    V1 = []\n",
    "    for i in range(m1):\n",
    "        V1.append(d1[i])\n",
    "        V1.append(-J1[i])\n",
    "    V1 = np.array(V1)\n",
    "    \n",
    "    V2 = []\n",
    "    for i in range(m2):\n",
    "        V2.append(d2[i])\n",
    "        V2.append(-J2[i])\n",
    "    V2 = np.array(V2)\n",
    "    \n",
    "    #Более длинный вектор можно обрезать до длины более короткого\n",
    "    m = np.min([m1,m2])\n",
    "    V1 = V1[:m]\n",
    "    V2 = V2[:m]\n",
    "    \n",
    "    #Сгенерируем вектор c[] таким образом, \n",
    "    #что c(i) = 1, если V1(i) > V2(i), и \n",
    "    #c(i) = 2, если V1(i) < V2(i), и c(i) = 0 в противном случае\n",
    "    c = (V1>V2) + 2*(V1<V2)\n",
    "    \n",
    "    #Если планы выборок неодинаковы, но одинаково заполняют \n",
    "    #пространство, то нужно вернуть ноль\n",
    "    if np.sum(c) == 0:\n",
    "        Mmplan = 0\n",
    "        return Mmplan\n",
    "    \n",
    "    #Тогда более подходящая конструкция (mmplan) соответствует\n",
    "    #первыму ненулевыму элементу c[]\n",
    "    i = 0\n",
    "    while c[i] == 0:\n",
    "        i += 1\n",
    "    Mmplan = c[i]\n",
    "    return Mmplan    "
   ]
  },
  {
   "cell_type": "markdown",
   "metadata": {},
   "source": [
    "Как мы уже говорили выше, поиск латинского гиперкуба, наиболее заполняющего пространство, потребует попарных сравнений. Поэтому теоретически мы могли бы написать алгоритм использующий функцию _mm_ качестве сравнителя. Однако есть некоторые экспериментальные данные (получены Морисом и Митчелом в 1995), показывающие, что результ не будет столь хорошим, как ожидалось...  \n",
    "Причина в том, что процесс сравнения остановится, как только мы найдем ненулевой элемент в массиве сравнения _c_ , и поэтому остальные значения в $d_1, \\,d_2, ... d_m$ и $J_1, \\,J_2, ... J_m$ будут потеряны. Они, однако, могли бы обеспечить процесс оптимизации потенциально полезной информацией.  \n",
    "Моррис и Митчелл (1995) определили следующую скалярную функцию, являющеюся критерием качества планов выборки (другими словами, эта функция вычисляет, как хорошо данный план выборки заполняет пространство). Она основана на логике Определения 1.2 и использует векторы $d_1, \\,d_2, ... d_m$ и $J_1, \\,J_2, ... J_m$ полностью:  \n",
    "$$ \\Phi_q(X) = (\\sum\\limits_{j=1}^m J_j d_j^{-q} )^{\\frac{1}{q}} $$\n",
    "\n",
    "Таким образом, чем меньше величина $\\Phi_q$, тем лучше $X$ заполняет пространство. Ниже представлена реализация данной формулы:"
   ]
  },
  {
   "cell_type": "code",
   "execution_count": 13,
   "metadata": {},
   "outputs": [],
   "source": [
    "def mmphi(X, q=2, p=1):\n",
    "    \"\"\"\n",
    "    Вычисляет значение критерия качества плана выборки \n",
    "    по формуле Морриса и Митчела.\n",
    "    \n",
    "    Вход:\n",
    "        X - план выборки\n",
    "        q - показатель степени, используемый при вычислении критерия\n",
    "        p - используемая норма для вычисления расстояний\n",
    "    Выход:\n",
    "        Phiq - значение критерия качества плана выбокри\n",
    "    \"\"\"\n",
    "    \n",
    "    # Посчитаем расстояние между всеми парами точек \n",
    "    # (с использованием p-нормы) и построим соответствующий массив J\n",
    "    J, d = jd(X,p)\n",
    "    Phiq = (np.sum( J*(d**(-q)) ))**(1/q)\n",
    "    return Phiq"
   ]
  },
  {
   "cell_type": "markdown",
   "metadata": {},
   "source": [
    "Эта формула преобразует громоздкое определение критерия максимина в довольно аккуратную и компактную форму, но встаёт вопрос о том, как выбрать значение _q_. Большие _q_ гарантируют, что каждый член делает бОльший вклад в сумму, чем все последующие слогаемые. Таким образом, поскольку расстояния  $d_j$ расположены в порядке возрастания, то $\\Phi_q$ будет ранжировать планы выборки таким образом, чтобы они достаточно точно соответствовали исходному определению критерия. Более низкие значения _q_ задают критерий, который, хотя и не может точно соответствовать определению, но лучше поддается оптимизации.  \n",
    "\n",
    "Чтобы проиллюстрировать связь между Уравением (7) и критерием максимина в Определении 1.2, рассмотрим множества из 50 случайных Латинских гиперкубов разных размеров и размерностей. Затем упорядочим эти кубы внутри каждого множества согласно Определению 1.2, а также согласно значению функции $\\Phi_q$ (в каждом случае используем норму $p=1$). Проделаем эту операцию для ряда значений _q_.  \n",
    "\n",
    "![Phiq](img/fig-1-5.png)  \n",
    "    __Рис. 1.5.__ Графики, демонстрирующие разницу между максиминовым ранжированием и ранжированием по $\\Phi_q$ при разных значениях _q_ для наборов из 50 случайных Латинских гиперкубов разных размеров и размерностей (при использовании нормы p=1 при вычислении расстояний): по одной оси кубы отсортированы по определению максимина, а по другой - по значению $\\Phi_q$. Здесь _n_ - количество точек(размер плана выборки), _k_ - количество переменных(размерность плана выборки).\n"
   ]
  },
  {
   "cell_type": "markdown",
   "metadata": {},
   "source": [
    "На рис. 1.5 представлены результаты этого небольшого исследования. Неразумно делать далеко идущие выводы только из нескольких произвольно выбранных экспериментов (да мы и не пытаемся). Тем не менее, корреляционные графики показывают, что чем больше план выборки, тем меньшее _q_ требуется для получения ранжирования на основе $\\Phi_q$, которое почти точно соответствует Определению 1.2. Если взять набор из 50 100-точечных 15-переменных гиперкубов, то нижний правый график рисунка 1.5 показывает, что ранжирование на основе $\\Phi_{250}$ отличается от определения только в трёх местах, при этом в ранжировании допущена только одна ошибка. На другом конце рисунка видно, что для $q = 1$ корреляция практически отсутствует, за исключением самых маленьких из рассмотренных планов выборки.  \n",
    "\n",
    "Если читатель пожелает провести собственное исследование для различных семейств планов выборки, то вот инструменты, необходимые для этого. Ранжирование по _mm_ и _mmphi_ с использованием простого алгоритма пузырьковой сортировки реализовано в mmsort и phisort соответственно:"
   ]
  },
  {
   "cell_type": "code",
   "execution_count": 14,
   "metadata": {},
   "outputs": [],
   "source": [
    "def mmsort(X3D, p=1):\n",
    "    \"\"\"\n",
    "    Ранжирует планы выборки в соответствии с определением \n",
    "    критерия Морриса–Митчелла. Примечание: аналогично алгоритму \n",
    "    phisort, который использует числовой критерий Phi_q \n",
    "    в качестве основы для ранжирования. \n",
    "    \n",
    "    Вход:\n",
    "        X3D-трёхмерный массив, содержащий планы выборки \n",
    "            для ранжирования: первая координата - номер плана выборки,\n",
    "            следующие две - двумерный план выборки X(см. ранее)\n",
    "        p - используемая норма для вычисления расстояний\n",
    "    Выход:\n",
    "        Index - массив индексов, содержащий ранжирование X3D\n",
    "    \"\"\"\n",
    "    \n",
    "    # Выделим память\n",
    "    Index = np.arange(len(X3D))\n",
    "    \n",
    "    # Сортировка пузырьком (с оптимизацией - swap-flag)\n",
    "    swap_flag = 1\n",
    "    \n",
    "    while swap_flag == 1:\n",
    "        swap_flag = 0\n",
    "        i = 0\n",
    "        while i < len(Index)-1:\n",
    "            if mm(X3D[Index[i]], X3D[Index[i+1]], p) == 2:  #то есть если второй план лучше первого\n",
    "                Index[i],Index[i+1] = Index[i+1], Index[i]\n",
    "                swap_flag = 1\n",
    "            i += 1\n",
    "    return Index\n",
    "\n",
    "\n",
    "def phisort(X3D, q=2, p=1):\n",
    "    \"\"\"\n",
    "    Ранжирует планы выборки в соответствии со значением функции Фq.\n",
    "    Вход:\n",
    "        X3D-трёхмерный массив, содержащий планы выборки \n",
    "            для ранжирования: первая координата - номер плана выборки,\n",
    "            следующие две - двумерный план выборки X(см. ранее)\n",
    "        q - показатель степени, используемый при вычислении критерия\n",
    "        p - используемая норма для вычисления расстояний\n",
    "    Выход:\n",
    "        Index - массив индексов, содержащий ранжирование X3D\n",
    "    \"\"\"\n",
    "    \n",
    "    # Выделим память\n",
    "    Index = np.arange(len(X3D))\n",
    "    \n",
    "    # Сортировка пузырьком (с оптимизацией - swap-flag)\n",
    "    swap_flag = 1\n",
    "    \n",
    "    while swap_flag == 1:\n",
    "        swap_flag = 0\n",
    "        i = 0\n",
    "        while i < len(Index)-1:\n",
    "            if mmphi(X3D[Index[i]],q,p) > mmphi(X3D[Index[i+1]],q,p):  #то есть если второй план лучше первого\n",
    "                Index[i],Index[i+1] = Index[i+1], Index[i]\n",
    "                swap_flag = 1\n",
    "            i += 1\n",
    "    return Index"
   ]
  },
  {
   "cell_type": "markdown",
   "metadata": {},
   "source": [
    "Так как же найти лучший латинский гиперкуб для конкретной задачи? Моррис и Митчелл (1995) рекомендуют минимизировать значение $\\Phi_q$ для $q = 1,2,5,10,20, 50$ и $100$ (рис.1.5 подтверждает, что это разумные значения), а затем выбрать лучший из полученных планов в соответствии с определением максимина. Тогда остается только один вопрос: как найти эти оптимизировать $\\Phi_q$? Мы обсудим это дальше."
   ]
  },
  {
   "cell_type": "markdown",
   "metadata": {},
   "source": [
    "#### Оптимизация $\\Phi_q$"
   ]
  },
  {
   "cell_type": "markdown",
   "metadata": {},
   "source": [
    "Мы создали критерий(метрику), который позволяет нам определить, как хорошо данный латинский гиперкуб заполняет пространство. Теперь нам нужно оптимизировать эту метрику в пространстве латинских гиперкубов. Это ___не___ тривиальная задача – читатель вспомнит из более раннего обсуждения латинских квадратов, что это пространство огромно. Действительно, оно настолько обширно, что нам кажется маловероятным найти универсальное оптимальное решение для многих практических задач. Отсюда возникает другая задача: при заданном ограничении по времени найти наилучший возможный план выборки.  \n",
    "\n",
    "Это временное ограничение зависит от вычислительных затрат на получение значения целевой функции. Оптимальное разделение общих вычислительных усилий между созданием плана выборки и фактическим вычислением значений целевой функции является открытым исследовательским вопросом, хотя обычно на первую задачу редко выделяют более 5% общего времени работы.  \n",
    "\n",
    "Можно провести параллели с выбором того, _сколько времени_ потратить на _составление_ расписания для _повторения_ материала перед экзаменом. Хорошее расписание сделает повторение более эффективным, но никто не хочет тратить слишком много времени на само повторение!  \n",
    "\n",
    "Одна из проблем разработки оптимизатора плана выборки состоит в том, что нужно убедиться, что процесс поиска всегда остается в пространстве латинских гиперкубов. Мы видели, что определяющей особенностью латинского гиперкуба $X$ является то, что каждый столбец является перестановкой списка возможных уровней соответствующей переменной. Поэтому самое малое изменение, которое мы можем внести в латинский гиперкуб, не нарушая его ключевого свойства многомерной стратификации, - это поменять местами два элемента в любом из столбцов $X$. Вот Python-реализация такого преобразования (\"мутации\") латинского гиперкуба, обобщенная на случайные изменения, применяемые к нескольким сторонам:"
   ]
  },
  {
   "cell_type": "code",
   "execution_count": 15,
   "metadata": {},
   "outputs": [],
   "source": [
    "def perturb(X, PertNum=1):\n",
    "    \"\"\"\n",
    "    Меняет местами пары случайно выбранных элементов в случайно выбранных\n",
    "    столбцах плана выборки несколько раз. Если план выборки представляет \n",
    "    собой латинский гиперкуб, то результатом этой операции также будет\n",
    "    латинский гиперкуб.\n",
    "    Вход:\n",
    "        X - план выборки\n",
    "        PertNum-число изменений (возмущений), \n",
    "                которые должны быть внесены в X.\n",
    "    Выход:\n",
    "        X - возмущённый план выборки\n",
    "    \"\"\"\n",
    "    \n",
    "    n, k = X.shape\n",
    "    \n",
    "    for pert_count in np.arange(PertNum):\n",
    "        col = np.int64(np.floor(np.random.rand()*k))\n",
    "        \n",
    "        # Выбор двух различных случайных точек\n",
    "        el1, el2 = 1, 1\n",
    "        while el1 == el2:\n",
    "            el1 = np.int64(np.floor(np.random.rand()*n))\n",
    "            el2 = np.int64(np.floor(np.random.rand()*n))\n",
    "        \n",
    "        # Меняем местами два выбранных элемента\n",
    "        X[el1, col], X[el2,col] = X[el2,col], X[el1,col]\n",
    "    \n",
    "    return X"
   ]
  },
  {
   "cell_type": "markdown",
   "metadata": {},
   "source": [
    "Мы используем термин \"мутация\", потому что эта задача поддается вычислениям, описываемым естественно-научными терминами. Моррис и Митчелл (1995) используют _алгоритм имитации отжига_ (simulated annealing, SA), подробный псевдокод которого можно найти в их работе. В качестве альтернативы здесь мы предлагаем метод, основанный на _эволюционном планировании_ (evolutionary operation, EVOP)."
   ]
  },
  {
   "cell_type": "markdown",
   "metadata": {},
   "source": [
    "#### Эволюционное планирование"
   ]
  },
  {
   "cell_type": "markdown",
   "metadata": {},
   "source": [
    "Эволюционное планирование было разработано Джорджом Боксом в 1957 году для оптимизации химических процессов. Работало оно следующим образом. Текущие параметры реакции записывались в ячейку в центре доски, а ячейки-\"потомки\", содержащие значения параметров, слегка измененных по отношению к центральному (\"родительскому\") значению, располагались по краям. Как только реакция завершалась, для всех наборов переменных и соответсвующих полей записывались новые значения, а содержимое центральной ячейки будет заменялось содержимым установки с наибольшим выходом, и это становилось \"родителем\" нового набора периферийных ячеек.  \n",
    "Обычно это  рассматривается как локальная процедура поиска, хотя это зависит от размера шага мутации, то есть от числа различий между \"родительской\" ячейкой и её \"потомством\". Чем больше эти шаги, тем глобальнее область поиска.  \n",
    "Чтобы найти латинский гиперкуб, мы применяем стратегию _переменной области(variable scope strategy)_ . Мы начинаем с большой длины шага (то есть с относительно большого количества перестановок внутри столбцов) и, по мере продвижения, постепенно приближаемся к текущему наилучшему узлу притяжения(_аттрактору_), сокращая длину шага до одной перестановки.  \n",
    "На каждом этапе мы меняем(подвергаем мутации) (случайным образом, используя функцию ___perturb___) родителя _pertnum_  раз. Затем мы выбираем план выборки, который дает наименьшее значение $\\Phi_q$ (согласно критерию Морриса–Митчелла, рассчитанному в функции ___mmphi___) среди всех потомков _и_ родителей; на языке эволюционных вычислений эта философия отбора называется __элитизмом__. Если читатель хочет выбрать неэлитичный подход (например, склоняясь к более глобальному поиску), то код для EVOP может быть довольно легко изменён, чтобы исключить родителя из шага выбора.\n",
    "Таким образом, поиск заполняющих пространство латинских гиперкубов на основе EVOP - это действительно эволюционный процесс: наилучший план выборки является результатом неслучайного выживания случайных вариаций."
   ]
  },
  {
   "cell_type": "markdown",
   "metadata": {},
   "source": [
    "#### Подведём итог (Putting it all together)"
   ]
  },
  {
   "cell_type": "markdown",
   "metadata": {},
   "source": [
    "Теперь у нас есть все части задачи о поиске оптимального плана выборки: генератор случайных гиперкубов в качестве отправной точки для процесса оптимизации, метрика \"заполняемости пространства\", которую нам нужно оптимизировать, механизм оптимизации, который выполняет эту задачу, и функция сравнения, которая выбирает лучшие из оптимумов, найденных для различных значений $q$. Нам просто нужно выстроить все это в определенную последовательность. Вот воплощение решения этой задачи на Python:"
   ]
  },
  {
   "cell_type": "code",
   "execution_count": 16,
   "metadata": {},
   "outputs": [],
   "source": [
    "def bestlh(n, k , Population, Iterations):\n",
    "    \"\"\"\n",
    "    Генерирует наилучший латинский гиперкуб путём оптимизации критерия \n",
    "    Морриса–Митчелла для диапазона показателей \n",
    "    и строит первые два измерения текущего гиперкуба на протяжении \n",
    "    всего процесса оптимизации\n",
    "    \n",
    "    Вход:\n",
    "        n - необходимое число точек\n",
    "        k - число проектных переменных\n",
    "        Population - число \"особей\" в оптимизаторе\n",
    "                     эволюционного планиования\n",
    "        Iterations - количество поколений, для которых \n",
    "                     выполняется оптимизатор эволюционного \n",
    "                     планирования\n",
    "        Замечание:  высокие значения величин Population и Iterations\n",
    "                    обеспечат высокое качество гиперкубов, \n",
    "                    но их поиск займет больше времени.\n",
    "   Выход:\n",
    "       X - Наилучший латинский гиперкуб\n",
    "   \"\"\"\n",
    "    \n",
    "    if k < 2:\n",
    "        print(\"Для k<2 Латинский гиперкуб не определен\")\n",
    "        return\n",
    "    \n",
    "    # Список значений q для оптимизации Phi_q\n",
    "    q = np.array([1,2,5,10,20,100])\n",
    "    \n",
    "    # Установим прямоугольную нормму расстояния для более быстрого\n",
    "    # поиска. Но если потребуется Евклидова норма, можно изменить на p=2\n",
    "    p = 1\n",
    "    \n",
    "    # Начнём со случайного Латинского Гиперкуба\n",
    "    Xstart = rlh(n,k)\n",
    "    X3D = np.empty((len(q),n,k))\n",
    "    \n",
    "    # для кажого q оптимизируем Phi_q\n",
    "    for i in np.arange(len(q)):\n",
    "        print(f\"Сейчас оптимизируется для q = {q[i]}\")\n",
    "        X3D[i][:][:] = mmlhs(XStart, Population, Iterations, q[i])\n",
    "    \n",
    "    # Сортировка по критерию Морриса–Митчелла\n",
    "    Index = mmsort(X3D, p)\n",
    "    print(f\"Лучший ГК соответствует q = {q[Index[0]]}\")\n",
    "    \n",
    "    # А вот собственно и сам Латинский Гиперкуб, заполняющий\n",
    "    # пространство лучше всего.\n",
    "    X = X3D[Index[0]]\n",
    "    \n",
    "    # Нарисуем проекции первых двух измерения\n",
    "    y = np.transpose(X)\n",
    "    plt.plot(y[0],y[1])\n",
    "    \n",
    "    plt.title(\"sometitle\", size=16)\n",
    "    plt.xlabel(\"x_1\", size=16)\n",
    "    plt.ylabel(\"x_2\", size=16)\n",
    "    \n",
    "    return X"
   ]
  },
  {
   "cell_type": "code",
   "execution_count": 17,
   "metadata": {},
   "outputs": [
    {
     "data": {
      "text/plain": [
       "'!!!В коде используется не объявленая и не определённая функция MMLHS!!!'"
      ]
     },
     "execution_count": 17,
     "metadata": {},
     "output_type": "execute_result"
    }
   ],
   "source": [
    "\"!!!В коде используется не объявленая и не определённая функция MMLHS!!!\""
   ]
  },
  {
   "cell_type": "markdown",
   "metadata": {},
   "source": [
    "Стоит отметить, что нам не обязательно сортировать все планы-кандидаты в порядке возрастания – в конце концов, нам нужен только лучший из них. Тем не менее, добавленная вычислительная сложность минимальна (вектор всегда будет содержать столько элементов, сколько существует возможных значений $q$, и сортируется только индексный массив, а не фактическое хранилище планов), и это дает читателю возможность сравнить, при желании, планы выборок, к которым приводят различные значения $q$."
   ]
  },
  {
   "cell_type": "markdown",
   "metadata": {},
   "source": [
    "### Подмножества, заполняющие пространство"
   ]
  },
  {
   "cell_type": "markdown",
   "metadata": {},
   "source": [
    "До сих пор мы рассматривали проблему минимизации $\\Phi_q$ в пространстве всех латинских гиперкубов определенного размера _n_ и размерности _k_. Другой вопрос может заключаться в следующем: как найти наилучший план заполнения пространства в более ограниченном пространстве, скажем, в подмножестве $X_s$ из $n_s$ элементов плана $X$ из _n_ элементов? Это не просто учебная задача, поскольку эта проблема возникнет позже, когда мы будем обсуждать улучшение качества предиктора путём пробега заполняющего пространство подмножества по его обучающим данных с применением анализа более высокой точности.  \n",
    "Поскольку выбор подмножества из $n_s$ элементов, минимизирующего $\\Phi_q$, является NP-полной задачей(то есть для неё пока не найден полиномиальный алгоритм решения), то исчерпывающий поиск должен был бы исследовать $C^{n}_{n_s} = \\frac{n_s!}{n!(n_s - n)!}$ подмножеств (неосуществимая задача для любых мощностей). Альтернативной стратегией может быть следующий жадный алгоритм, направленный на поиск хотя бы локального оптимума."
   ]
  },
  {
   "cell_type": "markdown",
   "metadata": {},
   "source": [
    "#### Стратегия №1: жадный алгоритм локального поиска"
   ]
  },
  {
   "cell_type": "markdown",
   "metadata": {},
   "source": [
    "Начнём с набора точек $x^{(i)}, \\, i \\leq n$, в качестве первой строки в  $X_s$, затем мы перебираем оставшихся кандидатов $x^{(j)}, \\, j = 1, ...,i-1,i+1, ..., n$ и добавляем точку, которая минимизирует критерий Морриса–Митчелла. Затем этот цикл повторяется (исключая из рассмотрения точки, которые мы уже включили), выбирая каждый раз точку, которая при добавлении к $X_s$ минимизирует критерий оптимальности с учётом уже имеющихся точек. Это сродни локальной оптимизации цитериона – лучших результатов можно добиться если повторить процесс, начиная со всех возможных $n_s$ стартовых точек, сохраняя лучшие $X_s$ в целом (мультистартный локальный поиск).  \n",
    "Заметим, что этот подход и не является исчерпывающим, и он может оказаться вычислительно затратным для планов, размер которых превышает несколько десятков элементов. Рассмотрим другую, более дешёвую альтернативу."
   ]
  },
  {
   "cell_type": "markdown",
   "metadata": {},
   "source": [
    "#### Стратегия №2: Перестановочный алгоритм (exchange algorithm)"
   ]
  },
  {
   "cell_type": "markdown",
   "metadata": {},
   "source": [
    "Мы начинаем со случайно выбранного подмножества $X_s$ и вычисляем для него значения критерия  $\\Phi_q$. Затем мы переставляем первую точку $x^{(1)}_s$ с каждой из оставшихся точек в $X \\setminus X_s$ и сохраняем перестановку, которая даёт наилучшее значение $\\Phi_q$. Вот реализация этого метода на Python:"
   ]
  },
  {
   "cell_type": "code",
   "execution_count": 18,
   "metadata": {},
   "outputs": [],
   "source": [
    "def subset(X, ns):\n",
    "    \"\"\"\n",
    "    По заданному плану выборки возвращает подмножество заданного \n",
    "    размера с оптимизированными свойствами заполнения пространства \n",
    "    (в соответствии с критерием Морриса–Митчелла).\n",
    "    \n",
    "    Вход:\n",
    "        X - полный план выборки\n",
    "        ns- желаемый размер подмножества\n",
    "    Выход:\n",
    "        Xs - подмножество с оптимизированными свойствами \n",
    "             заполнения пространства\n",
    "        Xr - остаток разности X\\Xs\n",
    "    \"\"\"\n",
    "    \n",
    "    n = X.shape[0]\n",
    "    \n",
    "    # Норма и метрика для Фq. При необходимости можно изменить.\n",
    "    p, q = 1, 5\n",
    "    \n",
    "    # Случайная перестановка номеров строк\n",
    "    r = np.random.permutation(n)\n",
    "    \n",
    "    Xs = X[r[:ns],:]\n",
    "    Xr = X[r[ns:],:]    \n",
    "    \n",
    "    for j in np.arange(ns):\n",
    "        orig_crit = mmphi(Xs,q,p)\n",
    "        orig_point = np.array(Xs[j,:])\n",
    "        \n",
    "        # Ищем лучшую точку для замены текущей\n",
    "        bestsub = 0\n",
    "        bestsubcrit = np.inf\n",
    "        \n",
    "        for i in np.arange(n-ns):\n",
    "            # Мы заменяем текущую, j-ю точку каждой из \n",
    "            # оставшихся точек последовательно\n",
    "            Xs[j,:] = Xr[i,:] \n",
    "            crit = mmphi(Xs,q,p)\n",
    "            \n",
    "            if crit < bestsubcrit:\n",
    "                bestsubcrit = crit\n",
    "                bestsub = i\n",
    "        \n",
    "        if bestsubcrit < orig_crit:\n",
    "            Xs[j,:] = Xr[bestsub,:]\n",
    "            Xr[bestsub,:] = orig_point\n",
    "        else:\n",
    "            Xs[j,:] = orig_point    \n",
    "    \n",
    "    return Xs, Xr"
   ]
  },
  {
   "cell_type": "code",
   "execution_count": 19,
   "metadata": {
    "scrolled": false
   },
   "outputs": [
    {
     "data": {
      "text/plain": [
       "(array([[0.        , 0.        , 0.        ],\n",
       "        [1.        , 1.        , 0.        ],\n",
       "        [1.        , 0.        , 0.25      ],\n",
       "        [0.5       , 0.66666667, 0.        ],\n",
       "        [0.5       , 1.        , 1.        ],\n",
       "        [0.        , 0.        , 0.75      ],\n",
       "        [0.        , 0.66666667, 1.        ],\n",
       "        [0.        , 1.        , 0.25      ],\n",
       "        [0.5       , 0.33333333, 0.5       ],\n",
       "        [1.        , 0.33333333, 1.        ]]),\n",
       " array([[0.        , 1.        , 1.        ],\n",
       "        [0.        , 0.33333333, 0.        ],\n",
       "        [0.5       , 0.        , 0.        ],\n",
       "        [0.        , 0.        , 0.25      ],\n",
       "        [1.        , 0.66666667, 1.        ],\n",
       "        [1.        , 1.        , 0.5       ],\n",
       "        [1.        , 0.66666667, 0.        ],\n",
       "        [1.        , 0.66666667, 0.25      ],\n",
       "        [1.        , 0.        , 1.        ],\n",
       "        [0.        , 1.        , 0.75      ],\n",
       "        [0.5       , 0.        , 1.        ],\n",
       "        [1.        , 0.33333333, 0.25      ],\n",
       "        [0.5       , 1.        , 0.        ],\n",
       "        [1.        , 1.        , 1.        ],\n",
       "        [0.        , 1.        , 0.        ],\n",
       "        [0.        , 0.33333333, 0.25      ],\n",
       "        [0.5       , 0.        , 0.5       ],\n",
       "        [1.        , 1.        , 0.75      ],\n",
       "        [0.5       , 0.33333333, 0.25      ],\n",
       "        [0.        , 0.33333333, 0.75      ],\n",
       "        [0.        , 0.66666667, 0.75      ],\n",
       "        [0.5       , 0.66666667, 1.        ],\n",
       "        [1.        , 0.33333333, 0.        ],\n",
       "        [0.        , 0.66666667, 0.25      ],\n",
       "        [1.        , 0.        , 0.        ],\n",
       "        [0.5       , 1.        , 0.75      ],\n",
       "        [0.5       , 0.33333333, 0.75      ],\n",
       "        [0.        , 1.        , 0.5       ],\n",
       "        [0.        , 0.33333333, 0.5       ],\n",
       "        [0.5       , 0.33333333, 1.        ],\n",
       "        [0.5       , 0.        , 0.75      ],\n",
       "        [1.        , 0.66666667, 0.5       ],\n",
       "        [0.5       , 0.        , 0.25      ],\n",
       "        [0.5       , 1.        , 0.5       ],\n",
       "        [1.        , 0.33333333, 0.5       ],\n",
       "        [0.5       , 0.66666667, 0.75      ],\n",
       "        [0.        , 0.        , 0.5       ],\n",
       "        [0.5       , 0.33333333, 0.        ],\n",
       "        [1.        , 0.        , 0.75      ],\n",
       "        [0.5       , 1.        , 0.25      ],\n",
       "        [0.        , 0.33333333, 1.        ],\n",
       "        [0.5       , 0.66666667, 0.5       ],\n",
       "        [0.        , 0.66666667, 0.        ],\n",
       "        [1.        , 1.        , 0.25      ],\n",
       "        [1.        , 0.66666667, 0.75      ],\n",
       "        [1.        , 0.33333333, 0.75      ],\n",
       "        [0.        , 0.        , 1.        ],\n",
       "        [0.5       , 0.66666667, 0.25      ],\n",
       "        [0.        , 0.66666667, 0.5       ],\n",
       "        [1.        , 0.        , 0.5       ]]))"
      ]
     },
     "execution_count": 19,
     "metadata": {},
     "output_type": "execute_result"
    }
   ],
   "source": [
    "subset(X,10)"
   ]
  },
  {
   "cell_type": "markdown",
   "metadata": {},
   "source": [
    "## Замечание о гармонических откликах"
   ]
  },
  {
   "cell_type": "markdown",
   "metadata": {},
   "source": [
    "Мы завершаем наше обсуждение планов выборки.\n",
    "\n",
    "Если предполагается, что исследуемая функция (для которой мы и формировали план выборки) имеет гармоническую составляющую с длиной волны, равной $\\frac{k}{n}, k \\in \\mathbb{Z}$ (т.е. длина волны кратна ширине одного _бина_ в латинском гиперкубе), то полностью однородные проекционные свойства латинского гиперкуба (или полный факториальный план выборки) могут привести к вводящим в заблуждение выборкам (они всегда берут выборку сигнала в одной и той же фазе, поэтому будет казаться, что исследуемая функция - константа). Этой потенциальной (хотя и маловероятной) ловушки можно избежать, добавив небольшое случайное возмущение в каждую точку:"
   ]
  },
  {
   "cell_type": "code",
   "execution_count": 20,
   "metadata": {},
   "outputs": [],
   "source": [
    "# Добавим случайное возмущение\n",
    "# (Для случая, когда возможно присутствие гармонической составляющей)\n",
    "some_condition = True\n",
    "if some_condition:\n",
    "    n, k = X.shape\n",
    "    X = X + (np.random.random((n,k)) - 0.5)*(1/n)*0.25"
   ]
  },
  {
   "cell_type": "markdown",
   "metadata": {},
   "source": [
    "## Указания для дальнейшего чтения"
   ]
  },
  {
   "cell_type": "markdown",
   "metadata": {},
   "source": [
    "О Важности разработки плана выборки говорится во множестве научных книг(хотя не во всех этих работах используется та же терминология, что и здесь). Наше практическое знакомство с предметом ограничено небольшим подмножеством множества появившихся методов, и оно неизбежно подвержено, в некоторой степени, личному предубеждению автора. Однако, что более важно, мы выделили самые общие подходы, т.е. те, которые делают самые слабые предположения типе и параметрах задачи.  \n",
    "Мы также ограничили описание теоретических основ рассматриваемых методов тем, что считали необходимым для их правильного использования. Вот несколько дополнительных источников, с которыми читатель, возможно, пожелает ознакомиться.  \n",
    "\n",
    "История латинских гиперкубов началась в 1979 году с технометрической работы Маккея и др(1979). Затем последовал ряд уточнений, включая применение критериев _межсайтового_ расстояния к планам латинских гиперкубов. Из них мы сосредоточились здесь на критерии максимина. Работа Сантнера и др. (2003) является хорошим источником информации о других критериях.  \n",
    "\n",
    "Другим классом планов выборки, вызвавшим определенный интерес в последние десятилетия, являются _ортогональные массивы_. Матрица $X(n × k)$ с элементами из набора символов s ≥ 2 называется __ортогональным массивом силы $r$__, размера $n$ с ограничениями $k$ и уровнями $s$, если каждая подматрица $X(n × r)$  содержит все возможные векторы строк $1 × r$ с одинаковой частотой $\\lambda$ (обратите внимание на довольно неудобное ограничение, что число элементов должно быть $n = \\lambda s^r$). В статье 1993 года Танг (1993) вводит ортогональные массивы на основе латинских гиперкубов. Они существенно расширяют одномерные стратификационные свойства латинских гиперкубов до r-вариационных полей, опять же для ограниченного диапазона размеров плана.\n",
    "\n",
    "Планы выборки, рассмотренные в этой главе, обычно  были основаны на предположении, что размер  $n$ плана предопределен. Это не всегда так, поскольку, хотя мы можем знать, на какое общее вычислительное время мы можем рассчитывать, не всегда очевидно, сколько планов-кандидатов мы сможем оценить за это время (некоторые планы могут быть анализироваться сложнее и дольше, чем другие).  \n",
    "\n",
    "Если у нас закончится время после оценки, скажем, 80% точек нашего тщательно построенного оптимального латинского гиперкуба Морриса–Митчелла, не будет никаких гарантий хорошей заполненности пространства полученным подмножеством. В таких случаях часто имеет смысл начать с плана, достаточно небольшого, чтобы безопасно вписаться во временной бюджет, и выбрать последующие точки последовательно (до тех пор, пока не закончится время) на основе моделей, приспособленных к тем точкам, которые у нас уже есть, то есть решить, где какой точкой пополнить план, основываясь на том, какие области кажутся перспективными. Мы подробно обсудим эти процедуры позже; однако, если они по какой-то причине неосуществимы (например, запас времени очень велик, и поэтому повторный процесс подгонки модели может быть непрактичным), существует альтернатива: _последовательности Соболя_ (Sobol, 1994). Это планы выборки с достаточно хорошими свойствами заполнения пространства (по крайней мере, для больших $n$) обладают тем свойством, что для любых $n$ и $k > 1$ последовательность для $n − 1$ и $k$ является подмножеством последовательности для n и k. Таким образом, с точки зрения \"заполненности пространства\" не имеет значения, когда закончится время."
   ]
  }
 ],
 "metadata": {
  "jupytext": {
   "formats": "ipynb,md"
  },
  "kernelspec": {
   "display_name": "Python 3",
   "language": "python",
   "name": "python3"
  },
  "language_info": {
   "codemirror_mode": {
    "name": "ipython",
    "version": 3
   },
   "file_extension": ".py",
   "mimetype": "text/x-python",
   "name": "python",
   "nbconvert_exporter": "python",
   "pygments_lexer": "ipython3",
   "version": "3.7.7"
  },
  "latex_envs": {
   "LaTeX_envs_menu_present": true,
   "autoclose": true,
   "autocomplete": true,
   "bibliofile": "biblio.bib",
   "cite_by": "apalike",
   "current_citInitial": 1,
   "eqLabelWithNumbers": true,
   "eqNumInitial": 1,
   "hotkeys": {
    "equation": "Ctrl-E",
    "itemize": "Ctrl-I"
   },
   "labels_anchors": false,
   "latex_user_defs": false,
   "report_style_numbering": false,
   "user_envs_cfg": false
  },
  "toc": {
   "base_numbering": 1,
   "nav_menu": {
    "height": "357px",
    "width": "476px"
   },
   "number_sections": true,
   "sideBar": true,
   "skip_h1_title": true,
   "title_cell": "Содержание",
   "title_sidebar": "Contents",
   "toc_cell": true,
   "toc_position": {},
   "toc_section_display": true,
   "toc_window_display": false
  }
 },
 "nbformat": 4,
 "nbformat_minor": 4
}
