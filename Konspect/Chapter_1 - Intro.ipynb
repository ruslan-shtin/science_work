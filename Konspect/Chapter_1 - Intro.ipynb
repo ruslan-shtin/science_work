{
 "cells": [
  {
   "cell_type": "markdown",
   "metadata": {},
   "source": [
    "# Планирование экспериментов"
   ]
  },
  {
   "cell_type": "markdown",
   "metadata": {
    "toc": true
   },
   "source": [
    "<h1>Содержание<span class=\"tocSkip\"></span></h1>\n",
    "<div class=\"toc\"><ul class=\"toc-item\"><li><span><a href=\"#&quot;Проклятие-размерности&quot;-и-как-его-избежать\" data-toc-modified-id=\"&quot;Проклятие-размерности&quot;-и-как-его-избежать-1\"><span class=\"toc-item-num\">1&nbsp;&nbsp;</span>\"Проклятие размерности\" и как его избежать</a></span></li><li><span><a href=\"#Физические-и-численные-эксперименты\" data-toc-modified-id=\"Физические-и-численные-эксперименты-2\"><span class=\"toc-item-num\">2&nbsp;&nbsp;</span>Физические и численные эксперименты</a></span></li><li><span><a href=\"#Проектирование-предварительных-экспериментов-(скрининг)\" data-toc-modified-id=\"Проектирование-предварительных-экспериментов-(скрининг)-3\"><span class=\"toc-item-num\">3&nbsp;&nbsp;</span>Проектирование предварительных экспериментов (скрининг)</a></span><ul class=\"toc-item\"><li><span><a href=\"#Оценка-распределения-элементарных-эффектов\" data-toc-modified-id=\"Оценка-распределения-элементарных-эффектов-3.1\"><span class=\"toc-item-num\">3.1&nbsp;&nbsp;</span>Оценка распределения элементарных эффектов</a></span><ul class=\"toc-item\"><li><span><a href=\"#Весовая-функция-крыла-от-10-переменных\" data-toc-modified-id=\"Весовая-функция-крыла-от-10-переменных-3.1.1\"><span class=\"toc-item-num\">3.1.1&nbsp;&nbsp;</span>Весовая функция крыла от 10 переменных</a></span></li></ul></li></ul></li><li><span><a href=\"#Разработка-плана-по-осуществлению-выборки\" data-toc-modified-id=\"Разработка-плана-по-осуществлению-выборки-4\"><span class=\"toc-item-num\">4&nbsp;&nbsp;</span>Разработка плана по осуществлению выборки</a></span><ul class=\"toc-item\"><li><span><a href=\"#Стратификация\" data-toc-modified-id=\"Стратификация-4.1\"><span class=\"toc-item-num\">4.1&nbsp;&nbsp;</span>Стратификация</a></span></li><li><span><a href=\"#Латинские-квадраты-и-случайные-Латинские-гиперкубы\" data-toc-modified-id=\"Латинские-квадраты-и-случайные-Латинские-гиперкубы-4.2\"><span class=\"toc-item-num\">4.2&nbsp;&nbsp;</span>Латинские квадраты и случайные Латинские гиперкубы</a></span></li><li><span><a href=\"#Латинские-гиперкубы,-заполняющие-пространство\" data-toc-modified-id=\"Латинские-гиперкубы,-заполняющие-пространство-4.3\"><span class=\"toc-item-num\">4.3&nbsp;&nbsp;</span>Латинские гиперкубы, <em>заполняющие пространство</em></a></span></li></ul></li></ul></div>"
   ]
  },
  {
   "cell_type": "code",
   "execution_count": 4,
   "metadata": {},
   "outputs": [],
   "source": [
    "import numpy as np\n",
    "import matplotlib.pyplot as plt"
   ]
  },
  {
   "cell_type": "markdown",
   "metadata": {},
   "source": [
    "Задача инженерного дизайна: построить \"суррогатную\" модель _f_, которая легко оценивается и имитирует сложное поведение неизвестного объекта __f__\n",
    "\n",
    "Обозначим $D$ (подмножество k-мерного R-пространства, $D \\subseteq R^k$) - так называемую ___область проектирования___, в которой функция f(x) непрерывна. Но мы можем получать только дискретные значения функции f {$x_i$ → $y_i$ = f($x_i$)|i = 1..n}. Это довольно дорогостоящая процедура. Так что наша задача состоит в том, чтобы используя некоторый набор этих дискретных данных (__выборку__), сконструировать приближённую функцию _f_, с помощью которой можно легко (с малыми затратами по времени и памяти) производить предсказания значения функции f для любого __x__ их $D$.\n",
    "\n",
    "$D$ - область проектирования  \n",
    "__x__ - проектные переменные  \n",
    "__f__ - целевая функция  \n",
    "_f_   - суррогатная модель.  \n",
    "\n",
    "\n",
    "Большая часть этой книги - способы конструирования _f_ по заданной выборке. За исключением нескольких случаев, для которых уже найдены точные математические решения...  \n",
    "Некоторым моделям необходимо минимальное число элементов в выборке _n_...\n",
    "\n",
    "Важно сказать, что сконструированные таким образом функции _f_ по заданной выборке не всегда хорошо обобщаются на всю область $D$. Всё зависит от пришедшей на вход выборки.  \n",
    "Получение этой выборки не всегда зависит от нас: её могли получить исследуя другие вопросы. Однако далее будет описано, как в случае возможности создания своей собственной выборки сделать такую выборку, которая позволит создать хорошо обобщающую данные суррогатную модель _f_."
   ]
  },
  {
   "cell_type": "markdown",
   "metadata": {},
   "source": [
    "## \"Проклятие размерности\" и как его избежать"
   ]
  },
  {
   "cell_type": "markdown",
   "metadata": {},
   "source": [
    "Очевидно, чем больше в задаче переменных, тем сложнее будет функция измерения, с помощью которой мы хотим достаточно точно определить местоположение объекта. Заметим, что если некоторый уровень точности определения положения в одномерном пространстве достигается взятием выборки из _n_ позиций, то в _k_-мерном пространстве для достижения такой же точности необходимо взять выборку из _n$^k$_ точек. Это и есть \"проклятие размерности\". Поэтому важно с самого начала свести количество _проектных переменных k_ к минимуму.  \n",
    "Задача состоит в том, чтобы среди всех переменных выделить существенные. Но сначала нам нужно сделать несколько общих замечаний о физических и вычислительных экспериментах, двух источниках, которые могут быть использованы для получения целевой функции"
   ]
  },
  {
   "cell_type": "markdown",
   "metadata": {},
   "source": [
    "## Физические и численные эксперименты"
   ]
  },
  {
   "cell_type": "markdown",
   "metadata": {},
   "source": [
    "Существуют 3 источника ошибок, из-за которых результаты эксперимента отклоняются от теоретических расчётов:\n",
    "\n",
    "* __человеческая ошибка__ - осуществляется самим экспериментатором;  \n",
    "* __систематическая ошибка__ - появляется из-за недостаточного соответствия между теорией и экспериментом;\n",
    "* __случайная ошибка__ - появляется из-за наличия погрешности измерений.\n",
    "\n",
    "Главным отличием между последними двумя пунктами является повторяемость. Систематическая составляющая вносит в экспериментальную ошибку всегда одно и то же значение, а случайная - каждый раз будет отличаться, и при большом числе экспериментов она будет принимать как положительные, так и отрицательные значения.  \n",
    "Численные эксперименты (эксперименты, смоделированные на ЭВМ) также подвержены экспериментальной ошибке, возникающей в результате:\n",
    "\n",
    "* __человеческая ошибка__ - 'баги' и ошибки в написанном коде, неверное введённые граничные условия при решении ДУЧП (дифференциального уравнения в частных производных) и т.д.;\n",
    "* __систематическая ошибка__ - например, математическая модель невязкого обтекания тела (аппроксимация, иногда используемая для экономии вычислительного времени) будет недооценивать силы сопротивления, действующие на тело (потому что в течении на самом деле присутствует вязкость). Другой пример - ошибка, вызванная конечностью разрешения численного моделирования (например, ошибка, вызванная малым числом узлов расчётной сетки). Хоть этот тип ошибки может как переоценить значение некоторой величины, так и недооценить, но при повторении эксперимента он сделает точно также.  \n",
    "\n",
    "Таким образом, разница между физическими и численными экспериментами заключается в том, что на вторые не влияет случайная ошибка - численные эксперименты ___детерминированы___  \n",
    "\n",
    "__Небольшое замечание:__  \n",
    "> Физические экспериментаторы часто используют слово *шум*, имея в виду случайную ошибку. Однако в некоторой литературе по численным экспериментам также встречается слово *шум*, которое должно относится к систематическим ошибкам, потому что там нет случайных.  \n",
    "Чтобы не запутаться, в дальнейшем, когда мы будем говорить об ошибках физических экспериментов, будем писать слово *шум* без кавычек,а когда об ошибках численных экспериментов - будем писать \"шум\" - в кавычках\n",
    ">  \n",
    "\n"
   ]
  },
  {
   "cell_type": "markdown",
   "metadata": {},
   "source": [
    "## Проектирование предварительных экспериментов (скрининг)"
   ]
  },
  {
   "cell_type": "markdown",
   "metadata": {},
   "source": [
    "Ранее мы увидели, насколько важно минимизировать число проектных переменных $x_1, x_2, ..., x_k$ перед тем, как мы попытаемся смоделировать целевую функцию __f__. Но как нам добиться такого ___скрининга___ (так мы будем называть этот процесс в дальнейшем), чтобы наш анализ всё ещё имел смысл?  \n",
    "Дифференцируемость функции __f__ в области проектирования $D$ по каждой переменной: $$\\frac{\\partial f}{\\partial x_i}|_x$$ является важным критерием для классификации:\n",
    "* если $\\frac{\\partial f}{\\partial x_i}|_x = 0, \\forall x \\in D$, то переменной x_i можно смело пренебречь,\n",
    "* если $\\frac{\\partial f}{\\partial x_i}|_x = const \\neq 0, \\forall x \\in D$, то влияние переменной $x_i$ линейно и аддитивно,\n",
    "* если $\\frac{\\partial f}{\\partial x_i}|_x = g(x_i) \\neq const, \\forall x \\in D$, то $f$ нелинейна по $x_i$,\n",
    "*  если $\\frac{\\partial f}{\\partial x_i}|_x = g(x_i),\\forall x \\in D$, где  $g(x_i, x_j, ...) \\neq const$, то $f$ нелинейна по $x_i$ и участвует во взаимодействиях с $x_j, ...$  \n",
    "\n",
    "Приведенная выше классификация является всего лишь терминологической формулировкой, т.к. на практике мы не можем измерить $\\frac{\\partial f}{\\partial x_i}|_x$ во всей области проектирования. Скрининговое исследование - трудная и ресурсоёмкая задача. Однако нет жёсткого правила относительно того, сколько времени должно быть потрачено на скринниг переменных, т.к. это в значительной степени зависит от задачи. Если мы ожидаем, что многими переменными можно будет пренебречь, то тщательное скрининговое исследование может значительно повысить точность последующей \"суррогатной\" модели. Однако, если есть (инженерные) основания, полагать, что большинство переменных имеют значительное влияние на целевую функцию, то целесообразно сосредоточить усилия на самом моделировании.  \n",
    "О методах скрининга входных переменных написано много статей (Jones et al., 1998). Их принципы работы варьируются в зависимости от допущений, которые они делают относительно целевой функции и переменных. Здесь мы остановимся на алгоритме, который в 1991 году описал Моррис. Почему мы выбрали именно этот алгоритм? Потому что единственное допущение, которое он делает, заключается в том, что целевая функция детерминирована (это общая особенность для большинства вычислительных моделей)."
   ]
  },
  {
   "cell_type": "markdown",
   "metadata": {},
   "source": [
    "### Оценка распределения элементарных эффектов"
   ]
  },
  {
   "cell_type": "markdown",
   "metadata": {},
   "source": [
    "Без ограничения общности предположим, что наша область проектирования $D$ является $k$-мерным единичным кубом, т.е. $D=[0,1]^k$ Это предположение упростит дальнейшие рассуждения.  \n",
    "\n",
    "Прежде чем приступить к описанию алгоритма Морриса, нам необходимо определить важное статистическое понятие. Ограничим нашу область проектирования $D$ $k$-мерной $p$-уровневой факториальной сеткой, т.е. $x_i \\in \\{0, \\frac{1}{p-1}, \\frac{2}{p-1}, ... , 1\\}$ для   $i = 1,...,k$. Для зараннее заданного значения  __x__ $\\in D$ определим ___элементарное воздействие___ от  $x_i$ $d_i(x)$, равное \n",
    "$$d_i(x)=\\frac{y(x_1,x_2,...,x_{i-1},x_i+\\Delta, x_{i+1},...,x_k)-y(x)}{\\Delta},$$  \n",
    "где $\\Delta = \\frac{\\xi}{p-1}, \\xi \\in \\mathbb{N^*}$ и $x \\in D$ такой, что его компоненты $x_i \\leq 1-\\Delta$"
   ]
  },
  {
   "cell_type": "markdown",
   "metadata": {},
   "source": [
    "Метод Мориса используется для оценки параметров распределения элементарных воздействий, связанных с каждой переменной. Принцип заключается в том, что большая величина _центральной тенденции_ (мат. ожидания???) указывает на переменную, имеющую сильное влияние на целевую функцию в области проектирования, а большая _мера разброса_ (дисперсии???) указывает на переменную, по которой __f__ не линейна и участвует во взаимодействиях с другими переменными. На практике мы оцениваем выборочное среднее(среднее арифметическое??? $\\overline{x} = \\frac{1}{n} \\sum\\limits_{i=1}^n x_i$) и выборочное стандартное отклонение(Среднеквадратичное отклонение ??? $\\sigma = \\sqrt{D[x]}$) набора значений $d_i(x)$, рассчитанных в различных частях проектного пространства."
   ]
  },
  {
   "cell_type": "markdown",
   "metadata": {},
   "source": [
    "Ясно, что желательно сгенерировать предварительный план выборки __X__ так, чтобы каждая оценка целевой функции __f__ участвовала в вычислении двух элементарных воздействий (вместо одного, если бы использовали случайное распределение __x__ и затем добавляли $\\Delta$ к одной из его компонент). Также, план выборки должен дать нам вполне конкретное число (например, _r_) элементарных воздействий для каждой переменной"
   ]
  },
  {
   "cell_type": "markdown",
   "metadata": {},
   "source": [
    "Пусть __B__ является ___матрицей выборки___, т.е. матрицей размерности $k+1 \\times k$ состоящей из нулей и единиц с тем свойством, что для каждого столбца $i=\\overline{1,k}$ есть две строки __B__, которые отличаются в своей i-ой позиции (далее мы напишем функцию реализующую такую матрицу на Python). Затем мы вычисляем __B__$^*$ - ___случайную ориентацию___ матрицы __B__:\n",
    "$$B^* = (1_{k+1,1}x^* + (\\frac{\\Delta}{2})[(2B - 1_{k+1,k})D^* + 1_{k+1,k}])P^*,$$\n",
    "где $D^*$ - это $k$-мерная диагональная матрица, где каждый элемент равен +1 или -1 с равной вероятностью, $1_{k+1,k}$ - это матрица единиц, $x^*$ - это случайно выбранная точка нашей дискретизированной $p$-уровневой области проектирования (ограниченной по краям $\\Delta$, как было сказано ранее) и $P^* (k \\times k)$ - это матрица случайной перестановки столбцов, в которой каждый столбец содердит всего одну единицу, а все остальные элементы равны нулю, при этом у любой пары столбцов единицы стоят в разных строках. Далее приведена реализация данного выражения на языке Python  "
   ]
  },
  {
   "cell_type": "code",
   "execution_count": 5,
   "metadata": {},
   "outputs": [],
   "source": [
    "def randorient(k,p, xi):\n",
    "    \"\"\"\n",
    "    Генерирует случайную ориентацию скрининговой матрицы.\n",
    "\n",
    "    Вход:\n",
    "        k - число проектных перемненных\n",
    "        p - число дискретных уровней в каждой размерности области проектирования\n",
    "        xi - коэффициент элементарного воздействия(???)\n",
    "\n",
    "    Выход:\n",
    "        Bstar - случайная ориентация матрицы\n",
    "    \"\"\"\n",
    "    \n",
    "    Delta = xi/(p-1)\n",
    "    m = k+1\n",
    "    \n",
    "    # сужение p-уровневой сетки\n",
    "    xs = np.hstack((np.arange(0, 1-Delta, 1/(p-1)),1-Delta))\n",
    "    xsl = len(xs)    \n",
    "    \n",
    "    #Матрица выборки\n",
    "    B = np.zeros((k+1,k))\n",
    "    B[0,:] = np.zeros((1,k))\n",
    "    B[1:,:] = np.tril(np.ones((k,k)))\n",
    "    \n",
    "    #Рандомизация\n",
    "    \n",
    "    #k-мерная диагональная матрица, где каждый элемент \n",
    "    #равен +1 или -1 с равной вероятностью\n",
    "    Dstar = np.diag(np.int64(np.round(np.random.rand(k)))*2-1)\n",
    "    \n",
    "    #Перестановочная матрица\n",
    "    Pstar = np.zeros((k,k))\n",
    "    rp = np.random.permutation(k)\n",
    "    for i in np.arange(k):\n",
    "        Pstar[i][rp[i]] = 1\n",
    "        \n",
    "    \n",
    "    #случайно выбранная точка\n",
    "    xstar = xs[np.int64(np.floor(np.random.rand(k)*xsl))]\n",
    "    xstar = np.reshape(xstar, (1, k))\n",
    "\n",
    "    \n",
    "#   Bstar = np.dot((np.dot(np.ones((m,1)),xstar) + (Delta/2) * (np.dot((2*B - np.ones((m,k))),Dstar) + np.ones(m,k))), Pstar)\n",
    "#   разобъём вычисления на отдельные действия (удобно при отладке)\n",
    "\n",
    "    ones_xstar = np.dot(np.ones((m,1)),xstar)\n",
    "    twoB_minus_ones = 2*B - np.ones((m,k))\n",
    "    B_ones_Dstar = np.dot(twoB_minus_ones, Dstar)    \n",
    "    B_Dstar_plus_ones = B_ones_Dstar + np.ones((m,k))\n",
    "    circle_breakets = ones_xstar + (Delta/2) * B_Dstar_plus_ones\n",
    "\n",
    "    Bstar = np.dot(circle_breakets, Pstar)\n",
    "\n",
    "    return Bstar"
   ]
  },
  {
   "cell_type": "markdown",
   "metadata": {},
   "source": [
    " Чтобы получить _r_ элементарных воздействий для каждой переменной  план скрининга строится из _r_ случайных ориентаций:\n",
    " $$X = \\left[\\begin{array}{crl} B^*_1\\\\ B^*_2\\\\ ... \\\\ B^*_r \\end{array}\\right] $$"
   ]
  },
  {
   "cell_type": "code",
   "execution_count": 6,
   "metadata": {},
   "outputs": [],
   "source": [
    "def screeningplan(k, p , xi, r):\n",
    "    \"\"\"\n",
    "    Генерирует Моррисовский скрининговый план с заданным \n",
    "    числом элементарных воздействий для каждой переменной\n",
    "    \n",
    "    Вход:\n",
    "        k - число проектных перемненных\n",
    "        p - число дискретных уровней в каждой размерности области проектирования\n",
    "        xi - коэффициент элементарного воздействия(???)\n",
    "        r - число случайных ориентаций (=число элементарных \n",
    "            воздействий на кажду переменную)\n",
    "    Выход:\n",
    "        X - скрининговый план внутри к-мерного куба [0,1]^k\n",
    "    \"\"\"\n",
    "    \n",
    "    X = randorient(k,p,xi)\n",
    "    for i in np.arange(1, r):\n",
    "        X = np.append(X, randorient(k,p,xi), axis=0)\n",
    "    \n",
    "    return X"
   ]
  },
  {
   "cell_type": "markdown",
   "metadata": {},
   "source": [
    "Затем мы посчитаем значение функции _f_ для каждой строки $X$. В дальнейшем мы будем хранить эти значения целевой функции в векторе-столбце $t_{r(k+1) \\times 1}$. Взяв по одной случайной ориентации за раз, соседние строки из матрицы скринингового плана и соответствующие значения функции f могут быть вставлены в уравнение (2) для получения $k$ элементарных воздействий (по одному для каждой переменной).  \n",
    "После того как собрана выборка из _r_ элементарных воздейтвий, средние значения выборок и стандартные отклонения выборок могут быть вычислены и представлены на одной и той же диаграмме для сравнения."
   ]
  },
  {
   "cell_type": "code",
   "execution_count": 143,
   "metadata": {},
   "outputs": [],
   "source": [
    "def screeningplot(X, Objhandle, Range, xi, p, Labels):\n",
    "    \"\"\"\n",
    "    Генерирует график скрининга переменных элементарных воздействий\n",
    "    Вход:\n",
    "        X - скрининговый план внутри к-мерного куба [0,1]^k\n",
    "        Objhandle - целевая функция\n",
    "        Range - матрица 2 на к (к - число проектных переменных) нижних(первая строка) \n",
    "                и верхних(вторая строка) границ для каждой переменной\n",
    "        p - число дискретных уровней в каждой размерности области проектирования\n",
    "        xi - коэффициент элементарного воздействия(???)\n",
    "        Labels - массив (1 на к) имён переменных\n",
    "    \"\"\"\n",
    "    k = X.shape[1] #число столбцов матрицы X =  число проектных переменных\n",
    "    r = X.shape[0]//k\n",
    "    t = []\n",
    "    \n",
    "    for i in np.arange(X.shape[0]):\n",
    "        X[i,:] = Range[0,:] + X[i,:]*(Range[1,:] - Range[0,:])\n",
    "        t.append(Objhandle(*list(X[i,:])))\n",
    "    \n",
    "\n",
    "    F = np.zeros((k,r))\n",
    "    for i in np.arange(r):\n",
    "        for j in np.arange(i*(k+1), i*(k+1)+k):\n",
    "            F[(np.where(X[j,:] - X[j+1,:] != 0))[0].ravel(),i] = (t[j+1] - t[j])/(xi/(p-1))\n",
    "    \n",
    "        \n",
    "    #вычисляем статистические величины\n",
    "    ssd=[]\n",
    "    sm=[]\n",
    "    for i in np.arange(k):\n",
    "        ssd.append(np.std(F[i,:]))\n",
    "        sm.append(np.mean(F[i,:]))\n",
    "        \n",
    "    size = 10\n",
    "    plt.figure(figsize=(size,size))\n",
    "    plt.xlabel('Sample_means', fontsize=16)\n",
    "    plt.ylabel('Sample_standart_deviations', fontsize=16)\n",
    "    plt.xlim(min(sm), max(sm))\n",
    "    plt.ylim(min(ssd), max(ssd))\n",
    "    \n",
    "    for i in np.arange(k):\n",
    "        plt.text(sm[i],ssd[i],Labels[i], fontsize=25)"
   ]
  },
  {
   "cell_type": "code",
   "execution_count": 144,
   "metadata": {},
   "outputs": [],
   "source": [
    "def func(Sw, Wfw, A, L, q, l, tc, Nz, Wdg, Wp):\n",
    "    W = 0.036 * Sw**0.758 * Wfw**0.0035 * (A / np.cos(L*np.pi/180)**2)**0.6 * q**0.006 * l**0.04 * (100*tc/np.cos(L*np.pi/180))**(-0.3) * (Nz*Wdg)**0.49 + Sw*Wp\n",
    "    return W"
   ]
  },
  {
   "cell_type": "code",
   "execution_count": 145,
   "metadata": {},
   "outputs": [
    {
     "data": {
      "image/png": "[encoded data removed]",
      "text/plain": [
       "<Figure size 720x720 with 1 Axes>"
      ]
     },
     "metadata": {
      "needs_background": "light"
     },
     "output_type": "display_data"
    }
   ],
   "source": [
    "k = 10\n",
    "p = 50\n",
    "xi = 1\n",
    "r = 5\n",
    "X = screeningplan(k,p,xi,r)\n",
    "Range = np.array([[150.0, 220.0, 6.0, -10.0, 16.0, 0.5, 0.08, 2.5, 1700.0, 0.025],\n",
    "                  [200.0, 300.0, 10.0, 10.0, 45.0, 1.0, 0.18, 6.0, 2500.0, 0.08]])\n",
    "Labels = ['Sw', 'Wfw', 'A', 'L', 'q', 'l', 'tc', 'Nz', 'Wdg', 'Wp']\n",
    "\n",
    "screeningplot(X, func, Range, xi, p , Labels)"
   ]
  },
  {
   "cell_type": "markdown",
   "metadata": {},
   "source": [
    "Прежде чем проиллюстрировать процесс примером инженерного проектирования, стоит упомянуть два сценария, где развертывание описанного выше алгоритма требует особой осторожности.  \n",
    "Во-первых, если размерность k пространства относительно мала и мы можем позволить себе большое значение _r_, то следует иметь в виду повышенную вероятность того, что одна и та же конструкция появится дважды в $X$. Если ответы в точках выборки детерминированы, то, конечно, нет смысла повторять оценку. Эта проблема возникает не особенно часто, так как при скрининге пространств с большими размерностями обычно требуется _большое_ количество элементарных воздействий. \n",
    "Во-вторых, программы численного моделирования иногда не возвращают разумный результат из-за ошибок сетки, неспособности решения дифференциального уравнения в частных производных сходиться и т. д. С точки зрения скрининга это важно, поскольку все случайные ориентации $B^*$  будут под угрозой, если вычисление целевой функции не удаётся для одной из точек.  "
   ]
  },
  {
   "cell_type": "markdown",
   "metadata": {},
   "source": [
    "#### Весовая функция крыла от 10 переменных"
   ]
  },
  {
   "cell_type": "markdown",
   "metadata": {},
   "source": [
    "Рассмотрим следующее аналитическое выражение, используемое в качестве концептуального уровня оценки веса крыла легкого самолета:\n",
    "$$W = 0.036S^{0.758}_wW^{0.0035}_{fw}(\\frac{A}{cos^2\\Lambda})^{0.6}q^{0.006}\\lambda^{0.04}(\\frac{100tc}{cos\\Lambda})^{-0.3}(N_zW_{dg})^{0.49}+S_wW_p.$$"
   ]
  },
  {
   "cell_type": "markdown",
   "metadata": {},
   "source": [
    "Таблица 1.1 содержит номенклатуру символов, используемых в уравнении (5), а также набор основных значений, приблизительно представляющих самолет Cessna C172 Skyhawk и несколько произвольно выбранный диапазон для каждой переменной. Эти основные значения и диапазоны были использованы для создания заполненного контурного графика весовой функции (см. рис. 1.1) путем попарного изменения входных данных и сохранения оставшихся переменных на базовом значении."
   ]
  },
  {
   "cell_type": "code",
   "execution_count": 13,
   "metadata": {},
   "outputs": [
    {
     "data": {
      "text/plain": [
       "array([ 1.5e+02,  2.2e+02,  6.0e+00, -1.0e+01,  1.6e+01,  5.0e-01,\n",
       "        8.0e-02,  2.5e+00,  1.7e+03,  2.5e-02])"
      ]
     },
     "execution_count": 13,
     "metadata": {},
     "output_type": "execute_result"
    }
   ],
   "source": []
  },
  {
   "cell_type": "markdown",
   "metadata": {},
   "source": [
    "__Таблица 1.1.__  Номенклатура примера задачи скрининга с десятью переменными\n",
    "\n",
    "| Символ    | Параметр                                            | Основное значение | Мин.знач | Макс.знач |\n",
    "| ------    | ------------------------                            | ----------------- | -------- | --------- |\n",
    "| $S_w$     | площадь крыла                                       | 174               | 150      | 200       |\n",
    "| $W_{fw}$  | вес топлива в крыле                                 | 252               | 220      | 300       |\n",
    "| $A$       | Соотношение сторон                                  | 7.52              | 6        | 10        |\n",
    "| $\\Lambda$ | Четверть-хордовая развертка (град)                  | 0                 | -10      | 10        |\n",
    "| $q$       | Скоростной напор???                                 | 34                | 16       | 45        |\n",
    "| $\\lambda$ | Коэффициент конусности                              | 0.672             | 0.5      | 1         |\n",
    "| $tc$      | Отношение толщины аэродинамического профиля к хорде | 0.12              | 0.08     | 0.18      |\n",
    "| $N_z$     | Предельный коэффициент нагрузки                     | 3.8               | 2.5      | 6         |\n",
    "| $W_{dg}$  | Полная масса лётной конструкции                     | 2000              | 1700     | 2500      |\n",
    "| $W_p$     | Вес краски                                          | 0.064             | 0.025    | 0.08      |\n"
   ]
  },
  {
   "cell_type": "markdown",
   "metadata": {},
   "source": [
    "[image 1.1]: ///home/ruslan/Изображения/graph"
   ]
  },
  {
   "cell_type": "markdown",
   "metadata": {},
   "source": [
    "![](///home/ruslan/Изображения/graph/150x150)"
   ]
  },
  {
   "cell_type": "markdown",
   "metadata": {},
   "source": [
    "![graph](img/graph.jpg \"график\")  \n",
    "\n",
    "__Рис. 1.1.__ Легкий самолет с массой крыла $W$. Каждая плитка показывает контур весовой функции (уравнение (5)) по сравнению с двумя из десяти переменных, а остальные восемь переменных удерживаются на базовом значении"
   ]
  },
  {
   "cell_type": "markdown",
   "metadata": {},
   "source": [
    "Итак, что же показывает сюжет с точки зрения активности переменных? Как и ожидалось, например, вес на единицу площади поверхности краски $W_p$ не оказывает большого влияния на форму поверхности, тогда как коэффициент нагрузки $N_z$ (который определяет величину максимальной аэродинамической нагрузки на крыло) явно очень активен и участвует во взаимодействии с другими переменными. Классическим примером является взаимодействие с соотношением сторон $A$:  область в верхнем правом углу веса по сравнению с $A$ и $N_z$ указывает на тяжелое крыло для высоких соотношений сторон и больших g-сил (это причина, по которой высоко маневренные истребители не могут иметь очень эффективные, похожие на планеры крылья).  \n",
    "\n",
    "Однако здесь нас интересует, насколько все это можно было бы предположить просто из незатратного скринингового исследования, без понимания инженерной значимости задействованных переменных (что довольно часто имеет место в инженерном проектировании) и без возможности вычислить такой участок плитки (что почти всегда имеет место в инженерном проектировании – в конце концов, если бы целевая функция _f_ была настолько простой для вычисления, мы бы все равно не думали о суррогатном моделировании)."
   ]
  },
  {
   "cell_type": "markdown",
   "metadata": {},
   "source": [
    "Итак, что же показывает рисунок 1.2, изображающий результаты скринингового исследования при r = 5? Первое наблюдение, которое мы можем сделать, состоит в том, что существует четко определенная группа переменных, сгруппированных вокруг источника – напомним, что небольшая мера центральной тенденции(мат.ожидания???) является особенностью входных данных с небольшим влиянием на целевую функцию. Действительно, здесь мы видим, что вес краски, как и ожидалось, а также динамическое давление(скоростной напор??) имеют малую меру центральной тенденции. То же самое рассуждение применимо (и подтверждается таблицей 1.1) к коэффициенту конусности и развертке четверти хорды.  \n",
    "\n",
    "![ssd_sm](img/ssd_sm.png)  \n",
    "__Рис. 1.2.__ Оценки средних и стандартных отклонений распределений элементарных воздействий каждой из 10 переменных веса крыла в данном примере."
   ]
  },
  {
   "cell_type": "markdown",
   "metadata": {},
   "source": [
    "Хотя среднее значение все еще близко к нулю, переменная с наибольшей центральной тенденцией в этой группе - это вес топлива $W_{fw}$. Его выборка элементарных воздействий имеет очень низкое стандартное отклонение и среднее значение немного больше, чем у остальной группы, что указывает на то, что он более важен, чем предыдущие параметры, но не участвует в межпеременных взаимодействиях. График показывает, что $A$ и $tc$ имеют одинаковую важность, а из-за высоких значений стандартного отклонения они имеют нелинейный/интерактивный эффект на целевую функцию.  \n",
    "\n",
    "Наконец, неудивительно, что большая центральная тенденция и большая мера разброса указывают на то, что $W_{dg}$, $S_w$ и $N_z$ оказывают наиболее значительное влияние на вес крыла. Конечно, авиаконструкторы знают, что общий вес самолета и площадь крыла должны быть сведены к минимуму (последнее обычно диктуется такими ограничениями, как требуемая скорость сваливания, посадочная дистанция, скорость разворота и т. д.) И что требование высокого коэффициента нагрузки $N_z$ приведет к необходимости использования прочных, тяжелых крыльев. На самом деле, именно поэтому мы использовали такую хорошо понятную функцию здесь, чтобы проиллюстрировать работу алгоритма скрининга.  \n",
    "\n",
    "Мы кратко вернемся к вопросу установления уровня важности (или активности) переменных целевой функции в разделе о моделях Кригинга. А теперь давайте рассмотрим следующий этап процесса моделирования. С помощью активных переменных, идентифицированных (либо с помощью инженерного суждения, либо с помощью систематического скринингового исследования), мы можем теперь спроектировать основной план осуществления выборки в проектном пространстве, определяемом этими переменными. Это послужит основой для данных, на которых будет строиться суррогатная модель."
   ]
  },
  {
   "cell_type": "markdown",
   "metadata": {},
   "source": [
    "## Разработка плана по осуществлению выборки"
   ]
  },
  {
   "cell_type": "markdown",
   "metadata": {},
   "source": [
    "### Стратификация\n",
    "\n",
    "\n",
    "    Стратификация – это упорядочение объектов системы по уровням  (стратам) с целью создания иерархического описания системы \n",
    "\n",
    "\n",
    "Общей особенностью всех аппроксимирующих моделей, рассмотренных в этой книге, является то, что они более точны вблизи точек, в которых мы оценивали целевую функцию. В последующих главах мы познакомимся с законами, определяющими зависимость правильности модели от расстояния до этих точек. Но на данный момент мы просто сделаем интуитивный вывод: для равномерного уровня точности модели необходимо равномерное распределение точек. Такой план выборки называют _заполняющим пространство_.  \n",
    "Самый простой метод такой выборки - это прямоугольная сетка точек. Это полный факториальный метод, т.е. он подвержен \"проклятию размерности\".  \n",
    "Вот упрощённая версия функции на Python, которая должна сгенерировать полный факториальный план выборки в единичном гиперкубе."
   ]
  },
  {
   "cell_type": "code",
   "execution_count": 37,
   "metadata": {},
   "outputs": [],
   "source": [
    "def fullfactorial(q, Edges=1):\n",
    "    \"\"\"\n",
    "    Генерирует полный факториальный план выборки в единичном кубе\n",
    "    \n",
    "    Вход:\n",
    "        q - к-мерный вектор, содержащий число точек выборки вдоль\n",
    "            каждой оси гиперкуба\n",
    "        Edges - если Edges=1, то точки выборки будут браться на одинаковом\n",
    "                расстоянии от края до края,\n",
    "                иначе точки будут браться в центрах ячеек  n = q1*q2*...*qk,\n",
    "                заполняющих единичный гиперкуб.\n",
    "    Выход:\n",
    "        X - полный факториальный план выборки\n",
    "    \"\"\"\n",
    "    if np.min(q) < 2:\n",
    "        print(\"Error: в кажом измеренеии должно быть хотя бы две точки\")\n",
    "        print(f\"q = {q}\")\n",
    "        return\n",
    "\n",
    "    #Общее число точек в плане выборки\n",
    "    n = np.prod(q)\n",
    "    \n",
    "    #Число измерений гиперкуба\n",
    "    k = len(q)\n",
    "    \n",
    "    #Выделим место для будущего плана выборки\n",
    "    X = np.zeros((n, k))\n",
    "    \n",
    "    #Вспомогательный элемент\n",
    "    q = np.append(q, 1)\n",
    "    \n",
    "    for j in np.arange(k):\n",
    "        if Edges == 1:\n",
    "            one_d_slice = np.hstack((np.arange(0, 1, 1 / (q[j]-1)), 1))\n",
    "        else:\n",
    "            one_d_slice = np.hstack((np.array(1 / (2*q[j]), 1, 1 / q[j]),1))\n",
    "        \n",
    "        column = np.array([])\n",
    "        while len(column) < n:\n",
    "            for l in np.arange(q[j]):\n",
    "                column = np.concatenate([column, one_d_slice[l] * np.ones((np.prod(q[j+1:])))])\n",
    "        \n",
    "        X[:,j] = column\n",
    "    \n",
    "    return X"
   ]
  },
  {
   "cell_type": "markdown",
   "metadata": {},
   "source": [
    "_Пример_ : рассмотрим обычный трёхмерный куб. Пусть (q1,q2,q3) = (3,4,5), тогда имеем следующие сетки по осям:\n",
    "    1. по первой: [0, 0.5, 1]\n",
    "    2. по второй: [0, 1/3, 2/3, 1]\n",
    "    3. по третей: [0, 1/4, 1/2, 3/4, 1]  \n",
    "    \n",
    "В итоге полный факториальный план выборки $X$ имеет вид:  "
   ]
  },
  {
   "cell_type": "code",
   "execution_count": 40,
   "metadata": {},
   "outputs": [
    {
     "data": {
      "text/plain": [
       "array([[0.        , 0.        , 0.        ],\n",
       "       [0.        , 0.        , 0.25      ],\n",
       "       [0.        , 0.        , 0.5       ],\n",
       "       [0.        , 0.        , 0.75      ],\n",
       "       [0.        , 0.        , 1.        ],\n",
       "       [0.        , 0.33333333, 0.        ],\n",
       "       [0.        , 0.33333333, 0.25      ],\n",
       "       [0.        , 0.33333333, 0.5       ],\n",
       "       [0.        , 0.33333333, 0.75      ],\n",
       "       [0.        , 0.33333333, 1.        ],\n",
       "       [0.        , 0.66666667, 0.        ],\n",
       "       [0.        , 0.66666667, 0.25      ],\n",
       "       [0.        , 0.66666667, 0.5       ],\n",
       "       [0.        , 0.66666667, 0.75      ],\n",
       "       [0.        , 0.66666667, 1.        ],\n",
       "       [0.        , 1.        , 0.        ],\n",
       "       [0.        , 1.        , 0.25      ],\n",
       "       [0.        , 1.        , 0.5       ],\n",
       "       [0.        , 1.        , 0.75      ],\n",
       "       [0.        , 1.        , 1.        ],\n",
       "       [0.5       , 0.        , 0.        ],\n",
       "       [0.5       , 0.        , 0.25      ],\n",
       "       [0.5       , 0.        , 0.5       ],\n",
       "       [0.5       , 0.        , 0.75      ],\n",
       "       [0.5       , 0.        , 1.        ],\n",
       "       [0.5       , 0.33333333, 0.        ],\n",
       "       [0.5       , 0.33333333, 0.25      ],\n",
       "       [0.5       , 0.33333333, 0.5       ],\n",
       "       [0.5       , 0.33333333, 0.75      ],\n",
       "       [0.5       , 0.33333333, 1.        ],\n",
       "       [0.5       , 0.66666667, 0.        ],\n",
       "       [0.5       , 0.66666667, 0.25      ],\n",
       "       [0.5       , 0.66666667, 0.5       ],\n",
       "       [0.5       , 0.66666667, 0.75      ],\n",
       "       [0.5       , 0.66666667, 1.        ],\n",
       "       [0.5       , 1.        , 0.        ],\n",
       "       [0.5       , 1.        , 0.25      ],\n",
       "       [0.5       , 1.        , 0.5       ],\n",
       "       [0.5       , 1.        , 0.75      ],\n",
       "       [0.5       , 1.        , 1.        ],\n",
       "       [1.        , 0.        , 0.        ],\n",
       "       [1.        , 0.        , 0.25      ],\n",
       "       [1.        , 0.        , 0.5       ],\n",
       "       [1.        , 0.        , 0.75      ],\n",
       "       [1.        , 0.        , 1.        ],\n",
       "       [1.        , 0.33333333, 0.        ],\n",
       "       [1.        , 0.33333333, 0.25      ],\n",
       "       [1.        , 0.33333333, 0.5       ],\n",
       "       [1.        , 0.33333333, 0.75      ],\n",
       "       [1.        , 0.33333333, 1.        ],\n",
       "       [1.        , 0.66666667, 0.        ],\n",
       "       [1.        , 0.66666667, 0.25      ],\n",
       "       [1.        , 0.66666667, 0.5       ],\n",
       "       [1.        , 0.66666667, 0.75      ],\n",
       "       [1.        , 0.66666667, 1.        ],\n",
       "       [1.        , 1.        , 0.        ],\n",
       "       [1.        , 1.        , 0.25      ],\n",
       "       [1.        , 1.        , 0.5       ],\n",
       "       [1.        , 1.        , 0.75      ],\n",
       "       [1.        , 1.        , 1.        ]])"
      ]
     },
     "execution_count": 40,
     "metadata": {},
     "output_type": "execute_result"
    }
   ],
   "source": [
    "q = np.array([3,4,5])\n",
    "X = fullfactorial(q)\n",
    "X"
   ]
  },
  {
   "cell_type": "markdown",
   "metadata": {},
   "source": [
    "![fullfactorial](img/fullfactorial.bmp)  \n",
    "__Рис. 1.3.__ Пример трёхмерного полнофакториального плана выборки"
   ]
  },
  {
   "cell_type": "markdown",
   "metadata": {},
   "source": [
    "Очевидно, что такая конструкция удовлетворяет критерию однородности. Но она имеет два существенных недостатка.\n",
    "Во-первых, такой план определён только для конструкций определённых размеров, которые могут быть записаны как произведение количеств точек вдоль каждой оси, т.е. $n = q_1 \\times q_2 \\times ... \\times q_k$.  \n",
    "Во-вторых, при проецировании на оси наборы точек будут перекрываться, и можно утверждать, что выборку для любой отдельной переменной можно улучшить, убедившись, что эти проекции являются как можно более однородными.  \n",
    "Это может быть сделано путем разбиения диапазона значений этой переменной на относительно большое число ячеек одинакового размера и генерации случайных подвыборок одинакового размера внутри этих ячеек. Этот подход известен как _стратифицированная случайная выборка_. Естественным развитием этой идеи является создание плана выборки, стратифицированного по всем его измерениям. Обычно используют метод _Латинской гиперкубической выборки_."
   ]
  },
  {
   "cell_type": "markdown",
   "metadata": {},
   "source": [
    "### Латинские квадраты и случайные Латинские гиперкубы"
   ]
  },
  {
   "cell_type": "markdown",
   "metadata": {},
   "source": [
    "Как уже было сказано, стратификация плана выборки направлена на создание точек, проекции которых на оси переменных однородны. Прежде чем мы рассмотрим общие методы построения таких планов, стоит рассмотреть случай дискретнозначных переменных в двух измерениях. Такие однородные проекционные планы могут быть сгенерированы довольно легко: если требуется $n$ ???точек измерения???, то квадрат $n \\times n$ строится путём заполнения каждого столбца и каждой строки некоторой перестановкий $\\{1,2,...,n\\}$, то есть каждое число должно только один раз появляться в каждом столбце и в каждой строке. Например, для $n=4$ _Латинский квадрат_ (так обычно называют такие планы выборки) имеет вид:  \n",
    "\n",
    "\n",
    "![LSQ](img/Latin_Square_n=4.bmp)  \n",
    "\n",
    "Мы выделили единички (__1__), чтобы проиллюстрировать идею равномерной проекции, но, конечно, мы могли бы выбрать 2, 3 или 4 с тем же успехом. Кроме того, это всего лишь один произвольно выбранный четырехточечный латинский квадрат – мы могли бы с равным успехом выбрать любой из других 575 возможных вариантов. Кстати, число различных латинских квадратов довольно резко возрастает с ростом n; например, существует 108 776 032 459 082 956 800 латинских квадратов восьмого порядка! (Доказательство данного факта предоставлено читателю в качестве упражнения.)\n",
    "\n",
    "Построение _Латинского гиперкуба_ (многомерного расширения Латинского квадрата) можно сделать аналагичным образом: разделить Область Проектирования на гиперкубы одинакового размера (ячейки) и поместить точки в эти ячейки (по одно точке в ячейку) таким образом, чтобы выполнялось следующее условие. Через каждую точку проведём линии, параллельные осям гиперкуба. Тогда каждая такая линия должна проходить ровно через одну точку. Выполнение данного условия проиллюстрировано на рис. 1.4. для трёхмерного куба  \n",
    "![LHC3D](img/LatinHiperCube3D.bmp)  \n",
    "__Рис. 1.4.__ Трёхпеременный десятиточечный план выборки с помощью Латинского гиперкуба. Показан в трёх измерениях(сверху слева) вместе с его двумерными проекциями. Все десять точек видны на каждой из проекций, и каждая строка и столбец ячеек содержит ровно одну точку."
   ]
  },
  {
   "cell_type": "markdown",
   "metadata": {},
   "source": [
    "Мы получаем такой план выборки следующим образом. Если $X$ - это матрица $n \\times k$, в которой мы хотим записать этот план (каждая строчка обозначает одну точку) то мы начинаем заполнение $X$ случайными перестановками $\\{1,2,...,n\\}$ в каждом столбце и нормализуем наш план в $k$-мерном кубе $[0,1]^k$. Далее представлена реализация этого алгоритма на Python:"
   ]
  },
  {
   "cell_type": "code",
   "execution_count": 66,
   "metadata": {},
   "outputs": [],
   "source": [
    "def rlh(n, k , Edges=0):\n",
    "    \"\"\"\n",
    "    Генерирует случайный k-переменный n-точечный план выборки \n",
    "    с помощью Латинского гиперкуба\n",
    "    \n",
    "    Вход:\n",
    "        n - желаемое количество точек\n",
    "        k - число проектных переменных (количество измерений)\n",
    "        Edges - если Edges=1, то крайние ячейки будут иметь свой центр \n",
    "                на краю области,\n",
    "                иначе ячейки будут полностью содержаться в области\n",
    "    Выход:\n",
    "        X - k-переменный n-точечный План выборки с помощью \n",
    "        Латинского гиперкуба\n",
    "    \"\"\"\n",
    "    \n",
    "    #Выделим место для будущего плана выборки\n",
    "    X = np.zeros((n, k))\n",
    "    \n",
    "    for i in np.arange(k):\n",
    "        X[:,i] = 1 + np.random.permutation(n)\n",
    "    if Edges==1:\n",
    "        X = (X - 1) / (n-1)\n",
    "    else:\n",
    "        X = (X - 0.5) / n\n",
    "    return X"
   ]
  },
  {
   "cell_type": "markdown",
   "metadata": {},
   "source": [
    "Таким образом, приведенный выше метод даст рандомизированный план выборки, проекции которого на ось равномерно распределены (многомерная стратификация). Однако, это не гаратирует, что план будет _заполняющим пространство_ , потому что размещение всех точек на главной диагонали области проектирования будет отвечать критерию многомерной стратификации, но ,интуитивно, не будет заполнять имеющееся пространство равномерно.  \n",
    "Поэтому нам нужна некоторая мера равномерности, которая позволит нам различить \"хорошие\" и \"плохие\" Латинские гиперкубы."
   ]
  },
  {
   "cell_type": "markdown",
   "metadata": {},
   "source": [
    "### Латинские гиперкубы, _заполняющие пространство_"
   ]
  },
  {
   "cell_type": "code",
   "execution_count": null,
   "metadata": {},
   "outputs": [],
   "source": []
  }
 ],
 "metadata": {
  "jupytext": {
   "formats": "ipynb,md"
  },
  "kernelspec": {
   "display_name": "Python 3",
   "language": "python",
   "name": "python3"
  },
  "language_info": {
   "codemirror_mode": {
    "name": "ipython",
    "version": 3
   },
   "file_extension": ".py",
   "mimetype": "text/x-python",
   "name": "python",
   "nbconvert_exporter": "python",
   "pygments_lexer": "ipython3",
   "version": "3.8.3"
  },
  "latex_envs": {
   "LaTeX_envs_menu_present": true,
   "autoclose": true,
   "autocomplete": true,
   "bibliofile": "biblio.bib",
   "cite_by": "apalike",
   "current_citInitial": 1,
   "eqLabelWithNumbers": true,
   "eqNumInitial": 1,
   "hotkeys": {
    "equation": "Ctrl-E",
    "itemize": "Ctrl-I"
   },
   "labels_anchors": false,
   "latex_user_defs": false,
   "report_style_numbering": false,
   "user_envs_cfg": false
  },
  "toc": {
   "base_numbering": 1,
   "nav_menu": {},
   "number_sections": true,
   "sideBar": true,
   "skip_h1_title": true,
   "title_cell": "Содержание",
   "title_sidebar": "Contents",
   "toc_cell": true,
   "toc_position": {},
   "toc_section_display": true,
   "toc_window_display": false
  }
 },
 "nbformat": 4,
 "nbformat_minor": 4
}
