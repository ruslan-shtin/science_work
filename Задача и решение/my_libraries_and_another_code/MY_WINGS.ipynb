{
 "cells": [
  {
   "cell_type": "markdown",
   "metadata": {},
   "source": [
    "Здесь хранятся изучаемые кралья"
   ]
  },
  {
   "cell_type": "code",
   "execution_count": 1,
   "metadata": {},
   "outputs": [],
   "source": [
    "import numpy as np"
   ]
  },
  {
   "cell_type": "code",
   "execution_count": 2,
   "metadata": {},
   "outputs": [],
   "source": [
    "class wing1:\n",
    "    def __init__(self, ):\n",
    "        \"\"\"\n",
    "        Инициализирует крыло первого типа\n",
    "        \"\"\"\n",
    "        # эти данные получены кропотливым ручным програмно-экспериментальным трудом\n",
    "        self.n_parts = 10\n",
    "                \n",
    "        self.zones_inds = []\n",
    "        self.z1 = np.arange(0,833) # верхняя часть ближней передней кромки.    \"ближняя\" - ближе к корпусу самолёта\n",
    "        self.z2 = np.arange(833, 13377) # нижняя часть первого блока крыла.    \"первый\" - отсчёт от корпуса самолёта\n",
    "        self.z3 = np.arange(13377,15009) # нижняя часть дальней передней кромки\n",
    "        self.z4 = np.arange(15009,27297) # нижняя часть второго блока крыла\n",
    "        self.z5 = np.arange(27297,39585) # нижняя часть третьего блока крыла\n",
    "        self.z6 = np.arange(39585,40369) # верхняя часть ближней передней кромки\n",
    "        self.z7 = np.arange(40369,52913) # верхняя часть первого блока крыла\n",
    "        self.z8 = np.arange(52913,54449) # верхняя часть дальней передней кромки\n",
    "        self.z9 = np.arange(54449,66737) # верхняя часть второго блока крыла\n",
    "        self.z10 = np.arange(66737,79025) # верхняя часть третьего блока крыла\n",
    "\n",
    "        # возможно, перепутан верх и низ\n",
    "\n",
    "        self.zones_inds.append(self.z1)\n",
    "        self.zones_inds.append(self.z2)\n",
    "        self.zones_inds.append(self.z3)\n",
    "        self.zones_inds.append(self.z4)\n",
    "        self.zones_inds.append(self.z5)\n",
    "        self.zones_inds.append(self.z6)\n",
    "        self.zones_inds.append(self.z7)\n",
    "        self.zones_inds.append(self.z8)\n",
    "        self.zones_inds.append(self.z9)\n",
    "        self.zones_inds.append(self.z10)\n",
    "\n",
    "        self.dims_zones = [(49, 17), (256, 49), (96, 17), (256, 48), (256, 48), \n",
    "                           (49, 16), (256, 49), (96, 16), (256, 48), (256, 48)]\n",
    "        \n",
    "        self.S_REF = 0.15"
   ]
  }
 ],
 "metadata": {
  "kernelspec": {
   "display_name": "Python 3",
   "language": "python",
   "name": "python3"
  },
  "language_info": {
   "codemirror_mode": {
    "name": "ipython",
    "version": 3
   },
   "file_extension": ".py",
   "mimetype": "text/x-python",
   "name": "python",
   "nbconvert_exporter": "python",
   "pygments_lexer": "ipython3",
   "version": "3.8.3"
  },
  "toc": {
   "base_numbering": 1,
   "nav_menu": {},
   "number_sections": true,
   "sideBar": true,
   "skip_h1_title": false,
   "title_cell": "Table of Contents",
   "title_sidebar": "Contents",
   "toc_cell": false,
   "toc_position": {},
   "toc_section_display": true,
   "toc_window_display": false
  }
 },
 "nbformat": 4,
 "nbformat_minor": 5
}
