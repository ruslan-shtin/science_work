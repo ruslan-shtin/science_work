{
 "cells": [
  {
   "cell_type": "markdown",
   "id": "5c5b381d",
   "metadata": {},
   "source": [
    "Мои значения $C_x, C_y, C_z$ не совпадают со значениями из папки `results`. Это из-за того, что мои расчёты не учитывают трение.   \n",
    "\n",
    "Идея!    \n",
    "\n",
    "Из значений из папки `results` выразить значения $C_x, C_y, C_z$, обусловленные только давлением, и сравнить их с моими значениями."
   ]
  },
  {
   "cell_type": "code",
   "execution_count": 1,
   "id": "e1686107",
   "metadata": {},
   "outputs": [],
   "source": [
    "import numpy as np\n",
    "import matplotlib.pyplot as plt\n",
    "import pandas as pd\n",
    "from mpl_toolkits.mplot3d import Axes3D\n",
    "\n",
    "\n",
    "# для работы с файлами\n",
    "import glob\n",
    "\n",
    "# для работы с моим интегратором\n",
    "import my3D_surface_integrator as sint\n",
    "\n",
    "# для отслеживания прогресса\n",
    "from tqdm import tqdm"
   ]
  },
  {
   "cell_type": "markdown",
   "id": "ac8f3a9e",
   "metadata": {},
   "source": [
    "# Шаг 1: скоростной напор"
   ]
  },
  {
   "cell_type": "markdown",
   "id": "c364931e",
   "metadata": {},
   "source": [
    "Должно быть так:  \n",
    "$$k = \\frac{\\rho V^2}{2} \\cdot S = \\frac{(F_{sum})_x}{C_x} = \\frac{(F_{sum})_y}{C_y} = \\frac{(F_{sum})_z}{C_z}$$  \n",
    "Проверим это."
   ]
  },
  {
   "cell_type": "code",
   "execution_count": 2,
   "id": "0401493e",
   "metadata": {},
   "outputs": [
    {
     "name": "stderr",
     "output_type": "stream",
     "text": [
      "64it [00:00, 1098.17it/s]\n"
     ]
    }
   ],
   "source": [
    "regimes = (pd.read_csv(\"./data/regimes.csv\")).drop(['Num'],axis=1)\n",
    "\n",
    "Fsum_xyz = pd.DataFrame(columns=['Fx', 'Fy', 'Fz'], data=np.zeros((regimes.shape[0],3)))\n",
    "sum_coefCxyz = pd.DataFrame(columns=['Cx', 'Cy', 'Cz'], data=np.zeros((regimes.shape[0],3)))\n",
    "\n",
    "\n",
    "files = glob.glob(\"results/*_*_*\")\n",
    "files.sort()\n",
    "for i,path in tqdm(enumerate(files)):\n",
    "    f = open(path, mode='r')\n",
    "\n",
    "    l = f.readlines()[19]\n",
    "    sep_words = l.split()\n",
    "    \n",
    "    Fsum_xyz.iloc[i][0] = float(sep_words[-4])\n",
    "    Fsum_xyz.iloc[i][1] = float(sep_words[-3])\n",
    "    Fsum_xyz.iloc[i][2] = float(sep_words[-2])   \n",
    "    f.close()\n",
    "    \n",
    "    f = open(path, mode='r')\n",
    "    l = f.readlines()[22]\n",
    "    sep_words = l.split()\n",
    "    sum_coefCxyz.iloc[i][0] = float(sep_words[-3])\n",
    "    sum_coefCxyz.iloc[i][1] = float(sep_words[-2])\n",
    "    sum_coefCxyz.iloc[i][2] = float(sep_words[-1])    \n",
    "\n",
    "    f.close()"
   ]
  },
  {
   "cell_type": "code",
   "execution_count": 4,
   "id": "ffd436de",
   "metadata": {},
   "outputs": [
    {
     "data": {
      "text/html": [
       "<div>\n",
       "<style scoped>\n",
       "    .dataframe tbody tr th:only-of-type {\n",
       "        vertical-align: middle;\n",
       "    }\n",
       "\n",
       "    .dataframe tbody tr th {\n",
       "        vertical-align: top;\n",
       "    }\n",
       "\n",
       "    .dataframe thead th {\n",
       "        text-align: right;\n",
       "    }\n",
       "</style>\n",
       "<table border=\"1\" class=\"dataframe\">\n",
       "  <thead>\n",
       "    <tr style=\"text-align: right;\">\n",
       "      <th></th>\n",
       "      <th>Fx</th>\n",
       "      <th>Fy</th>\n",
       "      <th>Fz</th>\n",
       "    </tr>\n",
       "  </thead>\n",
       "  <tbody>\n",
       "    <tr>\n",
       "      <th>0</th>\n",
       "      <td>-431.481</td>\n",
       "      <td>1546.460</td>\n",
       "      <td>-772.548</td>\n",
       "    </tr>\n",
       "    <tr>\n",
       "      <th>1</th>\n",
       "      <td>-109.730</td>\n",
       "      <td>620.910</td>\n",
       "      <td>-598.760</td>\n",
       "    </tr>\n",
       "    <tr>\n",
       "      <th>2</th>\n",
       "      <td>-354.197</td>\n",
       "      <td>-3452.650</td>\n",
       "      <td>-671.944</td>\n",
       "    </tr>\n",
       "    <tr>\n",
       "      <th>3</th>\n",
       "      <td>-210.768</td>\n",
       "      <td>-3212.720</td>\n",
       "      <td>-617.210</td>\n",
       "    </tr>\n",
       "    <tr>\n",
       "      <th>4</th>\n",
       "      <td>-214.190</td>\n",
       "      <td>-2508.050</td>\n",
       "      <td>-651.033</td>\n",
       "    </tr>\n",
       "    <tr>\n",
       "      <th>...</th>\n",
       "      <td>...</td>\n",
       "      <td>...</td>\n",
       "      <td>...</td>\n",
       "    </tr>\n",
       "    <tr>\n",
       "      <th>59</th>\n",
       "      <td>-281.026</td>\n",
       "      <td>-3364.970</td>\n",
       "      <td>-644.243</td>\n",
       "    </tr>\n",
       "    <tr>\n",
       "      <th>60</th>\n",
       "      <td>-97.005</td>\n",
       "      <td>-1423.820</td>\n",
       "      <td>-556.964</td>\n",
       "    </tr>\n",
       "    <tr>\n",
       "      <th>61</th>\n",
       "      <td>-163.129</td>\n",
       "      <td>1103.820</td>\n",
       "      <td>-630.015</td>\n",
       "    </tr>\n",
       "    <tr>\n",
       "      <th>62</th>\n",
       "      <td>-384.998</td>\n",
       "      <td>-3458.090</td>\n",
       "      <td>-706.648</td>\n",
       "    </tr>\n",
       "    <tr>\n",
       "      <th>63</th>\n",
       "      <td>-216.538</td>\n",
       "      <td>232.492</td>\n",
       "      <td>-671.171</td>\n",
       "    </tr>\n",
       "  </tbody>\n",
       "</table>\n",
       "<p>64 rows × 3 columns</p>\n",
       "</div>"
      ],
      "text/plain": [
       "         Fx        Fy       Fz\n",
       "0  -431.481  1546.460 -772.548\n",
       "1  -109.730   620.910 -598.760\n",
       "2  -354.197 -3452.650 -671.944\n",
       "3  -210.768 -3212.720 -617.210\n",
       "4  -214.190 -2508.050 -651.033\n",
       "..      ...       ...      ...\n",
       "59 -281.026 -3364.970 -644.243\n",
       "60  -97.005 -1423.820 -556.964\n",
       "61 -163.129  1103.820 -630.015\n",
       "62 -384.998 -3458.090 -706.648\n",
       "63 -216.538   232.492 -671.171\n",
       "\n",
       "[64 rows x 3 columns]"
      ]
     },
     "execution_count": 4,
     "metadata": {},
     "output_type": "execute_result"
    }
   ],
   "source": [
    "Fsum_xyz"
   ]
  },
  {
   "cell_type": "code",
   "execution_count": 5,
   "id": "7e228f7e",
   "metadata": {},
   "outputs": [],
   "source": [
    "# посчитаем коэффициент k\n",
    "velocity_head = Fsum_xyz.to_numpy() / sum_coefCxyz.to_numpy()"
   ]
  },
  {
   "cell_type": "code",
   "execution_count": 6,
   "id": "fd3dc9cc",
   "metadata": {
    "scrolled": true
   },
   "outputs": [
    {
     "data": {
      "text/plain": [
       "array([[-5173.74475708, -5173.73354834, -5173.73979547],\n",
       "       [-4562.59693387, -4562.56245958, -4562.57191408],\n",
       "       [-4400.2907049 , -4400.29822594, -4400.30385583],\n",
       "       [-4577.08720154, -4577.0914629 , -4577.07937826],\n",
       "       [-4909.10174371, -4909.09162085, -4909.08473963],\n",
       "       [-4591.50256388, -4591.48163559, -4591.46806482],\n",
       "       [-4801.77993528, -4801.77436715, -4801.79571346],\n",
       "       [-4676.95913128, -4676.96360027, -4676.96243128],\n",
       "       [-4548.08406639, -4548.07636997, -4548.09784863],\n",
       "       [-4415.26336233, -4415.246961  , -4415.24275591],\n",
       "       [-5113.07621955, -5113.04405564, -5113.06486494],\n",
       "       [-5012.89660125, -5012.90087411, -5012.89566237],\n",
       "       [-5125.31416736, -5125.29566399, -5125.30511454],\n",
       "       [-4662.83794871, -4662.86002398, -4662.84845859],\n",
       "       [-4961.42591115, -4961.43663797, -4961.43326457],\n",
       "       [-5075.90007747, -5075.89046782, -5075.88228328],\n",
       "       [-4788.10265717, -4788.08439678, -4788.0986497 ],\n",
       "       [-4385.27982343, -4385.2845975 , -4385.29707292],\n",
       "       [-5050.89344134, -5050.89368166, -5050.89007272],\n",
       "       [-5088.36244824, -5088.38359957, -5088.37536219],\n",
       "       [-4691.05574288, -4691.06525397, -4691.06734406],\n",
       "       [-5149.66364925, -5149.65948691, -5149.65602   ],\n",
       "       [-5161.73284544, -5161.74381081, -5161.73836341],\n",
       "       [-5137.49458683, -5137.50204475, -5137.48268909],\n",
       "       [-4855.84818806, -4855.85292839, -4855.85453908],\n",
       "       [-4732.96921375, -4732.96880157, -4732.95400455],\n",
       "       [-5185.74743517, -5185.76151729, -5185.74862113],\n",
       "       [-4430.24267577, -4430.23525425, -4430.24845024],\n",
       "       [-4339.95374539, -4339.94228052, -4339.9357384 ],\n",
       "       [-4987.28883116, -4987.2675509 , -4987.26055204],\n",
       "       [-4620.22167112, -4620.19561207, -4620.19155406],\n",
       "       [-4895.83034179, -4895.84297818, -4895.83317757],\n",
       "       [-4518.886757  , -4518.89036218, -4518.90417098],\n",
       "       [-5000.08239585, -5000.09503578, -5000.09846545],\n",
       "       [-4774.39878039, -4774.39996016, -4774.39852278],\n",
       "       [-4355.08137908, -4355.06817529, -4355.06488621],\n",
       "       [-4705.08413244, -4705.06637463, -4705.07285689],\n",
       "       [-5100.72040554, -5100.70948403, -5100.71443581],\n",
       "       [-4370.16947478, -4370.17227344, -4370.18597844],\n",
       "       [-4842.4427323 , -4842.42488481, -4842.41097633],\n",
       "       [-4935.33508012, -4935.34983788, -4935.35515325],\n",
       "       [-4974.34352442, -4974.34338696, -4974.35839729],\n",
       "       [-4815.36447327, -4815.36218287, -4815.34856309],\n",
       "       [-4474.76252561, -4474.76532452, -4474.77565963],\n",
       "       [-4324.69707043, -4324.68930372, -4324.68706095],\n",
       "       [-4719.01697959, -4719.00664471, -4719.02101278],\n",
       "       [-4746.79046261, -4746.80950295, -4746.82097001],\n",
       "       [-4445.12900523, -4445.104602  , -4445.11426825],\n",
       "       [-4605.83000443, -4605.84376863, -4605.82553867],\n",
       "       [-4869.19457891, -4869.20723132, -4869.19423279],\n",
       "       [-4922.2448407 , -4922.23631064, -4922.23977667],\n",
       "       [-5038.25730733, -5038.24666266, -5038.24391263],\n",
       "       [-4533.49116889, -4533.48061832, -4533.47526653],\n",
       "       [-4948.43306785, -4948.43263861, -4948.44214742],\n",
       "       [-5063.4035455 , -5063.42279191, -5063.41878417],\n",
       "       [-4489.50996433, -4489.49386579, -4489.5081336 ],\n",
       "       [-4760.60948955, -4760.61447116, -4760.6166101 ],\n",
       "       [-4459.99680336, -4459.98686992, -4459.98746201],\n",
       "       [-4828.89871092, -4828.89281065, -4828.89815936],\n",
       "       [-4648.6538347 , -4648.65395056, -4648.65391415],\n",
       "       [-4504.25560565, -4504.24857485, -4504.2497958 ],\n",
       "       [-4634.43875304, -4634.452529  , -4634.43968751],\n",
       "       [-4882.58278557, -4882.57693953, -4882.59355481],\n",
       "       [-5025.5877049 , -5025.6044443 , -5025.6158742 ]])"
      ]
     },
     "execution_count": 6,
     "metadata": {},
     "output_type": "execute_result"
    }
   ],
   "source": [
    "velocity_head"
   ]
  },
  {
   "cell_type": "code",
   "execution_count": 7,
   "id": "d8c0c6f1",
   "metadata": {},
   "outputs": [
    {
     "data": {
      "text/plain": [
       "[True, True, True]"
      ]
     },
     "execution_count": 7,
     "metadata": {},
     "output_type": "execute_result"
    }
   ],
   "source": [
    "equality = [\n",
    "    np.isclose(velocity_head[:,0], velocity_head[:,1]).all(),\n",
    "    np.isclose(velocity_head[:,0], velocity_head[:,2]).all(),\n",
    "    np.isclose(velocity_head[:,1], velocity_head[:,2]).all()\n",
    "]\n",
    "equality"
   ]
  },
  {
   "cell_type": "markdown",
   "id": "3b285335",
   "metadata": {},
   "source": [
    "отлично. Всё как и предсказывала теория.\n",
    "Получим скоростной напор для каждого прецидента"
   ]
  },
  {
   "cell_type": "code",
   "execution_count": 8,
   "id": "1e82f3da",
   "metadata": {},
   "outputs": [
    {
     "data": {
      "text/plain": [
       "array([-5173.73936696, -4562.57710251, -4400.29759555, -4577.08601423,\n",
       "       -4909.09270139, -4591.4840881 , -4801.78333863, -4676.96172094,\n",
       "       -4548.086095  , -4415.25102641, -5113.06171338, -5012.89771258,\n",
       "       -5125.30498196, -4662.84881043, -4961.4319379 , -5075.89094285,\n",
       "       -4788.09523455, -4385.28716461, -5050.89239857, -5088.37380334,\n",
       "       -4691.0627803 , -5149.65971872, -5161.73833989, -5137.49310689,\n",
       "       -4855.85188518, -4732.96400663, -5185.75252453, -4430.24212675,\n",
       "       -4339.94392144, -4987.27231137, -4620.20294575, -4895.83549918,\n",
       "       -4518.89376339, -5000.09196569, -4774.39908778, -4355.07148019,\n",
       "       -4705.07445465, -5100.71477513, -4370.17590889, -4842.42619781,\n",
       "       -4935.34669042, -4974.34843622, -4815.35840641, -4474.76783659,\n",
       "       -4324.69114503, -4719.01487903, -4746.80697852, -4445.1159585 ,\n",
       "       -4605.83310391, -4869.19868101, -4922.24030933, -5038.24929421,\n",
       "       -4533.48235125, -4948.43595129, -5063.41504053, -4489.50398791,\n",
       "       -4760.6135236 , -4459.99037843, -4828.89656031, -4648.6538998 ,\n",
       "       -4504.25132543, -4634.44365652, -4882.58442664, -5025.60267447])"
      ]
     },
     "execution_count": 8,
     "metadata": {},
     "output_type": "execute_result"
    }
   ],
   "source": [
    "rhoV22S = np.mean(velocity_head, axis=1)\n",
    "rhoV22S"
   ]
  },
  {
   "cell_type": "markdown",
   "id": "fe90a22f",
   "metadata": {},
   "source": [
    "# Шаг 2: силы давления"
   ]
  },
  {
   "cell_type": "markdown",
   "id": "236936ba",
   "metadata": {},
   "source": [
    "Силы давления = Суммарные силы - силы трения\n",
    "\n",
    "\n",
    "Сначала вытянем суммарные силы на крыле и силы трения на крыле"
   ]
  },
  {
   "cell_type": "code",
   "execution_count": 9,
   "id": "34236a32",
   "metadata": {},
   "outputs": [
    {
     "name": "stderr",
     "output_type": "stream",
     "text": [
      "64it [00:00, 1050.79it/s]\n"
     ]
    }
   ],
   "source": [
    "Ffric_wing = pd.DataFrame(columns=['Ffricx', 'Ffricy', 'Ffricz'], data=np.zeros((regimes.shape[0],3)))\n",
    "F_wing = pd.DataFrame(columns=['Fx', 'Fy', 'Fz'], data=np.zeros((regimes.shape[0],3)))\n",
    "\n",
    "\n",
    "\n",
    "files = glob.glob(\"results/*_*_*\")\n",
    "files.sort()\n",
    "for i,path in tqdm(enumerate(files)):\n",
    "    f = open(path, mode='r')\n",
    "\n",
    "    l = f.readlines()[10]\n",
    "    sep_words = l.split()\n",
    "    \n",
    "    Ffric_wing.iloc[i][0] = float(sep_words[-4])\n",
    "    Ffric_wing.iloc[i][1] = float(sep_words[-3])\n",
    "    Ffric_wing.iloc[i][2] = float(sep_words[-2])   \n",
    "    f.close()\n",
    "    \n",
    "    f = open(path, mode='r')\n",
    "\n",
    "    l = f.readlines()[5]\n",
    "    sep_words = l.split()\n",
    "    \n",
    "    F_wing.iloc[i][0] = float(sep_words[-4])\n",
    "    F_wing.iloc[i][1] = float(sep_words[-3])\n",
    "    F_wing.iloc[i][2] = float(sep_words[-2])   \n",
    "    f.close()"
   ]
  },
  {
   "cell_type": "code",
   "execution_count": 10,
   "id": "db0dc46b",
   "metadata": {},
   "outputs": [
    {
     "data": {
      "text/html": [
       "<div>\n",
       "<style scoped>\n",
       "    .dataframe tbody tr th:only-of-type {\n",
       "        vertical-align: middle;\n",
       "    }\n",
       "\n",
       "    .dataframe tbody tr th {\n",
       "        vertical-align: top;\n",
       "    }\n",
       "\n",
       "    .dataframe thead th {\n",
       "        text-align: right;\n",
       "    }\n",
       "</style>\n",
       "<table border=\"1\" class=\"dataframe\">\n",
       "  <thead>\n",
       "    <tr style=\"text-align: right;\">\n",
       "      <th></th>\n",
       "      <th>Fx</th>\n",
       "      <th>Fy</th>\n",
       "      <th>Fz</th>\n",
       "    </tr>\n",
       "  </thead>\n",
       "  <tbody>\n",
       "    <tr>\n",
       "      <th>0</th>\n",
       "      <td>-340.7100</td>\n",
       "      <td>1319.810</td>\n",
       "      <td>-106.2280</td>\n",
       "    </tr>\n",
       "    <tr>\n",
       "      <th>1</th>\n",
       "      <td>-67.9984</td>\n",
       "      <td>549.636</td>\n",
       "      <td>-107.6330</td>\n",
       "    </tr>\n",
       "    <tr>\n",
       "      <th>2</th>\n",
       "      <td>-252.4320</td>\n",
       "      <td>-2883.930</td>\n",
       "      <td>164.2310</td>\n",
       "    </tr>\n",
       "    <tr>\n",
       "      <th>3</th>\n",
       "      <td>-138.4780</td>\n",
       "      <td>-2753.020</td>\n",
       "      <td>155.0050</td>\n",
       "    </tr>\n",
       "    <tr>\n",
       "      <th>4</th>\n",
       "      <td>-145.9950</td>\n",
       "      <td>-2157.900</td>\n",
       "      <td>127.1390</td>\n",
       "    </tr>\n",
       "    <tr>\n",
       "      <th>...</th>\n",
       "      <td>...</td>\n",
       "      <td>...</td>\n",
       "      <td>...</td>\n",
       "    </tr>\n",
       "    <tr>\n",
       "      <th>59</th>\n",
       "      <td>-196.0910</td>\n",
       "      <td>-2876.100</td>\n",
       "      <td>169.7280</td>\n",
       "    </tr>\n",
       "    <tr>\n",
       "      <th>60</th>\n",
       "      <td>-53.2013</td>\n",
       "      <td>-1209.810</td>\n",
       "      <td>57.4249</td>\n",
       "    </tr>\n",
       "    <tr>\n",
       "      <th>61</th>\n",
       "      <td>-112.6100</td>\n",
       "      <td>962.169</td>\n",
       "      <td>-142.6840</td>\n",
       "    </tr>\n",
       "    <tr>\n",
       "      <th>62</th>\n",
       "      <td>-283.8100</td>\n",
       "      <td>-2939.560</td>\n",
       "      <td>200.2170</td>\n",
       "    </tr>\n",
       "    <tr>\n",
       "      <th>63</th>\n",
       "      <td>-157.4230</td>\n",
       "      <td>194.590</td>\n",
       "      <td>-49.8145</td>\n",
       "    </tr>\n",
       "  </tbody>\n",
       "</table>\n",
       "<p>64 rows × 3 columns</p>\n",
       "</div>"
      ],
      "text/plain": [
       "          Fx        Fy        Fz\n",
       "0  -340.7100  1319.810 -106.2280\n",
       "1   -67.9984   549.636 -107.6330\n",
       "2  -252.4320 -2883.930  164.2310\n",
       "3  -138.4780 -2753.020  155.0050\n",
       "4  -145.9950 -2157.900  127.1390\n",
       "..       ...       ...       ...\n",
       "59 -196.0910 -2876.100  169.7280\n",
       "60  -53.2013 -1209.810   57.4249\n",
       "61 -112.6100   962.169 -142.6840\n",
       "62 -283.8100 -2939.560  200.2170\n",
       "63 -157.4230   194.590  -49.8145\n",
       "\n",
       "[64 rows x 3 columns]"
      ]
     },
     "execution_count": 10,
     "metadata": {},
     "output_type": "execute_result"
    }
   ],
   "source": [
    "F_wing"
   ]
  },
  {
   "cell_type": "code",
   "execution_count": 11,
   "id": "1e0e0448",
   "metadata": {},
   "outputs": [
    {
     "data": {
      "text/html": [
       "<div>\n",
       "<style scoped>\n",
       "    .dataframe tbody tr th:only-of-type {\n",
       "        vertical-align: middle;\n",
       "    }\n",
       "\n",
       "    .dataframe tbody tr th {\n",
       "        vertical-align: top;\n",
       "    }\n",
       "\n",
       "    .dataframe thead th {\n",
       "        text-align: right;\n",
       "    }\n",
       "</style>\n",
       "<table border=\"1\" class=\"dataframe\">\n",
       "  <thead>\n",
       "    <tr style=\"text-align: right;\">\n",
       "      <th></th>\n",
       "      <th>Ffricx</th>\n",
       "      <th>Ffricy</th>\n",
       "      <th>Ffricz</th>\n",
       "    </tr>\n",
       "  </thead>\n",
       "  <tbody>\n",
       "    <tr>\n",
       "      <th>0</th>\n",
       "      <td>-27.0227</td>\n",
       "      <td>-0.665014</td>\n",
       "      <td>0.472939</td>\n",
       "    </tr>\n",
       "    <tr>\n",
       "      <th>1</th>\n",
       "      <td>-23.8452</td>\n",
       "      <td>-0.009995</td>\n",
       "      <td>-0.241992</td>\n",
       "    </tr>\n",
       "    <tr>\n",
       "      <th>2</th>\n",
       "      <td>-18.1402</td>\n",
       "      <td>0.528957</td>\n",
       "      <td>-2.448490</td>\n",
       "    </tr>\n",
       "    <tr>\n",
       "      <th>3</th>\n",
       "      <td>-23.4295</td>\n",
       "      <td>0.396081</td>\n",
       "      <td>-0.457794</td>\n",
       "    </tr>\n",
       "    <tr>\n",
       "      <th>4</th>\n",
       "      <td>-24.4843</td>\n",
       "      <td>0.406527</td>\n",
       "      <td>-0.079187</td>\n",
       "    </tr>\n",
       "    <tr>\n",
       "      <th>...</th>\n",
       "      <td>...</td>\n",
       "      <td>...</td>\n",
       "      <td>...</td>\n",
       "    </tr>\n",
       "    <tr>\n",
       "      <th>59</th>\n",
       "      <td>-21.9693</td>\n",
       "      <td>0.375083</td>\n",
       "      <td>-1.154490</td>\n",
       "    </tr>\n",
       "    <tr>\n",
       "      <th>60</th>\n",
       "      <td>-25.8730</td>\n",
       "      <td>0.194101</td>\n",
       "      <td>0.619151</td>\n",
       "    </tr>\n",
       "    <tr>\n",
       "      <th>61</th>\n",
       "      <td>-22.1411</td>\n",
       "      <td>-0.023013</td>\n",
       "      <td>-1.081790</td>\n",
       "    </tr>\n",
       "    <tr>\n",
       "      <th>62</th>\n",
       "      <td>-22.6879</td>\n",
       "      <td>0.699842</td>\n",
       "      <td>-0.872064</td>\n",
       "    </tr>\n",
       "    <tr>\n",
       "      <th>63</th>\n",
       "      <td>-23.9850</td>\n",
       "      <td>-0.049114</td>\n",
       "      <td>-0.417594</td>\n",
       "    </tr>\n",
       "  </tbody>\n",
       "</table>\n",
       "<p>64 rows × 3 columns</p>\n",
       "</div>"
      ],
      "text/plain": [
       "     Ffricx    Ffricy    Ffricz\n",
       "0  -27.0227 -0.665014  0.472939\n",
       "1  -23.8452 -0.009995 -0.241992\n",
       "2  -18.1402  0.528957 -2.448490\n",
       "3  -23.4295  0.396081 -0.457794\n",
       "4  -24.4843  0.406527 -0.079187\n",
       "..      ...       ...       ...\n",
       "59 -21.9693  0.375083 -1.154490\n",
       "60 -25.8730  0.194101  0.619151\n",
       "61 -22.1411 -0.023013 -1.081790\n",
       "62 -22.6879  0.699842 -0.872064\n",
       "63 -23.9850 -0.049114 -0.417594\n",
       "\n",
       "[64 rows x 3 columns]"
      ]
     },
     "execution_count": 11,
     "metadata": {},
     "output_type": "execute_result"
    }
   ],
   "source": [
    "Ffric_wing"
   ]
  },
  {
   "cell_type": "markdown",
   "id": "738c4ec2",
   "metadata": {},
   "source": [
    "Теперь получим сами силы давления"
   ]
  },
  {
   "cell_type": "code",
   "execution_count": 12,
   "id": "53ea20e4",
   "metadata": {},
   "outputs": [
    {
     "data": {
      "text/html": [
       "<div>\n",
       "<style scoped>\n",
       "    .dataframe tbody tr th:only-of-type {\n",
       "        vertical-align: middle;\n",
       "    }\n",
       "\n",
       "    .dataframe tbody tr th {\n",
       "        vertical-align: top;\n",
       "    }\n",
       "\n",
       "    .dataframe thead th {\n",
       "        text-align: right;\n",
       "    }\n",
       "</style>\n",
       "<table border=\"1\" class=\"dataframe\">\n",
       "  <thead>\n",
       "    <tr style=\"text-align: right;\">\n",
       "      <th></th>\n",
       "      <th>Fpx</th>\n",
       "      <th>Fpy</th>\n",
       "      <th>Fpz</th>\n",
       "    </tr>\n",
       "  </thead>\n",
       "  <tbody>\n",
       "    <tr>\n",
       "      <th>0</th>\n",
       "      <td>-313.6873</td>\n",
       "      <td>1320.475014</td>\n",
       "      <td>-106.700939</td>\n",
       "    </tr>\n",
       "    <tr>\n",
       "      <th>1</th>\n",
       "      <td>-44.1532</td>\n",
       "      <td>549.645995</td>\n",
       "      <td>-107.391008</td>\n",
       "    </tr>\n",
       "    <tr>\n",
       "      <th>2</th>\n",
       "      <td>-234.2918</td>\n",
       "      <td>-2884.458957</td>\n",
       "      <td>166.679490</td>\n",
       "    </tr>\n",
       "    <tr>\n",
       "      <th>3</th>\n",
       "      <td>-115.0485</td>\n",
       "      <td>-2753.416081</td>\n",
       "      <td>155.462794</td>\n",
       "    </tr>\n",
       "    <tr>\n",
       "      <th>4</th>\n",
       "      <td>-121.5107</td>\n",
       "      <td>-2158.306527</td>\n",
       "      <td>127.218187</td>\n",
       "    </tr>\n",
       "    <tr>\n",
       "      <th>...</th>\n",
       "      <td>...</td>\n",
       "      <td>...</td>\n",
       "      <td>...</td>\n",
       "    </tr>\n",
       "    <tr>\n",
       "      <th>59</th>\n",
       "      <td>-174.1217</td>\n",
       "      <td>-2876.475083</td>\n",
       "      <td>170.882490</td>\n",
       "    </tr>\n",
       "    <tr>\n",
       "      <th>60</th>\n",
       "      <td>-27.3283</td>\n",
       "      <td>-1210.004101</td>\n",
       "      <td>56.805749</td>\n",
       "    </tr>\n",
       "    <tr>\n",
       "      <th>61</th>\n",
       "      <td>-90.4689</td>\n",
       "      <td>962.192013</td>\n",
       "      <td>-141.602210</td>\n",
       "    </tr>\n",
       "    <tr>\n",
       "      <th>62</th>\n",
       "      <td>-261.1221</td>\n",
       "      <td>-2940.259842</td>\n",
       "      <td>201.089064</td>\n",
       "    </tr>\n",
       "    <tr>\n",
       "      <th>63</th>\n",
       "      <td>-133.4380</td>\n",
       "      <td>194.639114</td>\n",
       "      <td>-49.396906</td>\n",
       "    </tr>\n",
       "  </tbody>\n",
       "</table>\n",
       "<p>64 rows × 3 columns</p>\n",
       "</div>"
      ],
      "text/plain": [
       "         Fpx          Fpy         Fpz\n",
       "0  -313.6873  1320.475014 -106.700939\n",
       "1   -44.1532   549.645995 -107.391008\n",
       "2  -234.2918 -2884.458957  166.679490\n",
       "3  -115.0485 -2753.416081  155.462794\n",
       "4  -121.5107 -2158.306527  127.218187\n",
       "..       ...          ...         ...\n",
       "59 -174.1217 -2876.475083  170.882490\n",
       "60  -27.3283 -1210.004101   56.805749\n",
       "61  -90.4689   962.192013 -141.602210\n",
       "62 -261.1221 -2940.259842  201.089064\n",
       "63 -133.4380   194.639114  -49.396906\n",
       "\n",
       "[64 rows x 3 columns]"
      ]
     },
     "execution_count": 12,
     "metadata": {},
     "output_type": "execute_result"
    }
   ],
   "source": [
    "PressureForce = pd.DataFrame(columns=['Fpx', 'Fpy', 'Fpz'], \n",
    "                             data=F_wing.to_numpy() - Ffric_wing.to_numpy())\n",
    "PressureForce"
   ]
  },
  {
   "cell_type": "markdown",
   "id": "ab0f4699",
   "metadata": {},
   "source": [
    "# Шаг 3: безразмерные коэффициенты сил давления"
   ]
  },
  {
   "cell_type": "markdown",
   "id": "471f0e2b",
   "metadata": {},
   "source": [
    "Ранее мы получили чистые силы давления, действующие на крыло. Если обезразмерить их на скоростной напор, то мы получим наши безразмерные коэффициенты сил давления."
   ]
  },
  {
   "cell_type": "code",
   "execution_count": 13,
   "id": "02ba49f0",
   "metadata": {},
   "outputs": [
    {
     "data": {
      "text/html": [
       "<div>\n",
       "<style scoped>\n",
       "    .dataframe tbody tr th:only-of-type {\n",
       "        vertical-align: middle;\n",
       "    }\n",
       "\n",
       "    .dataframe tbody tr th {\n",
       "        vertical-align: top;\n",
       "    }\n",
       "\n",
       "    .dataframe thead th {\n",
       "        text-align: right;\n",
       "    }\n",
       "</style>\n",
       "<table border=\"1\" class=\"dataframe\">\n",
       "  <thead>\n",
       "    <tr style=\"text-align: right;\">\n",
       "      <th></th>\n",
       "      <th>Cx</th>\n",
       "      <th>Cy</th>\n",
       "      <th>Cz</th>\n",
       "    </tr>\n",
       "  </thead>\n",
       "  <tbody>\n",
       "    <tr>\n",
       "      <th>0</th>\n",
       "      <td>0.060631</td>\n",
       "      <td>-0.255226</td>\n",
       "      <td>0.020624</td>\n",
       "    </tr>\n",
       "    <tr>\n",
       "      <th>1</th>\n",
       "      <td>0.009677</td>\n",
       "      <td>-0.120468</td>\n",
       "      <td>0.023537</td>\n",
       "    </tr>\n",
       "    <tr>\n",
       "      <th>2</th>\n",
       "      <td>0.053245</td>\n",
       "      <td>0.655515</td>\n",
       "      <td>-0.037879</td>\n",
       "    </tr>\n",
       "    <tr>\n",
       "      <th>3</th>\n",
       "      <td>0.025136</td>\n",
       "      <td>0.601565</td>\n",
       "      <td>-0.033965</td>\n",
       "    </tr>\n",
       "    <tr>\n",
       "      <th>4</th>\n",
       "      <td>0.024752</td>\n",
       "      <td>0.439655</td>\n",
       "      <td>-0.025915</td>\n",
       "    </tr>\n",
       "    <tr>\n",
       "      <th>...</th>\n",
       "      <td>...</td>\n",
       "      <td>...</td>\n",
       "      <td>...</td>\n",
       "    </tr>\n",
       "    <tr>\n",
       "      <th>59</th>\n",
       "      <td>0.037456</td>\n",
       "      <td>0.618776</td>\n",
       "      <td>-0.036760</td>\n",
       "    </tr>\n",
       "    <tr>\n",
       "      <th>60</th>\n",
       "      <td>0.006067</td>\n",
       "      <td>0.268636</td>\n",
       "      <td>-0.012612</td>\n",
       "    </tr>\n",
       "    <tr>\n",
       "      <th>61</th>\n",
       "      <td>0.019521</td>\n",
       "      <td>-0.207618</td>\n",
       "      <td>0.030554</td>\n",
       "    </tr>\n",
       "    <tr>\n",
       "      <th>62</th>\n",
       "      <td>0.053480</td>\n",
       "      <td>0.602193</td>\n",
       "      <td>-0.041185</td>\n",
       "    </tr>\n",
       "    <tr>\n",
       "      <th>63</th>\n",
       "      <td>0.026552</td>\n",
       "      <td>-0.038730</td>\n",
       "      <td>0.009829</td>\n",
       "    </tr>\n",
       "  </tbody>\n",
       "</table>\n",
       "<p>64 rows × 3 columns</p>\n",
       "</div>"
      ],
      "text/plain": [
       "          Cx        Cy        Cz\n",
       "0   0.060631 -0.255226  0.020624\n",
       "1   0.009677 -0.120468  0.023537\n",
       "2   0.053245  0.655515 -0.037879\n",
       "3   0.025136  0.601565 -0.033965\n",
       "4   0.024752  0.439655 -0.025915\n",
       "..       ...       ...       ...\n",
       "59  0.037456  0.618776 -0.036760\n",
       "60  0.006067  0.268636 -0.012612\n",
       "61  0.019521 -0.207618  0.030554\n",
       "62  0.053480  0.602193 -0.041185\n",
       "63  0.026552 -0.038730  0.009829\n",
       "\n",
       "[64 rows x 3 columns]"
      ]
     },
     "execution_count": 13,
     "metadata": {},
     "output_type": "execute_result"
    }
   ],
   "source": [
    "PressureForceCoef = pd.DataFrame(columns=['Cx', 'Cy', 'Cz'],\n",
    "                                 data=PressureForce.to_numpy() / rhoV22S.reshape((rhoV22S.shape[0],1))\n",
    "                                )\n",
    "PressureForceCoef"
   ]
  },
  {
   "cell_type": "code",
   "execution_count": 40,
   "id": "e310e1ea",
   "metadata": {},
   "outputs": [],
   "source": [
    "PressureForceCoef.to_csv('./Pressure condtitioned Force Coefficients', index=True)"
   ]
  },
  {
   "cell_type": "markdown",
   "id": "38a4cd51",
   "metadata": {},
   "source": [
    "# Шаг 3.5 Update: Вычисление безразмерных коэффициентов сил, обусловленных И давлением, И трением, действующих на крыло"
   ]
  },
  {
   "cell_type": "markdown",
   "id": "02d19960",
   "metadata": {},
   "source": [
    "Теперь нам нужны коэффициенты $C_x, C_y, C_z$, обусловленные совместным действием сил давления и трения.\n",
    "Для получения этих значений сначала посчитаем суммарную силу сил давления и трения (по факту это уже посчитано) и разделим эту силу на скоростной напор"
   ]
  },
  {
   "cell_type": "code",
   "execution_count": 14,
   "id": "a85c1aab",
   "metadata": {},
   "outputs": [
    {
     "data": {
      "text/html": [
       "<div>\n",
       "<style scoped>\n",
       "    .dataframe tbody tr th:only-of-type {\n",
       "        vertical-align: middle;\n",
       "    }\n",
       "\n",
       "    .dataframe tbody tr th {\n",
       "        vertical-align: top;\n",
       "    }\n",
       "\n",
       "    .dataframe thead th {\n",
       "        text-align: right;\n",
       "    }\n",
       "</style>\n",
       "<table border=\"1\" class=\"dataframe\">\n",
       "  <thead>\n",
       "    <tr style=\"text-align: right;\">\n",
       "      <th></th>\n",
       "      <th>Cx</th>\n",
       "      <th>Cy</th>\n",
       "      <th>Cz</th>\n",
       "    </tr>\n",
       "  </thead>\n",
       "  <tbody>\n",
       "    <tr>\n",
       "      <th>0</th>\n",
       "      <td>0.065854</td>\n",
       "      <td>-0.255098</td>\n",
       "      <td>0.020532</td>\n",
       "    </tr>\n",
       "    <tr>\n",
       "      <th>1</th>\n",
       "      <td>0.014904</td>\n",
       "      <td>-0.120466</td>\n",
       "      <td>0.023590</td>\n",
       "    </tr>\n",
       "    <tr>\n",
       "      <th>2</th>\n",
       "      <td>0.057367</td>\n",
       "      <td>0.655394</td>\n",
       "      <td>-0.037323</td>\n",
       "    </tr>\n",
       "    <tr>\n",
       "      <th>3</th>\n",
       "      <td>0.030255</td>\n",
       "      <td>0.601479</td>\n",
       "      <td>-0.033865</td>\n",
       "    </tr>\n",
       "    <tr>\n",
       "      <th>4</th>\n",
       "      <td>0.029740</td>\n",
       "      <td>0.439572</td>\n",
       "      <td>-0.025899</td>\n",
       "    </tr>\n",
       "    <tr>\n",
       "      <th>...</th>\n",
       "      <td>...</td>\n",
       "      <td>...</td>\n",
       "      <td>...</td>\n",
       "    </tr>\n",
       "    <tr>\n",
       "      <th>59</th>\n",
       "      <td>0.042182</td>\n",
       "      <td>0.618695</td>\n",
       "      <td>-0.036511</td>\n",
       "    </tr>\n",
       "    <tr>\n",
       "      <th>60</th>\n",
       "      <td>0.011811</td>\n",
       "      <td>0.268593</td>\n",
       "      <td>-0.012749</td>\n",
       "    </tr>\n",
       "    <tr>\n",
       "      <th>61</th>\n",
       "      <td>0.024298</td>\n",
       "      <td>-0.207613</td>\n",
       "      <td>0.030788</td>\n",
       "    </tr>\n",
       "    <tr>\n",
       "      <th>62</th>\n",
       "      <td>0.058127</td>\n",
       "      <td>0.602050</td>\n",
       "      <td>-0.041006</td>\n",
       "    </tr>\n",
       "    <tr>\n",
       "      <th>63</th>\n",
       "      <td>0.031324</td>\n",
       "      <td>-0.038720</td>\n",
       "      <td>0.009912</td>\n",
       "    </tr>\n",
       "  </tbody>\n",
       "</table>\n",
       "<p>64 rows × 3 columns</p>\n",
       "</div>"
      ],
      "text/plain": [
       "          Cx        Cy        Cz\n",
       "0   0.065854 -0.255098  0.020532\n",
       "1   0.014904 -0.120466  0.023590\n",
       "2   0.057367  0.655394 -0.037323\n",
       "3   0.030255  0.601479 -0.033865\n",
       "4   0.029740  0.439572 -0.025899\n",
       "..       ...       ...       ...\n",
       "59  0.042182  0.618695 -0.036511\n",
       "60  0.011811  0.268593 -0.012749\n",
       "61  0.024298 -0.207613  0.030788\n",
       "62  0.058127  0.602050 -0.041006\n",
       "63  0.031324 -0.038720  0.009912\n",
       "\n",
       "[64 rows x 3 columns]"
      ]
     },
     "execution_count": 14,
     "metadata": {},
     "output_type": "execute_result"
    }
   ],
   "source": [
    "PressureForceCoef_by_PressAndFric = pd.DataFrame(columns=['Cx', 'Cy', 'Cz'],\n",
    "                                                 data=F_wing.to_numpy() / rhoV22S.reshape((rhoV22S.shape[0],1))\n",
    "                                                )\n",
    "PressureForceCoef_by_PressAndFric"
   ]
  },
  {
   "cell_type": "code",
   "execution_count": 15,
   "id": "121cdb13",
   "metadata": {},
   "outputs": [],
   "source": [
    "PressureForceCoef_by_PressAndFric.to_csv('./Pressure and Friction Conditioned Force Wing Coefficients', index=True)"
   ]
  },
  {
   "cell_type": "markdown",
   "id": "f9c80e3a",
   "metadata": {},
   "source": [
    "# Шаг 4: сравнение полученых значений с моими интегральными величинами"
   ]
  },
  {
   "cell_type": "code",
   "execution_count": 30,
   "id": "157df1f8",
   "metadata": {},
   "outputs": [
    {
     "name": "stderr",
     "output_type": "stream",
     "text": [
      "100%|██████████| 64/64 [00:00<00:00, 23884.28it/s]\n"
     ]
    }
   ],
   "source": [
    "#  считаем наши посчитанные данные\n",
    "AAA_df = pd.read_csv(\"./my_CxCyCz_lab\", index_col=0)\n",
    "my_Cx_n_lab = AAA_df['Cx']\n",
    "my_Cy_n_lab = AAA_df['Cy']\n",
    "my_Cz_n_lab = AAA_df['Cz']\n",
    "\n",
    "my_Cx_n_spd = np.zeros(sum_coefCxyz.shape[0])\n",
    "my_Cy_n_spd = np.zeros(sum_coefCxyz.shape[0])\n",
    "my_Cz_n_spd = np.zeros(sum_coefCxyz.shape[0])\n",
    "\n",
    "CICLES = sum_coefCxyz.shape[0]\n",
    "for i in tqdm(range(CICLES)):\n",
    "    Cx, Cy, Cz = sint.LabSys2SpdSys_CxCyCz(my_Cx_n_lab[i], my_Cy_n_lab[i], my_Cz_n_lab[i], \n",
    "                                           AngAt=regimes['alpha'][i], debug=False)\n",
    "    \n",
    "    my_Cx_n_spd[i] = Cx\n",
    "    my_Cy_n_spd[i] = Cy\n",
    "    my_Cz_n_spd[i] = Cz\n",
    "    \n",
    "MY_PressureForceCoef = pd.DataFrame(columns=['Cx', 'Cy', 'Cz'],\n",
    "                                    data=np.array([my_Cx_n_spd,my_Cy_n_spd,my_Cz_n_spd]).T)"
   ]
  },
  {
   "cell_type": "code",
   "execution_count": 31,
   "id": "fe9a0bf7",
   "metadata": {},
   "outputs": [
    {
     "data": {
      "text/html": [
       "<div>\n",
       "<style scoped>\n",
       "    .dataframe tbody tr th:only-of-type {\n",
       "        vertical-align: middle;\n",
       "    }\n",
       "\n",
       "    .dataframe tbody tr th {\n",
       "        vertical-align: top;\n",
       "    }\n",
       "\n",
       "    .dataframe thead th {\n",
       "        text-align: right;\n",
       "    }\n",
       "</style>\n",
       "<table border=\"1\" class=\"dataframe\">\n",
       "  <thead>\n",
       "    <tr style=\"text-align: right;\">\n",
       "      <th></th>\n",
       "      <th>Cx</th>\n",
       "      <th>Cy</th>\n",
       "      <th>Cz</th>\n",
       "    </tr>\n",
       "  </thead>\n",
       "  <tbody>\n",
       "    <tr>\n",
       "      <th>0</th>\n",
       "      <td>0.083398</td>\n",
       "      <td>-0.298906</td>\n",
       "      <td>0.149321</td>\n",
       "    </tr>\n",
       "    <tr>\n",
       "      <th>1</th>\n",
       "      <td>0.024050</td>\n",
       "      <td>-0.136088</td>\n",
       "      <td>0.131233</td>\n",
       "    </tr>\n",
       "    <tr>\n",
       "      <th>2</th>\n",
       "      <td>0.080494</td>\n",
       "      <td>0.784640</td>\n",
       "      <td>0.152704</td>\n",
       "    </tr>\n",
       "    <tr>\n",
       "      <th>3</th>\n",
       "      <td>0.046048</td>\n",
       "      <td>0.701913</td>\n",
       "      <td>0.134848</td>\n",
       "    </tr>\n",
       "    <tr>\n",
       "      <th>4</th>\n",
       "      <td>0.043631</td>\n",
       "      <td>0.510899</td>\n",
       "      <td>0.132618</td>\n",
       "    </tr>\n",
       "    <tr>\n",
       "      <th>...</th>\n",
       "      <td>...</td>\n",
       "      <td>...</td>\n",
       "      <td>...</td>\n",
       "    </tr>\n",
       "    <tr>\n",
       "      <th>59</th>\n",
       "      <td>0.060453</td>\n",
       "      <td>0.723859</td>\n",
       "      <td>0.138587</td>\n",
       "    </tr>\n",
       "    <tr>\n",
       "      <th>60</th>\n",
       "      <td>0.021536</td>\n",
       "      <td>0.316106</td>\n",
       "      <td>0.123653</td>\n",
       "    </tr>\n",
       "    <tr>\n",
       "      <th>61</th>\n",
       "      <td>0.035199</td>\n",
       "      <td>-0.238177</td>\n",
       "      <td>0.135942</td>\n",
       "    </tr>\n",
       "    <tr>\n",
       "      <th>62</th>\n",
       "      <td>0.078851</td>\n",
       "      <td>0.708251</td>\n",
       "      <td>0.144728</td>\n",
       "    </tr>\n",
       "    <tr>\n",
       "      <th>63</th>\n",
       "      <td>0.043087</td>\n",
       "      <td>-0.046261</td>\n",
       "      <td>0.133550</td>\n",
       "    </tr>\n",
       "  </tbody>\n",
       "</table>\n",
       "<p>64 rows × 3 columns</p>\n",
       "</div>"
      ],
      "text/plain": [
       "          Cx        Cy        Cz\n",
       "0   0.083398 -0.298906  0.149321\n",
       "1   0.024050 -0.136088  0.131233\n",
       "2   0.080494  0.784640  0.152704\n",
       "3   0.046048  0.701913  0.134848\n",
       "4   0.043631  0.510899  0.132618\n",
       "..       ...       ...       ...\n",
       "59  0.060453  0.723859  0.138587\n",
       "60  0.021536  0.316106  0.123653\n",
       "61  0.035199 -0.238177  0.135942\n",
       "62  0.078851  0.708251  0.144728\n",
       "63  0.043087 -0.046261  0.133550\n",
       "\n",
       "[64 rows x 3 columns]"
      ]
     },
     "execution_count": 31,
     "metadata": {},
     "output_type": "execute_result"
    }
   ],
   "source": [
    "PressureForceCoef"
   ]
  },
  {
   "cell_type": "code",
   "execution_count": 32,
   "id": "ec49220e",
   "metadata": {},
   "outputs": [
    {
     "data": {
      "text/html": [
       "<div>\n",
       "<style scoped>\n",
       "    .dataframe tbody tr th:only-of-type {\n",
       "        vertical-align: middle;\n",
       "    }\n",
       "\n",
       "    .dataframe tbody tr th {\n",
       "        vertical-align: top;\n",
       "    }\n",
       "\n",
       "    .dataframe thead th {\n",
       "        text-align: right;\n",
       "    }\n",
       "</style>\n",
       "<table border=\"1\" class=\"dataframe\">\n",
       "  <thead>\n",
       "    <tr style=\"text-align: right;\">\n",
       "      <th></th>\n",
       "      <th>Cx</th>\n",
       "      <th>Cy</th>\n",
       "      <th>Cz</th>\n",
       "    </tr>\n",
       "  </thead>\n",
       "  <tbody>\n",
       "    <tr>\n",
       "      <th>0</th>\n",
       "      <td>0.059316</td>\n",
       "      <td>-0.251068</td>\n",
       "      <td>0.019553</td>\n",
       "    </tr>\n",
       "    <tr>\n",
       "      <th>1</th>\n",
       "      <td>0.008998</td>\n",
       "      <td>-0.118338</td>\n",
       "      <td>0.022502</td>\n",
       "    </tr>\n",
       "    <tr>\n",
       "      <th>2</th>\n",
       "      <td>0.055297</td>\n",
       "      <td>0.645895</td>\n",
       "      <td>-0.032265</td>\n",
       "    </tr>\n",
       "    <tr>\n",
       "      <th>3</th>\n",
       "      <td>0.028154</td>\n",
       "      <td>0.592261</td>\n",
       "      <td>-0.027000</td>\n",
       "    </tr>\n",
       "    <tr>\n",
       "      <th>4</th>\n",
       "      <td>0.026495</td>\n",
       "      <td>0.432933</td>\n",
       "      <td>-0.021124</td>\n",
       "    </tr>\n",
       "    <tr>\n",
       "      <th>...</th>\n",
       "      <td>...</td>\n",
       "      <td>...</td>\n",
       "      <td>...</td>\n",
       "    </tr>\n",
       "    <tr>\n",
       "      <th>59</th>\n",
       "      <td>0.040119</td>\n",
       "      <td>0.609278</td>\n",
       "      <td>-0.030135</td>\n",
       "    </tr>\n",
       "    <tr>\n",
       "      <th>60</th>\n",
       "      <td>0.006485</td>\n",
       "      <td>0.264588</td>\n",
       "      <td>-0.010445</td>\n",
       "    </tr>\n",
       "    <tr>\n",
       "      <th>61</th>\n",
       "      <td>0.018805</td>\n",
       "      <td>-0.203956</td>\n",
       "      <td>0.029541</td>\n",
       "    </tr>\n",
       "    <tr>\n",
       "      <th>62</th>\n",
       "      <td>0.055804</td>\n",
       "      <td>0.592834</td>\n",
       "      <td>-0.034673</td>\n",
       "    </tr>\n",
       "    <tr>\n",
       "      <th>63</th>\n",
       "      <td>0.025649</td>\n",
       "      <td>-0.038078</td>\n",
       "      <td>0.009373</td>\n",
       "    </tr>\n",
       "  </tbody>\n",
       "</table>\n",
       "<p>64 rows × 3 columns</p>\n",
       "</div>"
      ],
      "text/plain": [
       "          Cx        Cy        Cz\n",
       "0   0.059316 -0.251068  0.019553\n",
       "1   0.008998 -0.118338  0.022502\n",
       "2   0.055297  0.645895 -0.032265\n",
       "3   0.028154  0.592261 -0.027000\n",
       "4   0.026495  0.432933 -0.021124\n",
       "..       ...       ...       ...\n",
       "59  0.040119  0.609278 -0.030135\n",
       "60  0.006485  0.264588 -0.010445\n",
       "61  0.018805 -0.203956  0.029541\n",
       "62  0.055804  0.592834 -0.034673\n",
       "63  0.025649 -0.038078  0.009373\n",
       "\n",
       "[64 rows x 3 columns]"
      ]
     },
     "execution_count": 32,
     "metadata": {},
     "output_type": "execute_result"
    }
   ],
   "source": [
    "MY_PressureForceCoef"
   ]
  },
  {
   "cell_type": "code",
   "execution_count": 37,
   "id": "abd70291",
   "metadata": {},
   "outputs": [
    {
     "name": "stdout",
     "output_type": "stream",
     "text": [
      "MAE = 0.004257842847136817\n",
      "RMSE = 0.0017076127086115215\n"
     ]
    },
    {
     "data": {
      "image/png": "[encoded data removed]",
      "text/plain": [
       "<Figure size 432x288 with 1 Axes>"
      ]
     },
     "metadata": {
      "needs_background": "light"
     },
     "output_type": "display_data"
    },
    {
     "data": {
      "image/png": "[encoded data removed]",
      "text/plain": [
       "<Figure size 432x288 with 1 Axes>"
      ]
     },
     "metadata": {
      "needs_background": "light"
     },
     "output_type": "display_data"
    }
   ],
   "source": [
    "#Cx\n",
    "print(f\"MAE = {np.max(np.abs(MY_PressureForceCoef['Cx'] - PressureForceCoef['Cx']))}\")\n",
    "print(f\"RMSE = {np.sqrt(np.mean((np.abs(MY_PressureForceCoef['Cx'] - PressureForceCoef['Cx']))**2))}\")\n",
    "\n",
    "plt.plot(MY_PressureForceCoef['Cx'], color='blue', label='my')\n",
    "plt.plot(PressureForceCoef['Cx'], color='green', label='res')\n",
    "plt.grid()\n",
    "plt.legend()\n",
    "plt.show()\n",
    "\n",
    "plt.plot(np.abs(MY_PressureForceCoef['Cx'] - PressureForceCoef['Cx']), color='black', label='dif')\n",
    "plt.ylim(-0.0, 0.14)\n",
    "plt.legend()\n",
    "plt.grid()"
   ]
  },
  {
   "cell_type": "code",
   "execution_count": 38,
   "id": "d61d35af",
   "metadata": {},
   "outputs": [
    {
     "name": "stdout",
     "output_type": "stream",
     "text": [
      "MAE = 0.012514135311404773\n",
      "RMSE = 0.006855899907759874\n"
     ]
    },
    {
     "data": {
      "image/png": "[encoded data removed]",
      "text/plain": [
       "<Figure size 432x288 with 1 Axes>"
      ]
     },
     "metadata": {
      "needs_background": "light"
     },
     "output_type": "display_data"
    },
    {
     "data": {
      "image/png": "[encoded data removed]",
      "text/plain": [
       "<Figure size 432x288 with 1 Axes>"
      ]
     },
     "metadata": {
      "needs_background": "light"
     },
     "output_type": "display_data"
    }
   ],
   "source": [
    "#Cy\n",
    "print(f\"MAE = {np.max(np.abs(MY_PressureForceCoef['Cy'] - PressureForceCoef['Cy']))}\")\n",
    "print(f\"RMSE = {np.sqrt(np.mean((np.abs(MY_PressureForceCoef['Cy'] - PressureForceCoef['Cy']))**2))}\")\n",
    "\n",
    "\n",
    "plt.plot(MY_PressureForceCoef['Cy'], color='blue', label='my')\n",
    "plt.plot(PressureForceCoef['Cy'], color='green', label='res')\n",
    "plt.grid()\n",
    "plt.legend()\n",
    "plt.show()\n",
    "\n",
    "plt.plot(np.abs(MY_PressureForceCoef['Cy'] - PressureForceCoef['Cy']), color='black', label='dif')\n",
    "plt.ylim(-0.0, 0.2)\n",
    "plt.legend()\n",
    "plt.grid()"
   ]
  },
  {
   "cell_type": "code",
   "execution_count": 39,
   "id": "24d049e7",
   "metadata": {},
   "outputs": [
    {
     "name": "stdout",
     "output_type": "stream",
     "text": [
      "MAE = 0.011194292556991302\n",
      "RMSE = 0.0046045326260522245\n"
     ]
    },
    {
     "data": {
      "image/png": "[encoded data removed]",
      "text/plain": [
       "<Figure size 432x288 with 1 Axes>"
      ]
     },
     "metadata": {
      "needs_background": "light"
     },
     "output_type": "display_data"
    },
    {
     "data": {
      "image/png": "[encoded data removed]",
      "text/plain": [
       "<Figure size 432x288 with 1 Axes>"
      ]
     },
     "metadata": {
      "needs_background": "light"
     },
     "output_type": "display_data"
    }
   ],
   "source": [
    "#Cz\n",
    "print(f\"MAE = {np.max(np.abs(MY_PressureForceCoef['Cz'] - PressureForceCoef['Cz']))}\")\n",
    "print(f\"RMSE = {np.sqrt(np.mean((np.abs(MY_PressureForceCoef['Cz'] - PressureForceCoef['Cz']))**2))}\")\n",
    "\n",
    "\n",
    "plt.plot(MY_PressureForceCoef['Cz'], color='blue', label='my')\n",
    "plt.plot(PressureForceCoef['Cz'], color='green', label='res')\n",
    "plt.grid()\n",
    "plt.legend()\n",
    "plt.show()\n",
    "\n",
    "plt.plot(np.abs(MY_PressureForceCoef['Cz'] - PressureForceCoef['Cz']), color='black', label='dif')\n",
    "plt.ylim(-0.0, 0.5)\n",
    "plt.legend()\n",
    "plt.grid()"
   ]
  },
  {
   "cell_type": "markdown",
   "id": "3c1ccc27",
   "metadata": {},
   "source": [
    "Отлично! Задача решена!"
   ]
  }
 ],
 "metadata": {
  "kernelspec": {
   "display_name": "Python 3",
   "language": "python",
   "name": "python3"
  },
  "language_info": {
   "codemirror_mode": {
    "name": "ipython",
    "version": 3
   },
   "file_extension": ".py",
   "mimetype": "text/x-python",
   "name": "python",
   "nbconvert_exporter": "python",
   "pygments_lexer": "ipython3",
   "version": "3.8.8"
  }
 },
 "nbformat": 4,
 "nbformat_minor": 5
}
